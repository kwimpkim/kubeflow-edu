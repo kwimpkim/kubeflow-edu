{
 "cells": [
  {
   "cell_type": "markdown",
   "metadata": {
    "tags": []
   },
   "source": [
    "# Katib 실습\n",
    "katib을 사용하여 training code `01-covid19-katib-train.py`를 hyper parameter tunning한다"
   ]
  },
  {
   "cell_type": "markdown",
   "metadata": {
    "tags": []
   },
   "source": [
    "# 사전준비1. Base Image\n",
    "Host에 ssh 접속하여 아래와 같이 docker build하고 push한다\n",
    "\n",
    "```sh\n",
    "cat << EOF > Dockerfile.kf-base\n",
    "FROM ubuntu:18.04\n",
    "ARG DEBIAN_FRONTEND=noninteractive\n",
    "\n",
    "RUN apt-get update && \\\n",
    "    apt-get install -y python3 python3-pip python3-dev ffmpeg libsm6 libxext6 \n",
    "\n",
    "RUN  pip3 install --upgrade pip && \\\n",
    "     pip install \\\n",
    "        tensorflow \\\n",
    "        sklearn \\\n",
    "        opencv-python \\   \n",
    "        pillow \\\n",
    "        minio\n",
    "EOF\n",
    "```\n",
    "\n",
    "```sh\n",
    "# docker build script\n",
    "REGISTRY=registry.kube-system.svc.cluster.local:30000\n",
    "TAG=$REGISTRY/kf-base:latest\n",
    "\n",
    "docker build -f Dockerfile.kf-base -t $TAG . && \\\n",
    "docker push $TAG\n",
    "```"
   ]
  },
  {
   "cell_type": "markdown",
   "metadata": {
    "tags": []
   },
   "source": [
    "# 사전준비2. s3 repository(Minio)에 training data 적재\n",
    "- Minio 레파지토리에 model bucet 생성\n",
    "- Covid19 데이터셋 다운로드\n",
    "- Covid19 데이터셋을 Minio에 업로드\n",
    "- 첨부: 00-uploadDataset-covid19.sh"
   ]
  },
  {
   "cell_type": "code",
   "execution_count": 1,
   "metadata": {},
   "outputs": [
    {
     "name": "stdout",
     "output_type": "stream",
     "text": [
      "\n",
      "========================================\n",
      "Minio Cli 설치\n",
      "----------------------------------------\n",
      "\n",
      "/usr/bin/mc\n",
      "\u001b[m\u001b[32mAdded `myminio` successfully.\u001b[0m\n",
      "\u001b[0m\n",
      "========================================\n",
      "Covid19 데이터셋 다운로드\n",
      "----------------------------------------\n",
      "\n",
      "Cloning into 'Covid19-X-Rays'...\n",
      "remote: Enumerating objects: 239, done.\u001b[K\n",
      "remote: Total 239 (delta 0), reused 0 (delta 0), pack-reused 239\u001b[K\n",
      "Receiving objects: 100% (239/239), 74.15 MiB | 23.10 MiB/s, done.\n",
      "\n",
      "========================================\n",
      "Covid19 데이터셋을 Minio에 업로드\n",
      "----------------------------------------\n",
      "\n",
      "\u001b[m\u001b[32m[2021-03-14 19:46:13 UTC]\u001b[0m\u001b[33m     0B\u001b[0m\u001b[36;1m test/\u001b[0m\n",
      "\u001b[0m\u001b[m\u001b[32m[2021-03-14 19:46:13 UTC]\u001b[0m\u001b[33m     0B\u001b[0m\u001b[36;1m train/\u001b[0m\n",
      "...4854.jpeg:  75.02 MiB / 75.02 MiB ┃▓▓▓▓▓▓▓▓▓▓▓▓▓▓▓▓▓▓▓▓▓▓▓▓▓▓┃ 63.04 MiB/s 1s\u001b[0m\u001b[0m\u001b[m\u001b[32;1m\u001b[m\u001b[32;1m\u001b[m\u001b[32;1m\u001b[m\u001b[32;1m\u001b[m\u001b[32;1m\u001b[m\u001b[32;1m\u001b[m\u001b[32;1m\u001b[m\u001b[32;1m\n",
      "========================================\n",
      "완료\n",
      "----------------------------------------\n",
      "\n"
     ]
    }
   ],
   "source": [
    "! ../01-prerequisite/00-uploadDataset-covid19.sh"
   ]
  },
  {
   "cell_type": "markdown",
   "metadata": {
    "tags": []
   },
   "source": [
    "- Mino bucket 확인\n",
    "  - http://<vm외부IP>:32001/minio/dataset/covid19/"
   ]
  },
  {
   "cell_type": "markdown",
   "metadata": {
    "tags": []
   },
   "source": [
    "# Step 1. Hyperparamer 수행할 로직을 Containerizing"
   ]
  },
  {
   "cell_type": "markdown",
   "metadata": {
    "tags": []
   },
   "source": [
    "### docker 명령으로 build\n",
    "**VM에 ssh 접속**하여 `01-covid19-katib-train.py`를 업로드한 후\n",
    "\n",
    "사전준비에서 마련한 Base Image를 이용하여 아래와 같이 docker build하고 push한다\n",
    "\n",
    "```sh\n",
    "# docker build script\n",
    "REGISTRY=registry.kube-system.svc.cluster.local:30000\n",
    "TAG=$REGISTRY/covid19-katib-job:latest\n",
    "\n",
    "cat << EOF > Dockerfile.covid \n",
    "FROM $REGISTRY/kf-base:latest\n",
    "COPY 01-covid19-katib-train.py /app/\n",
    "CMD [\"python3\", \"/app/01-covid19-katib-train.py\"]\n",
    "EOF\n",
    "\n",
    "docker build -f Dockerfile.covid -t $TAG . && \\\n",
    "docker push $TAG\n",
    "```"
   ]
  },
  {
   "cell_type": "markdown",
   "metadata": {
    "tags": []
   },
   "source": [
    "# Step 2. Katib 실행\n",
    "\n",
    "```yaml\n",
    "apiVersion: \"kubeflow.org/v1alpha3\"\n",
    "kind: Experiment\n",
    "...\n",
    "spec:\n",
    "...\n",
    "  trialTemplate:\n",
    "    goTemplate:\n",
    "...\n",
    "          spec:\n",
    "            template:\n",
    "              spec:\n",
    "                containers:\n",
    "                - name: {{.Trial}}\n",
    "                  image: registry.kube-system.svc.cluster.local:30000/katib-job:latest  # 여기를 수정\n",
    "```"
   ]
  },
  {
   "cell_type": "markdown",
   "metadata": {
    "tags": []
   },
   "source": [
    "### 방법 1. kubectl로 apply\n",
    "Host에 ssh 접속하여 아래와 같이 kubectl apply 실행\n",
    "```sh\n",
    "kubectl apply -f 03-covid19-katib-random.yaml\n",
    "```"
   ]
  },
  {
   "cell_type": "markdown",
   "metadata": {
    "tags": []
   },
   "source": [
    "### 방법 2. katib UI에서 submit\n",
    "katib UI의 submit 화면에서 `03-covid19-katib-random.yaml` 내용을 copy & paste하고 submit 버튼 클릭"
   ]
  }
 ],
 "metadata": {
  "kernelspec": {
   "display_name": "Python 3",
   "language": "python",
   "name": "python3"
  },
  "kubeflow_notebook": {
   "autosnapshot": false,
   "docker_image": "reddiana/jupyterlab-kale:latest",
   "experiment": {
    "id": "",
    "name": ""
   },
   "experiment_name": "",
   "katib_metadata": {
    "algorithm": {
     "algorithmName": "grid"
    },
    "maxFailedTrialCount": 3,
    "maxTrialCount": 12,
    "objective": {
     "objectiveMetricName": "",
     "type": "minimize"
    },
    "parallelTrialCount": 3,
    "parameters": []
   },
   "katib_run": false,
   "pipeline_description": "",
   "pipeline_name": "",
   "snapshot_volumes": false,
   "steps_defaults": [],
   "volumes": []
  },
  "language_info": {
   "codemirror_mode": {
    "name": "ipython",
    "version": 3
   },
   "file_extension": ".py",
   "mimetype": "text/x-python",
   "name": "python",
   "nbconvert_exporter": "python",
   "pygments_lexer": "ipython3",
   "version": "3.6.9"
  },
  "toc-autonumbering": false,
  "toc-showtags": false
 },
 "nbformat": 4,
 "nbformat_minor": 4
}
