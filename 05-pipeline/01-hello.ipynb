{
 "cells": [
  {
   "cell_type": "markdown",
   "metadata": {
    "tags": []
   },
   "source": [
    "# Pipeline SDK"
   ]
  },
  {
   "cell_type": "code",
   "execution_count": 1,
   "metadata": {
    "tags": []
   },
   "outputs": [],
   "source": [
    "import kfp\n",
    "\n",
    "@kfp.dsl.pipeline(name='my-pipeline_1207-0027', description='Hello How do you do')\n",
    "def hello_pipeline():\n",
    "    train_task = hello_component()\n",
    "\n",
    "@kfp.dsl.component\n",
    "def hello_component():\n",
    "    return kfp.dsl.ContainerOp(\n",
    "        name='my-ContainerOp',\n",
    "        image='docker.io/kubeflowkatib/mxnet-mnist:v0.13.0-rc.1'\n",
    "    )    "
   ]
  },
  {
   "cell_type": "markdown",
   "metadata": {
    "tags": []
   },
   "source": [
    "# Pipeline 컴파일"
   ]
  },
  {
   "cell_type": "code",
   "execution_count": 2,
   "metadata": {
    "tags": []
   },
   "outputs": [
    {
     "name": "stderr",
     "output_type": "stream",
     "text": [
      "/opt/conda/lib/python3.8/site-packages/kfp/dsl/_container_op.py:1257: FutureWarning: Please create reusable components instead of constructing ContainerOp instances directly. Reusable components are shareable, portable and have compatibility and support guarantees. Please see the documentation: https://www.kubeflow.org/docs/pipelines/sdk/component-development/#writing-your-component-definition-file The components can be created manually (or, in case of python, using kfp.components.create_component_from_func or func_to_container_op) and then loaded using kfp.components.load_component_from_file, load_component_from_uri or load_component_from_text: https://kubeflow-pipelines.readthedocs.io/en/stable/source/kfp.components.html#kfp.components.load_component_from_file\n",
      "  warnings.warn(\n"
     ]
    }
   ],
   "source": [
    "kfp.compiler.Compiler().compile(hello_pipeline, 'my_pipeline.zip')"
   ]
  },
  {
   "cell_type": "code",
   "execution_count": 3,
   "metadata": {},
   "outputs": [
    {
     "name": "stdout",
     "output_type": "stream",
     "text": [
      "-rw-r--r-- 1 jovyan users 573 Feb 21 09:44 my_pipeline.zip\n"
     ]
    }
   ],
   "source": [
    "! ls -l my_pipeline.zip"
   ]
  },
  {
   "cell_type": "code",
   "execution_count": 4,
   "metadata": {
    "tags": []
   },
   "outputs": [
    {
     "name": "stdout",
     "output_type": "stream",
     "text": [
      "Archive:  my_pipeline.zip\n",
      "  Length      Date    Time    Name\n",
      "---------  ---------- -----   ----\n",
      "     1040  1980-01-01 00:00   pipeline.yaml\n",
      "---------                     -------\n",
      "     1040                     1 file\n"
     ]
    }
   ],
   "source": [
    "! unzip -l my_pipeline.zip"
   ]
  },
  {
   "cell_type": "code",
   "execution_count": 5,
   "metadata": {},
   "outputs": [
    {
     "name": "stdout",
     "output_type": "stream",
     "text": [
      "apiVersion: argoproj.io/v1alpha1\n",
      "kind: Workflow\n",
      "metadata:\n",
      "  generateName: my-pipeline-1207-0027-\n",
      "  annotations: {pipelines.kubeflow.org/kfp_sdk_version: 1.8.11, pipelines.kubeflow.org/pipeline_compilation_time: '2022-02-21T09:44:36.481194',\n",
      "    pipelines.kubeflow.org/pipeline_spec: '{\"description\": \"Hello How do you do\",\n",
      "      \"name\": \"my-pipeline_1207-0027\"}'}\n",
      "  labels: {pipelines.kubeflow.org/kfp_sdk_version: 1.8.11}\n",
      "spec:\n",
      "  entrypoint: my-pipeline-1207-0027\n",
      "  templates:\n",
      "  - name: my-containerop\n",
      "    container: {image: 'docker.io/kubeflowkatib/mxnet-mnist:v0.13.0-rc.1'}\n",
      "    metadata:\n",
      "      labels:\n",
      "        pipelines.kubeflow.org/kfp_sdk_version: 1.8.11\n",
      "        pipelines.kubeflow.org/pipeline-sdk-type: kfp\n",
      "        pipelines.kubeflow.org/enable_caching: \"true\"\n",
      "      annotations: {pipelines.kubeflow.org/component_spec: '{\"name\": \"Hello component\"}'}\n",
      "  - name: my-pipeline-1207-0027\n",
      "    dag:\n",
      "      tasks:\n",
      "      - {name: my-containerop, template: my-containerop}\n",
      "  arguments:\n",
      "    parameters: []\n",
      "  serviceAccountName: pipeline-runner\n"
     ]
    }
   ],
   "source": [
    "! unzip -p my_pipeline.zip"
   ]
  },
  {
   "cell_type": "markdown",
   "metadata": {
    "tags": []
   },
   "source": [
    "# Pipeline Experiment"
   ]
  },
  {
   "cell_type": "code",
   "execution_count": 6,
   "metadata": {
    "tags": []
   },
   "outputs": [
    {
     "data": {
      "text/html": [
       "<a href=\"/pipeline/#/experiments/details/ce3f0a25-52f5-4b95-b659-a8290e378ffe\" target=\"_blank\" >Experiment details</a>."
      ],
      "text/plain": [
       "<IPython.core.display.HTML object>"
      ]
     },
     "metadata": {},
     "output_type": "display_data"
    }
   ],
   "source": [
    "client = kfp.Client()\n",
    "\n",
    "my_experiment = client.create_experiment(\n",
    "    name='My first Experiment' # Experiment name\n",
    ")"
   ]
  },
  {
   "cell_type": "markdown",
   "metadata": {
    "tags": []
   },
   "source": [
    "# Pipeline 실행"
   ]
  },
  {
   "cell_type": "code",
   "execution_count": 7,
   "metadata": {},
   "outputs": [
    {
     "data": {
      "text/html": [
       "<a href=\"/pipeline/#/runs/details/6a7f2d0b-9fb8-4acf-8069-8feb428d66a6\" target=\"_blank\" >Run details</a>."
      ],
      "text/plain": [
       "<IPython.core.display.HTML object>"
      ]
     },
     "metadata": {},
     "output_type": "display_data"
    }
   ],
   "source": [
    "my_run = client.run_pipeline(\n",
    "    my_experiment.id, \n",
    "    'oh_my_experiment', # Run name\n",
    "    'my_pipeline.zip'\n",
    ")"
   ]
  },
  {
   "cell_type": "code",
   "execution_count": null,
   "metadata": {},
   "outputs": [],
   "source": []
  }
 ],
 "metadata": {
  "kernelspec": {
   "display_name": "Python 3",
   "language": "python",
   "name": "python3"
  },
  "kubeflow_notebook": {
   "autosnapshot": false,
   "docker_image": "reddiana/jupyterlab-kale:0.0.9",
   "experiment": {
    "id": "",
    "name": ""
   },
   "experiment_name": "",
   "katib_metadata": {
    "algorithm": {
     "algorithmName": "grid"
    },
    "maxFailedTrialCount": 3,
    "maxTrialCount": 12,
    "objective": {
     "objectiveMetricName": "",
     "type": "minimize"
    },
    "parallelTrialCount": 3,
    "parameters": []
   },
   "katib_run": false,
   "pipeline_description": "",
   "pipeline_name": "",
   "snapshot_volumes": false,
   "steps_defaults": [],
   "volumes": []
  },
  "language_info": {
   "codemirror_mode": {
    "name": "ipython",
    "version": 3
   },
   "file_extension": ".py",
   "mimetype": "text/x-python",
   "name": "python",
   "nbconvert_exporter": "python",
   "pygments_lexer": "ipython3",
   "version": "3.8.10"
  }
 },
 "nbformat": 4,
 "nbformat_minor": 4
}
