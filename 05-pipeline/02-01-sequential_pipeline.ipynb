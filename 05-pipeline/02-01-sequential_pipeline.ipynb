{
 "cells": [
  {
   "cell_type": "code",
   "execution_count": null,
   "metadata": {},
   "outputs": [],
   "source": []
  },
  {
   "cell_type": "code",
   "execution_count": 1,
   "metadata": {},
   "outputs": [],
   "source": [
    "python_code = '''\n",
    "import random\n",
    "result = 'heads' if random.randint(0,1) == 0 else 'tails'\n",
    "print(result)\n",
    "\n",
    "import time\n",
    "time.sleep(20)\n",
    "'''"
   ]
  },
  {
   "cell_type": "code",
   "execution_count": 2,
   "metadata": {
    "tags": []
   },
   "outputs": [],
   "source": [
    "import kfp\n",
    "from kfp import dsl\n",
    "\n",
    "@dsl.pipeline(name='Sequential pipeline', description='A pipeline with two sequential steps.')\n",
    "def sequential_pipeline():\n",
    "    flip = flip_coin_op()\n",
    "    print_op(flip.output)\n",
    "\n",
    "def flip_coin_op():\n",
    "    return dsl.ContainerOp(\n",
    "        name='Flip coin',\n",
    "        image='python:alpine3.6',\n",
    "        command=['sh', '-c'],\n",
    "        arguments=[f'python -c \"{python_code}\" | tee /tmp/output'],\n",
    "        file_outputs={'output': '/tmp/output'}\n",
    "    )\n",
    "\n",
    "def print_op(msg):\n",
    "    return dsl.ContainerOp(\n",
    "        name='Print',\n",
    "        image='alpine:3.6',\n",
    "        command=['echo', msg],\n",
    "    )"
   ]
  },
  {
   "cell_type": "code",
   "execution_count": 3,
   "metadata": {},
   "outputs": [
    {
     "name": "stderr",
     "output_type": "stream",
     "text": [
      "/home/jovyan/.local/lib/python3.6/site-packages/kfp/dsl/_container_op.py:1039: FutureWarning: Please create reusable components instead of constructing ContainerOp instances directly. Reusable components are shareable, portable and have compatibility and support guarantees. Please see the documentation: https://www.kubeflow.org/docs/pipelines/sdk/component-development/#writing-your-component-definition-file The components can be created manually (or, in case of python, using kfp.components.create_component_from_func or func_to_container_op) and then loaded using kfp.components.load_component_from_file, load_component_from_uri or load_component_from_text: https://kubeflow-pipelines.readthedocs.io/en/stable/source/kfp.components.html#kfp.components.load_component_from_file\n",
      "  category=FutureWarning,\n"
     ]
    },
    {
     "data": {
      "text/html": [
       "<a href=\"/pipeline/#/experiments/details/8b085980-d8a5-4045-aece-6abef9d6a330\" target=\"_blank\" >Experiment details</a>."
      ],
      "text/plain": [
       "<IPython.core.display.HTML object>"
      ]
     },
     "metadata": {},
     "output_type": "display_data"
    },
    {
     "data": {
      "text/html": [
       "<a href=\"/pipeline/#/runs/details/35fdc8e7-bab4-4c92-8f6d-b3a0f17f960f\" target=\"_blank\" >Run details</a>."
      ],
      "text/plain": [
       "<IPython.core.display.HTML object>"
      ]
     },
     "metadata": {},
     "output_type": "display_data"
    }
   ],
   "source": [
    "pipelineGzFile = 'hahahoho.zip'\n",
    "\n",
    "kfp.compiler.Compiler().compile(\n",
    "    sequential_pipeline,\n",
    "    pipelineGzFile\n",
    ")\n",
    "\n",
    "client = kfp.Client()\n",
    "my_exp = client.create_experiment(\n",
    "    name='Basic Experiment'\n",
    ")\n",
    "my_run = client.run_pipeline(\n",
    "    my_exp.id,\n",
    "    'Sequential pipeline', \n",
    "    pipelineGzFile\n",
    ")"
   ]
  },
  {
   "cell_type": "code",
   "execution_count": null,
   "metadata": {},
   "outputs": [],
   "source": []
  }
 ],
 "metadata": {
  "kernelspec": {
   "display_name": "Python 3",
   "language": "python",
   "name": "python3"
  },
  "kubeflow_notebook": {
   "autosnapshot": false,
   "docker_image": "reddiana/jupyterlab-kale:0.0.9",
   "experiment": {
    "id": "",
    "name": ""
   },
   "experiment_name": "",
   "katib_metadata": {
    "algorithm": {
     "algorithmName": "grid"
    },
    "maxFailedTrialCount": 3,
    "maxTrialCount": 12,
    "objective": {
     "objectiveMetricName": "",
     "type": "minimize"
    },
    "parallelTrialCount": 3,
    "parameters": []
   },
   "katib_run": false,
   "pipeline_description": "",
   "pipeline_name": "",
   "snapshot_volumes": false,
   "steps_defaults": [],
   "volumes": []
  },
  "language_info": {
   "codemirror_mode": {
    "name": "ipython",
    "version": 3
   },
   "file_extension": ".py",
   "mimetype": "text/x-python",
   "name": "python",
   "nbconvert_exporter": "python",
   "pygments_lexer": "ipython3",
   "version": "3.6.9"
  }
 },
 "nbformat": 4,
 "nbformat_minor": 4
}
