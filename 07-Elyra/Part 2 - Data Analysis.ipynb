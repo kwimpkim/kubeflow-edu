{
 "cells": [
  {
   "cell_type": "markdown",
   "metadata": {
    "papermill": {
     "duration": 0.026664,
     "end_time": "2020-06-23T18:41:12.994224",
     "exception": false,
     "start_time": "2020-06-23T18:41:12.967560",
     "status": "completed"
    },
    "tags": []
   },
   "source": [
    "# Exploratory Data Analysis of NOAA Weather Data \n",
    "\n",
    "This notebook relates to the NOAA Weather Dataset - JFK Airport (New York). The dataset contains 114,546 hourly observations of 12 local climatological variables (such as temperature and wind speed) collected at JFK airport. This dataset can be obtained for free from the IBM Developer [Data Asset Exchange](https://developer.ibm.com/exchanges/data/all/jfk-weather-data/).\n",
    "\n",
    "In this notebook we visualize and analyze the weather time-series dataset.\n",
    "\n",
    "### Table of Contents:\n",
    "* [1. Read the Cleaned Data](#cell1)\n",
    "* [2. Visualize the Data](#cell2)\n",
    "* [3. Analyze Trends in the Data](#cell3)\n",
    "* [Authors](#authors)\n",
    "\n",
    "#### Import required packages\n",
    "\n",
    "Install and import the required packages:\n",
    "\n",
    "* pandas\n",
    "* matplotlib\n",
    "* seaborn\n",
    "* numpy"
   ]
  },
  {
   "cell_type": "code",
   "execution_count": 1,
   "metadata": {
    "papermill": {
     "duration": 26.955318,
     "end_time": "2020-06-23T18:41:39.978610",
     "exception": false,
     "start_time": "2020-06-23T18:41:13.023292",
     "status": "completed"
    },
    "tags": []
   },
   "outputs": [
    {
     "name": "stdout",
     "output_type": "stream",
     "text": [
      "Defaulting to user installation because normal site-packages is not writeable\n",
      "Requirement already satisfied: pandas in /usr/local/lib/python3.6/dist-packages (1.1.5)\n",
      "Requirement already satisfied: matplotlib in /usr/local/lib/python3.6/dist-packages (3.3.3)\n",
      "Requirement already satisfied: seaborn in /usr/local/lib/python3.6/dist-packages (0.11.1)\n",
      "Requirement already satisfied: numpy in /usr/local/lib/python3.6/dist-packages (1.18.1)\n",
      "Requirement already satisfied: pyparsing!=2.0.4,!=2.1.2,!=2.1.6,>=2.0.3 in /usr/local/lib/python3.6/dist-packages (from matplotlib) (2.4.6)\n",
      "Requirement already satisfied: kiwisolver>=1.0.1 in /usr/local/lib/python3.6/dist-packages (from matplotlib) (1.1.0)\n",
      "Requirement already satisfied: cycler>=0.10 in /usr/local/lib/python3.6/dist-packages (from matplotlib) (0.10.0)\n",
      "Requirement already satisfied: python-dateutil>=2.1 in /usr/local/lib/python3.6/dist-packages (from matplotlib) (2.8.0)\n",
      "Requirement already satisfied: pillow>=6.2.0 in /usr/local/lib/python3.6/dist-packages (from matplotlib) (8.1.0)\n",
      "Requirement already satisfied: six in /usr/local/lib/python3.6/dist-packages (from cycler>=0.10->matplotlib) (1.15.0)\n",
      "Requirement already satisfied: setuptools in /usr/local/lib/python3.6/dist-packages (from kiwisolver>=1.0.1->matplotlib) (44.0.0)\n",
      "Requirement already satisfied: pytz>=2017.2 in /usr/local/lib/python3.6/dist-packages (from pandas) (2019.3)\n",
      "Requirement already satisfied: scipy>=1.0 in /usr/local/lib/python3.6/dist-packages (from seaborn) (1.4.1)\n"
     ]
    }
   ],
   "source": [
    "# Installing packages needed for data processing and visualization\n",
    "!pip install pandas matplotlib seaborn numpy "
   ]
  },
  {
   "cell_type": "code",
   "execution_count": 2,
   "metadata": {
    "papermill": {
     "duration": 4.170177,
     "end_time": "2020-06-23T18:41:44.348890",
     "exception": false,
     "start_time": "2020-06-23T18:41:40.178713",
     "status": "completed"
    },
    "tags": []
   },
   "outputs": [],
   "source": [
    "# Importing the packages\n",
    "import numpy as np\n",
    "import pandas as pd\n",
    "import seaborn as sns\n",
    "from pandas import DataFrame as df\n",
    "from matplotlib import pyplot as plt\n",
    "plt.rcParams['figure.dpi'] = 160"
   ]
  },
  {
   "cell_type": "markdown",
   "metadata": {
    "papermill": {
     "duration": 0.128767,
     "end_time": "2020-06-23T18:41:44.616934",
     "exception": false,
     "start_time": "2020-06-23T18:41:44.488167",
     "status": "completed"
    },
    "tags": []
   },
   "source": [
    "<a id=\"cell1\"></a>\n",
    "\n",
    "### 1. Read the Cleaned Data\n",
    "\n",
    "We start by reading in the cleaned dataset that was created in notebook `Part 1 - Data Cleaning`. \n",
    "\n",
    "*Note* if you haven't yet run that notebook, do that first otherwise the cells below will not work."
   ]
  },
  {
   "cell_type": "code",
   "execution_count": 3,
   "metadata": {
    "papermill": {
     "duration": 2.487078,
     "end_time": "2020-06-23T18:41:47.224072",
     "exception": false,
     "start_time": "2020-06-23T18:41:44.736994",
     "status": "completed"
    },
    "tags": []
   },
   "outputs": [
    {
     "data": {
      "text/html": [
       "<div>\n",
       "<style scoped>\n",
       "    .dataframe tbody tr th:only-of-type {\n",
       "        vertical-align: middle;\n",
       "    }\n",
       "\n",
       "    .dataframe tbody tr th {\n",
       "        vertical-align: top;\n",
       "    }\n",
       "\n",
       "    .dataframe thead th {\n",
       "        text-align: right;\n",
       "    }\n",
       "</style>\n",
       "<table border=\"1\" class=\"dataframe\">\n",
       "  <thead>\n",
       "    <tr style=\"text-align: right;\">\n",
       "      <th></th>\n",
       "      <th>visibility</th>\n",
       "      <th>dry_bulb_temp_f</th>\n",
       "      <th>wet_bulb_temp_f</th>\n",
       "      <th>dew_point_temp_f</th>\n",
       "      <th>relative_humidity</th>\n",
       "      <th>wind_speed</th>\n",
       "      <th>station_pressure</th>\n",
       "      <th>sea_level_pressure</th>\n",
       "      <th>precip</th>\n",
       "      <th>altimeter_setting</th>\n",
       "      <th>wind_direction_sin</th>\n",
       "      <th>wind_direction_cos</th>\n",
       "      <th>pressure_tendency_incr</th>\n",
       "      <th>pressure_tendency_decr</th>\n",
       "      <th>pressure_tendency_const</th>\n",
       "    </tr>\n",
       "    <tr>\n",
       "      <th>DATE</th>\n",
       "      <th></th>\n",
       "      <th></th>\n",
       "      <th></th>\n",
       "      <th></th>\n",
       "      <th></th>\n",
       "      <th></th>\n",
       "      <th></th>\n",
       "      <th></th>\n",
       "      <th></th>\n",
       "      <th></th>\n",
       "      <th></th>\n",
       "      <th></th>\n",
       "      <th></th>\n",
       "      <th></th>\n",
       "      <th></th>\n",
       "    </tr>\n",
       "  </thead>\n",
       "  <tbody>\n",
       "    <tr>\n",
       "      <th>2010-01-01 01:00:00</th>\n",
       "      <td>6.0</td>\n",
       "      <td>33.0</td>\n",
       "      <td>32.0</td>\n",
       "      <td>31.0</td>\n",
       "      <td>92.0</td>\n",
       "      <td>0.0</td>\n",
       "      <td>29.97</td>\n",
       "      <td>29.99</td>\n",
       "      <td>0.01</td>\n",
       "      <td>29.99</td>\n",
       "      <td>0.0</td>\n",
       "      <td>1.0</td>\n",
       "      <td>0</td>\n",
       "      <td>1</td>\n",
       "      <td>0</td>\n",
       "    </tr>\n",
       "    <tr>\n",
       "      <th>2010-01-01 02:00:00</th>\n",
       "      <td>6.0</td>\n",
       "      <td>33.0</td>\n",
       "      <td>33.0</td>\n",
       "      <td>32.0</td>\n",
       "      <td>96.0</td>\n",
       "      <td>0.0</td>\n",
       "      <td>29.97</td>\n",
       "      <td>29.99</td>\n",
       "      <td>0.02</td>\n",
       "      <td>29.99</td>\n",
       "      <td>0.0</td>\n",
       "      <td>1.0</td>\n",
       "      <td>0</td>\n",
       "      <td>1</td>\n",
       "      <td>0</td>\n",
       "    </tr>\n",
       "    <tr>\n",
       "      <th>2010-01-01 03:00:00</th>\n",
       "      <td>5.0</td>\n",
       "      <td>33.0</td>\n",
       "      <td>33.0</td>\n",
       "      <td>32.0</td>\n",
       "      <td>96.0</td>\n",
       "      <td>0.0</td>\n",
       "      <td>29.97</td>\n",
       "      <td>29.99</td>\n",
       "      <td>0.00</td>\n",
       "      <td>29.99</td>\n",
       "      <td>0.0</td>\n",
       "      <td>1.0</td>\n",
       "      <td>0</td>\n",
       "      <td>1</td>\n",
       "      <td>0</td>\n",
       "    </tr>\n",
       "    <tr>\n",
       "      <th>2010-01-01 04:00:00</th>\n",
       "      <td>5.0</td>\n",
       "      <td>33.0</td>\n",
       "      <td>33.0</td>\n",
       "      <td>32.0</td>\n",
       "      <td>96.0</td>\n",
       "      <td>0.0</td>\n",
       "      <td>29.95</td>\n",
       "      <td>29.97</td>\n",
       "      <td>0.00</td>\n",
       "      <td>29.97</td>\n",
       "      <td>0.0</td>\n",
       "      <td>1.0</td>\n",
       "      <td>0</td>\n",
       "      <td>1</td>\n",
       "      <td>0</td>\n",
       "    </tr>\n",
       "    <tr>\n",
       "      <th>2010-01-01 05:00:00</th>\n",
       "      <td>5.0</td>\n",
       "      <td>33.0</td>\n",
       "      <td>32.0</td>\n",
       "      <td>31.0</td>\n",
       "      <td>92.0</td>\n",
       "      <td>0.0</td>\n",
       "      <td>29.93</td>\n",
       "      <td>29.96</td>\n",
       "      <td>0.00</td>\n",
       "      <td>29.95</td>\n",
       "      <td>0.0</td>\n",
       "      <td>1.0</td>\n",
       "      <td>0</td>\n",
       "      <td>1</td>\n",
       "      <td>0</td>\n",
       "    </tr>\n",
       "  </tbody>\n",
       "</table>\n",
       "</div>"
      ],
      "text/plain": [
       "                     visibility  dry_bulb_temp_f  wet_bulb_temp_f  \\\n",
       "DATE                                                                \n",
       "2010-01-01 01:00:00         6.0             33.0             32.0   \n",
       "2010-01-01 02:00:00         6.0             33.0             33.0   \n",
       "2010-01-01 03:00:00         5.0             33.0             33.0   \n",
       "2010-01-01 04:00:00         5.0             33.0             33.0   \n",
       "2010-01-01 05:00:00         5.0             33.0             32.0   \n",
       "\n",
       "                     dew_point_temp_f  relative_humidity  wind_speed  \\\n",
       "DATE                                                                   \n",
       "2010-01-01 01:00:00              31.0               92.0         0.0   \n",
       "2010-01-01 02:00:00              32.0               96.0         0.0   \n",
       "2010-01-01 03:00:00              32.0               96.0         0.0   \n",
       "2010-01-01 04:00:00              32.0               96.0         0.0   \n",
       "2010-01-01 05:00:00              31.0               92.0         0.0   \n",
       "\n",
       "                     station_pressure  sea_level_pressure  precip  \\\n",
       "DATE                                                                \n",
       "2010-01-01 01:00:00             29.97               29.99    0.01   \n",
       "2010-01-01 02:00:00             29.97               29.99    0.02   \n",
       "2010-01-01 03:00:00             29.97               29.99    0.00   \n",
       "2010-01-01 04:00:00             29.95               29.97    0.00   \n",
       "2010-01-01 05:00:00             29.93               29.96    0.00   \n",
       "\n",
       "                     altimeter_setting  wind_direction_sin  \\\n",
       "DATE                                                         \n",
       "2010-01-01 01:00:00              29.99                 0.0   \n",
       "2010-01-01 02:00:00              29.99                 0.0   \n",
       "2010-01-01 03:00:00              29.99                 0.0   \n",
       "2010-01-01 04:00:00              29.97                 0.0   \n",
       "2010-01-01 05:00:00              29.95                 0.0   \n",
       "\n",
       "                     wind_direction_cos  pressure_tendency_incr  \\\n",
       "DATE                                                              \n",
       "2010-01-01 01:00:00                 1.0                       0   \n",
       "2010-01-01 02:00:00                 1.0                       0   \n",
       "2010-01-01 03:00:00                 1.0                       0   \n",
       "2010-01-01 04:00:00                 1.0                       0   \n",
       "2010-01-01 05:00:00                 1.0                       0   \n",
       "\n",
       "                     pressure_tendency_decr  pressure_tendency_const  \n",
       "DATE                                                                  \n",
       "2010-01-01 01:00:00                       1                        0  \n",
       "2010-01-01 02:00:00                       1                        0  \n",
       "2010-01-01 03:00:00                       1                        0  \n",
       "2010-01-01 04:00:00                       1                        0  \n",
       "2010-01-01 05:00:00                       1                        0  "
      ]
     },
     "execution_count": 3,
     "metadata": {},
     "output_type": "execute_result"
    }
   ],
   "source": [
    "data = pd.read_csv('data/noaa-weather-data-jfk-airport/jfk_weather_cleaned.csv', parse_dates=['DATE'])\n",
    "# Set date index\n",
    "data = data.set_index(pd.DatetimeIndex(data['DATE']))\n",
    "data.drop(['DATE'], axis=1, inplace=True)\n",
    "data.head()"
   ]
  },
  {
   "cell_type": "markdown",
   "metadata": {
    "papermill": {
     "duration": 0.116207,
     "end_time": "2020-06-23T18:41:47.455659",
     "exception": false,
     "start_time": "2020-06-23T18:41:47.339452",
     "status": "completed"
    },
    "tags": []
   },
   "source": [
    "<a id=\"cell2\"></a>\n",
    "\n",
    "### 2. Visualize the Data\n",
    "\n",
    "In this section we visualize a few sections of the data, using `matplotlib`'s `pyplot` module. \n"
   ]
  },
  {
   "cell_type": "code",
   "execution_count": 4,
   "metadata": {
    "papermill": {
     "duration": 0.119332,
     "end_time": "2020-06-23T18:41:47.690109",
     "exception": false,
     "start_time": "2020-06-23T18:41:47.570777",
     "status": "completed"
    },
    "tags": []
   },
   "outputs": [],
   "source": [
    "# Columns to visualize\n",
    "plot_cols = ['dry_bulb_temp_f', 'relative_humidity', 'wind_speed', 'station_pressure', 'precip']"
   ]
  },
  {
   "cell_type": "markdown",
   "metadata": {
    "papermill": {
     "duration": 0.087035,
     "end_time": "2020-06-23T18:41:47.866770",
     "exception": false,
     "start_time": "2020-06-23T18:41:47.779735",
     "status": "completed"
    },
    "tags": []
   },
   "source": [
    "#### Quick Peek at the Data\n",
    "\n",
    "We first visualize all the data we have to get a rough idea about how the data looks like. \n",
    "\n",
    "As we can see in the plot below, the hourly temperatures follow a clear seasonal trend. Wind speed, pressure, humidity and precipitation data seem to have much higher variance and randomness.\n",
    "\n",
    "It might be more meaningful to make a model to predict temperature, rather than some of the other more noisy data columns. "
   ]
  },
  {
   "cell_type": "code",
   "execution_count": null,
   "metadata": {
    "papermill": {
     "duration": 4.109965,
     "end_time": "2020-06-23T18:41:52.079730",
     "exception": false,
     "start_time": "2020-06-23T18:41:47.969765",
     "status": "completed"
    },
    "tags": []
   },
   "outputs": [],
   "source": [
    "# Quick overview of columns\n",
    "plt.figure(figsize=(30, 12))\n",
    "i = 1\n",
    "for col in plot_cols:\n",
    "    plt.subplot(len(plot_cols), 1, i)\n",
    "    plt.plot(data[col].values)\n",
    "    plt.title(col)\n",
    "    i += 1\n",
    "plt.subplots_adjust(hspace=0.5)\n",
    "plt.show()"
   ]
  },
  {
   "cell_type": "markdown",
   "metadata": {
    "papermill": {
     "duration": 0.140846,
     "end_time": "2020-06-23T18:41:52.416480",
     "exception": false,
     "start_time": "2020-06-23T18:41:52.275634",
     "status": "completed"
    },
    "tags": []
   },
   "source": [
    "#### Feature Dependencies\n",
    "\n",
    "Now we explore how the features (columns) of our data are related to each other. This helps in deciding which features to use when modelling a classifier or regresser. \n",
    "We ideally want independent features to be classified independently and likewise dependent features to be contributing to the same model. \n",
    "\n",
    "We can see from the correlation plots how some features are somewhat correlated and could be used as additional data (perhaps for augmenting) when training a classifier. "
   ]
  },
  {
   "cell_type": "code",
   "execution_count": 6,
   "metadata": {
    "papermill": {
     "duration": 1.164636,
     "end_time": "2020-06-23T18:41:53.792419",
     "exception": false,
     "start_time": "2020-06-23T18:41:52.627783",
     "status": "completed"
    },
    "tags": []
   },
   "outputs": [
    {
     "data": {
      "image/png": "[encoded data removed]",
      "text/plain": [
       "<Figure size 1120x1120 with 2 Axes>"
      ]
     },
     "metadata": {
      "needs_background": "light"
     },
     "output_type": "display_data"
    }
   ],
   "source": [
    "# Plot correlation matrix\n",
    "f, ax = plt.subplots(figsize=(7, 7))\n",
    "corr = data[plot_cols].corr()\n",
    "sns.heatmap(corr, mask=np.zeros_like(corr, dtype=np.bool), cmap=sns.diverging_palette(220, 10, as_cmap=True), square=True, ax=ax);"
   ]
  },
  {
   "cell_type": "markdown",
   "metadata": {
    "papermill": {
     "duration": 0.15953,
     "end_time": "2020-06-23T18:41:54.149759",
     "exception": false,
     "start_time": "2020-06-23T18:41:53.990229",
     "status": "completed"
    },
    "tags": []
   },
   "source": [
    "Additionally we also visualize the joint distrubitions in the form of pairplots/scatter plots to see (qualitatively) the way in which these features are related in more detail over just the correlation.\n",
    "They are essentially 2D joint distributions in the case of off-diagonal subplots and the histogram (an approximation to the probability distribution) in case of the diagonal subplots."
   ]
  },
  {
   "cell_type": "code",
   "execution_count": null,
   "metadata": {
    "papermill": {
     "duration": 28.253543,
     "end_time": "2020-06-23T18:42:22.531950",
     "exception": false,
     "start_time": "2020-06-23T18:41:54.278407",
     "status": "completed"
    },
    "tags": []
   },
   "outputs": [],
   "source": [
    "# Plot pairplots\n",
    "sns.pairplot(data[plot_cols])"
   ]
  },
  {
   "cell_type": "markdown",
   "metadata": {
    "papermill": {
     "duration": 0.211878,
     "end_time": "2020-06-23T18:42:23.041456",
     "exception": false,
     "start_time": "2020-06-23T18:42:22.829578",
     "status": "completed"
    },
    "tags": []
   },
   "source": [
    "<a id=\"cell3\"></a>\n",
    "\n",
    "### 3. Analyze Trends in the Data\n",
    "\n",
    "Now that we have explored the whole dataset and the features on a high level, let us focus on one particular feature - `dry_bulb_temp_f`, the dry bulb temperature in degrees Fahrenheit. This is what we mean when we refer to \"air temperature\". This is the most common feature used in temperature prediction, and here we explore it in further detail. \n",
    "\n",
    "We first start with plotting the data for all 9 years in monthly buckets then drill down to a single year to notice (qualitatively) the overall trend in the data. We can see from the plots that every year has roughly a sinousoidal nature to the temperature with some anomalies around 2013-2014. Upon further drilling down we see that each year's data is not the smooth sinousoid but rather a jagged and noisy one. But the overall trend still is a sinousoid. "
   ]
  },
  {
   "cell_type": "code",
   "execution_count": null,
   "metadata": {
    "papermill": {
     "duration": 2.487948,
     "end_time": "2020-06-23T18:42:25.738514",
     "exception": false,
     "start_time": "2020-06-23T18:42:23.250566",
     "status": "completed"
    },
    "tags": []
   },
   "outputs": [],
   "source": [
    "plt.figure(figsize=(15,7))\n",
    "\n",
    "TEMP_COL = 'dry_bulb_temp_f'\n",
    "# Plot temperature data converted to a monthly frequency \n",
    "plt.subplot(1, 2, 1)\n",
    "data[TEMP_COL].asfreq('M').plot()  \n",
    "plt.title('Monthly Temperature')\n",
    "plt.ylabel('Temperature (F)')\n",
    "\n",
    "# Zoom in on a year and plot temperature data converted to a daily frequency \n",
    "plt.subplot(1, 2, 2)\n",
    "data['2017'][TEMP_COL].asfreq('D').plot()  \n",
    "plt.title('Daily Temperature in 2017')\n",
    "plt.ylabel('Temperature (F)')\n",
    "\n",
    "plt.tight_layout()\n",
    "plt.show()"
   ]
  },
  {
   "cell_type": "markdown",
   "metadata": {
    "papermill": {
     "duration": 0.279776,
     "end_time": "2020-06-23T18:42:26.263290",
     "exception": false,
     "start_time": "2020-06-23T18:42:25.983514",
     "status": "completed"
    },
    "tags": []
   },
   "source": [
    "Next, we plot the change (delta) in temperature and notice that it is lowest around the middle of the year. That is expected behaviour as the gradient of the sinousoid near it's peak is zero. "
   ]
  },
  {
   "cell_type": "code",
   "execution_count": null,
   "metadata": {
    "execution": {
     "iopub.execute_input": "2020-06-23T18:42:26.788207Z",
     "iopub.status.busy": "2020-06-23T18:42:26.787291Z",
     "iopub.status.idle": "2020-06-23T18:42:29.121789Z",
     "shell.execute_reply": "2020-06-23T18:42:29.123377Z"
    },
    "papermill": {
     "duration": 2.611371,
     "end_time": "2020-06-23T18:42:29.123704",
     "exception": false,
     "start_time": "2020-06-23T18:42:26.512333",
     "status": "completed"
    },
    "tags": []
   },
   "outputs": [],
   "source": [
    "plt.figure(figsize=(15,7))\n",
    "\n",
    "# Plot percent change of daily temperature in 2017\n",
    "plt.subplot(1, 2, 1)\n",
    "data['2017'][TEMP_COL].asfreq('D').div(data['2017'][TEMP_COL].asfreq('D').shift()).plot()\n",
    "plt.title('% Change in Daily Temperature in 2017')\n",
    "plt.ylabel('% Change')\n",
    "\n",
    "# Plot absolute change of temperature in 2017 with daily frequency\n",
    "plt.subplot(1, 2, 2)\n",
    "data['2017'][TEMP_COL].asfreq('D').diff().plot()\n",
    "plt.title('Absolute Change in Daily Temperature in 2017')\n",
    "plt.ylabel('Temperature (F)')\n",
    "\n",
    "plt.tight_layout()\n",
    "plt.show()"
   ]
  },
  {
   "cell_type": "markdown",
   "metadata": {
    "papermill": {
     "duration": 0.286847,
     "end_time": "2020-06-23T18:42:29.665508",
     "exception": false,
     "start_time": "2020-06-23T18:42:29.378661",
     "status": "completed"
    },
    "tags": []
   },
   "source": [
    "Finally we apply some smoothing to the data in the form of a rolling/moving average. This is the simplest form of de-noising the data. As we can see from the plots, the average (plotted in blue) roughly traces the sinousoid and is now much smoother. This can improve the accuracy of a regression model trained to predict temperatures within a reasonable margin of error. "
   ]
  },
  {
   "cell_type": "code",
   "execution_count": null,
   "metadata": {
    "papermill": {
     "duration": 3.513659,
     "end_time": "2020-06-23T18:42:33.458941",
     "exception": false,
     "start_time": "2020-06-23T18:42:29.945282",
     "status": "completed"
    },
    "tags": []
   },
   "outputs": [],
   "source": [
    "plt.figure(figsize=(15,7))\n",
    "\n",
    "# Plot rolling mean of temperature \n",
    "plt.subplot(1, 2, 1)\n",
    "data['2017'][TEMP_COL].rolling('5D').mean().plot(zorder=2) # Rolling average window is 5 days\n",
    "data['2017'][TEMP_COL].plot(zorder=1)\n",
    "plt.legend(['Rolling','Temp'])\n",
    "plt.title('Rolling Avg in Hourly Temperature in 2017')\n",
    "plt.ylabel('Temperature (F)')\n",
    "\n",
    "# Plot rolling mean of temperature\n",
    "plt.subplot(1, 2, 2)\n",
    "data['2017-01':'2017-03'][TEMP_COL].rolling('2D').mean().plot(zorder=2) # Rolling average window is 2 days\n",
    "data['2017-01':'2017-03'][TEMP_COL].plot(zorder=1)\n",
    "plt.legend(['Rolling','Temp'])\n",
    "plt.title('Rolling Avg in Hourly Temperature in Winter 2017')\n",
    "plt.ylabel('Temperature (F)')\n",
    "\n",
    "plt.tight_layout()\n",
    "plt.show()"
   ]
  },
  {
   "cell_type": "markdown",
   "metadata": {
    "papermill": {
     "duration": 0.202051,
     "end_time": "2020-06-23T18:42:33.888267",
     "exception": false,
     "start_time": "2020-06-23T18:42:33.686216",
     "status": "completed"
    },
    "tags": []
   },
   "source": [
    "#### Next steps\n",
    "\n",
    "- Close this notebook.\n",
    "- Open the `Part 3 - Time Series Forecasting` notebook to create time-series models to forecast temperatures."
   ]
  },
  {
   "cell_type": "markdown",
   "metadata": {
    "papermill": {
     "duration": 0.218222,
     "end_time": "2020-06-23T18:42:34.348671",
     "exception": false,
     "start_time": "2020-06-23T18:42:34.130449",
     "status": "completed"
    },
    "tags": []
   },
   "source": [
    "<a id=\"authors\"></a> \n",
    "### Authors\n",
    "\n",
    "This notebook was created by the [Center for Open-Source Data & AI Technologies](http://codait.org).\n",
    "\n",
    "Copyright © 2019 IBM. This notebook and its source code are released under the terms of the MIT License."
   ]
  }
 ],
 "metadata": {
  "kernelspec": {
   "display_name": "Python 3",
   "language": "python",
   "name": "python3"
  },
  "language_info": {
   "codemirror_mode": {
    "name": "ipython",
    "version": 3
   },
   "file_extension": ".py",
   "mimetype": "text/x-python",
   "name": "python",
   "nbconvert_exporter": "python",
   "pygments_lexer": "ipython3",
   "version": "3.6.9"
  },
  "papermill": {
   "duration": 82.979462,
   "end_time": "2020-06-23T18:42:34.718798",
   "environment_variables": {},
   "exception": null,
   "input_path": "Part 2 - Data Analysis.ipynb",
   "output_path": "Part 2 - Data Analysis-output.ipynb",
   "parameters": {},
   "start_time": "2020-06-23T18:41:11.739336",
   "version": "2.1.1"
  }
 },
 "nbformat": 4,
 "nbformat_minor": 4
}
