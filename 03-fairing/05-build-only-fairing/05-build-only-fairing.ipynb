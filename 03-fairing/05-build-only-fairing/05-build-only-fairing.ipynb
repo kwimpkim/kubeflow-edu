{
 "cells": [
  {
   "cell_type": "code",
   "execution_count": 1,
   "metadata": {
    "tags": []
   },
   "outputs": [
    {
     "name": "stderr",
     "output_type": "stream",
     "text": [
      "[W 210103 17:26:01 append:50] Building image using Append builder...\n",
      "[I 210103 17:26:01 base:107] Creating docker context: /tmp/fairing_context_3zt1vq6f\n",
      "[I 210103 17:26:01 docker_creds_:234] Loading Docker credentials for repository 'tensorflow/tensorflow:2.0.3-gpu-py3'\n",
      "[W 210103 17:26:03 append:54] Image successfully built in 2.075414121034555s.\n",
      "[W 210103 17:26:03 append:94] Pushing image kubeflow-registry.default.svc.cluster.local:30000/my-05-build-only-fairing:90F84CA8...\n",
      "[I 210103 17:26:03 docker_creds_:234] Loading Docker credentials for repository 'kubeflow-registry.default.svc.cluster.local:30000/my-05-build-only-fairing:90F84CA8'\n",
      "[W 210103 17:26:03 append:81] Uploading kubeflow-registry.default.svc.cluster.local:30000/my-05-build-only-fairing:90F84CA8\n",
      "[I 210103 17:26:03 docker_session_:284] Layer sha256:b0aa5745de84106898a441fe7db384bd0fd8855885df79a462fdb387472397af pushed.\n",
      "[I 210103 17:26:03 docker_session_:284] Layer sha256:24379c211bf57a28dc199d0b1e7dc6a8055c42367f7dc7aa7af94233424320d0 pushed.\n",
      "[I 210103 17:26:04 docker_session_:284] Layer sha256:808ab635d662f007795c47a50aa04f09645f4ff2356cb3b4a4793dc849f8c567 pushed.\n",
      "[I 210103 17:26:04 docker_session_:284] Layer sha256:180a91d332525099dc19822a6acdd951afc8caa017d5101cfe925d839a86d806 pushed.\n",
      "[I 210103 17:26:04 docker_session_:284] Layer sha256:94e5ff4c0b1526abf77c236655f21c8f67a23313291c8b970fe6b469549d8153 pushed.\n",
      "[I 210103 17:26:04 docker_session_:284] Layer sha256:1860925334f940c3145808527480b4f0cba7f01279087fdb27679e4354fba967 pushed.\n",
      "[I 210103 17:26:04 docker_session_:284] Layer sha256:d69f906e5daf636062d23a04229abd5ad7cc9dc4ed4fec747209c475d2baedbe pushed.\n",
      "[I 210103 17:26:04 docker_session_:284] Layer sha256:05cc64cc481fe79962b34513eab815d88ebe4ac6ac5014f5a75059120ff54403 pushed.\n",
      "[I 210103 17:26:04 docker_session_:284] Layer sha256:3baa9cb2483bd9c5329a44d9c2fe72535625bbd4308bca95785dd58e72c06365 pushed.\n",
      "[I 210103 17:26:05 docker_session_:284] Layer sha256:961e710a7b62ad8e7d0800a17713e69e85368b9fb4c3195eaadc2be1e0f2a6f2 pushed.\n",
      "[I 210103 17:26:05 docker_session_:284] Layer sha256:64c1fb90b5a5b52bc9cd212302432b449b17377ab2822b7df3bf51183f955a15 pushed.\n",
      "[I 210103 17:26:05 docker_session_:284] Layer sha256:b11f037be8e82a958bc0f85b0fa2a73515ce8954042eac96bb654e662ae9519f pushed.\n",
      "[I 210103 17:26:05 docker_session_:284] Layer sha256:8ed3cb4f3e640b8c622e61beba1b83f115f32756055cafcc5840e4ae4f806cab pushed.\n",
      "[I 210103 17:26:06 docker_session_:284] Layer sha256:f08d8e2a3ba11bea23cf5c17e8e1c620057412ed05c32d1114640e18d6dd0a43 pushed.\n",
      "[I 210103 17:26:07 docker_session_:284] Layer sha256:a6b0136f4b734fa962c4f6a51536f4c66bdf70607e08a815cc8b1ee28b967af7 pushed.\n",
      "[I 210103 17:26:07 docker_session_:284] Layer sha256:f24e58c7d76b40e220b929eb26738ea454d26e69b3c4f69915dbc39d801ad2bb pushed.\n",
      "[I 210103 17:26:24 docker_session_:284] Layer sha256:eee182b1b1f319aa543a64cf31d2ab0479870a7dc103da35ad4e450513dccdb9 pushed.\n",
      "[I 210103 17:26:28 docker_session_:284] Layer sha256:da612ad945dfc0bddf4057d29e35c73c95bb864754567ab5068fe7b1fbd8b696 pushed.\n",
      "[I 210103 17:26:28 docker_session_:334] Finished upload of: kubeflow-registry.default.svc.cluster.local:30000/my-05-build-only-fairing:90F84CA8\n",
      "[W 210103 17:26:28 append:99] Pushed image kubeflow-registry.default.svc.cluster.local:30000/my-05-build-only-fairing:90F84CA8 in 24.621814484940842s.\n"
     ]
    },
    {
     "name": "stdout",
     "output_type": "stream",
     "text": [
      "Published Docker image with tag: \"kubeflow-registry.default.svc.cluster.local:30000/my-05-build-only-fairing:90F84CA8\"\n"
     ]
    }
   ],
   "source": [
    "from kubeflow.fairing.preprocessors.base import BasePreProcessor \n",
    "from kubeflow.fairing.builders.append.append import AppendBuilder\n",
    "\n",
    "PRIVATE_REGISTRY = 'kubeflow-registry.default.svc.cluster.local:30000'\n",
    "\n",
    "preproc = BasePreProcessor(\n",
    "    input_files = ['00-python-file-to-fairing.py'], \n",
    "    #path_prefix = '/myapp', # default: /app\n",
    "    command = ['python3'],  # default: python\n",
    ")    \n",
    "\n",
    "builder = AppendBuilder(\n",
    "    preprocessor = preproc,\n",
    "    # base_image = f'{PRIVATE_REGISTRY}/kf-base:latest', # 사전준비에서 마련한 Base Image\n",
    "    base_image = 'tensorflow/tensorflow:2.0.3-gpu-py3',    \n",
    "    image_name = 'my-05-build-only-fairing',\n",
    "    registry = PRIVATE_REGISTRY,\n",
    "    push = True,\n",
    ")\n",
    "\n",
    "builder.build()\n",
    "\n",
    "print(f'Published Docker image with tag: \"{builder.image_tag}\"')"
   ]
  },
  {
   "cell_type": "markdown",
   "metadata": {
    "tags": []
   },
   "source": [
    "### curl로 프라이빗 레지스트리 확인"
   ]
  },
  {
   "cell_type": "code",
   "execution_count": 2,
   "metadata": {
    "tags": []
   },
   "outputs": [
    {
     "name": "stdout",
     "output_type": "stream",
     "text": [
      "{\"repositories\":[\"fairing-job\",\"my-02-python-file-fairing\",\"my-03-notebook-fairing-job\",\"my-04-notebook-single-file-fairing-job\",\"my-05-build-only-fairing\"]}\n"
     ]
    }
   ],
   "source": [
    "! curl http://kubeflow-registry.default.svc.cluster.local:30000/v2/_catalog"
   ]
  },
  {
   "cell_type": "code",
   "execution_count": 3,
   "metadata": {
    "tags": []
   },
   "outputs": [
    {
     "name": "stdout",
     "output_type": "stream",
     "text": [
      "{\"name\":\"my-05-build-only-fairing\",\"tags\":[\"90F84CA8\"]}\n"
     ]
    }
   ],
   "source": [
    "! curl http://kubeflow-registry.default.svc.cluster.local:30000/v2/my-05-build-only-fairing/tags/list"
   ]
  },
  {
   "cell_type": "markdown",
   "metadata": {
    "tags": []
   },
   "source": [
    "# 관련 SDK API\n",
    "- https://kubeflow-fairing.readthedocs.io/en/latest/source/kubeflow.fairing.preprocessors.html#module-kubeflow.fairing.preprocessors.base\n",
    "- https://kubeflow-fairing.readthedocs.io/en/latest/source/kubeflow.fairing.builders.append.html#module-kubeflow.fairing.builders.append.append"
   ]
  },
  {
   "cell_type": "markdown",
   "metadata": {
    "tags": []
   },
   "source": [
    "# 참고: Notebook Preprocessor\n",
    "```\n",
    "from kubeflow.fairing.preprocessors.converted_notebook import ConvertNotebookPreprocessor\n",
    "preproc = ConvertNotebookPreprocessor(\n",
    "    notebook_file=\"example.ipynb\"\n",
    ")    \n",
    "```"
   ]
  }
 ],
 "metadata": {
  "kernelspec": {
   "display_name": "Python 3",
   "language": "python",
   "name": "python3"
  },
  "kubeflow_notebook": {
   "autosnapshot": false,
   "docker_image": "reddiana/jupyterlab-kale:latest",
   "experiment": {
    "id": "",
    "name": ""
   },
   "experiment_name": "",
   "katib_metadata": {
    "algorithm": {
     "algorithmName": "grid"
    },
    "maxFailedTrialCount": 3,
    "maxTrialCount": 12,
    "objective": {
     "objectiveMetricName": "",
     "type": "minimize"
    },
    "parallelTrialCount": 3,
    "parameters": []
   },
   "katib_run": false,
   "pipeline_description": "",
   "pipeline_name": "",
   "snapshot_volumes": false,
   "steps_defaults": [],
   "volumes": []
  },
  "language_info": {
   "codemirror_mode": {
    "name": "ipython",
    "version": 3
   },
   "file_extension": ".py",
   "mimetype": "text/x-python",
   "name": "python",
   "nbconvert_exporter": "python",
   "pygments_lexer": "ipython3",
   "version": "3.6.9"
  }
 },
 "nbformat": 4,
 "nbformat_minor": 4
}
