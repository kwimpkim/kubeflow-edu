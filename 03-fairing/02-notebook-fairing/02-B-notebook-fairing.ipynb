{
 "cells": [
  {
   "cell_type": "code",
   "execution_count": 3,
   "metadata": {},
   "outputs": [
    {
     "name": "stderr",
     "output_type": "stream",
     "text": [
      "[I 210314 19:15:02 config:134] Using preprocessor: <kubeflow.fairing.preprocessors.converted_notebook.ConvertNotebookPreprocessor object at 0x7ff8f78bf1d0>\n",
      "[I 210314 19:15:02 config:136] Using builder: <kubeflow.fairing.builders.append.append.AppendBuilder object at 0x7ff8f78bfc88>\n",
      "[I 210314 19:15:02 config:138] Using deployer: <kubeflow.fairing.deployers.job.job.Job object at 0x7ff8f78d0b70>\n",
      "[W 210314 19:15:02 append:50] Building image using Append builder...\n",
      "[I 210314 19:15:02 base:107] Creating docker context: /tmp/fairing_context_snh35w1q\n",
      "[I 210314 19:15:02 converted_notebook:127] Converting 02-A-notebook-to-fairing.ipynb to 02-A-notebook-to-fairing.py\n",
      "[I 210314 19:15:02 docker_creds_:234] Loading Docker credentials for repository 'tensorflow/tensorflow'\n",
      "[W 210314 19:15:03 append:54] Image successfully built in 0.6853261799988104s.\n",
      "[W 210314 19:15:03 append:94] Pushing image registry.kube-system.svc.cluster.local:30000/my-03-notebook-fairing-job:C29ED2A7...\n",
      "[I 210314 19:15:03 docker_creds_:234] Loading Docker credentials for repository 'registry.kube-system.svc.cluster.local:30000/my-03-notebook-fairing-job:C29ED2A7'\n",
      "[W 210314 19:15:03 append:81] Uploading registry.kube-system.svc.cluster.local:30000/my-03-notebook-fairing-job:C29ED2A7\n",
      "[I 210314 19:15:03 docker_session_:280] Layer sha256:0b2b6f75fc9510d3889bb224823a6d8a720a0cba6d7481874e4612ccbccd3014 exists, skipping\n",
      "[I 210314 19:15:03 docker_session_:280] Layer sha256:1f0ffb4d2509e58e040b2d3c146f875dfc5d39ac9e974e6bfb1a5505b98eefae exists, skipping\n",
      "[I 210314 19:15:03 docker_session_:280] Layer sha256:5d43e8c7056a20768e9c36d57ba56227f71df1563d630d424f512efd7b028805 exists, skipping\n",
      "[I 210314 19:15:03 docker_session_:280] Layer sha256:961442e8e0e4f9ec91ef34f41523a3dc42e68476b5f8d27e2fe43f179d801263 exists, skipping\n",
      "[I 210314 19:15:03 docker_session_:280] Layer sha256:d22d2dfcfa9cd230ed3c47defec2670d45081598c721dd85cafc34ea459f970e exists, skipping\n",
      "[I 210314 19:15:03 docker_session_:280] Layer sha256:e4dcef408c10510b1f7bcbabed4031df9e722275dd7a394acb27585fe06e73d0 exists, skipping\n",
      "[I 210314 19:15:03 docker_session_:280] Layer sha256:b3afe92c540b778c64ca316d1e679d55d2d2e812e450f516a808ee591f0c3f77 exists, skipping\n",
      "[I 210314 19:15:03 docker_session_:280] Layer sha256:d519e2592276828ca171d85e0532899cd4f98c70f5c697b45fa2e126e9f9fe49 exists, skipping\n",
      "[I 210314 19:15:03 docker_session_:280] Layer sha256:c29b15b084af0bc2cabab123e72a62f1d9919774f15a91eeeb3b138aaf5f7850 exists, skipping\n",
      "[I 210314 19:15:03 docker_session_:280] Layer sha256:e266fced02fae9320dafe0ef2adab0fd0bdd5a7d795848c2fa344eafb4f70ab9 exists, skipping\n",
      "[I 210314 19:15:03 docker_session_:280] Layer sha256:c12ceea561ed13e6b0566ce331de9cfc90b43ab4b14a2e12a5a29d73420f51b3 exists, skipping\n",
      "[I 210314 19:15:03 docker_session_:284] Layer sha256:2a99edcfc75a601d4f39fee63d5820ba4733e7d5d1d9c116589906b9507c7d5a pushed.\n",
      "[I 210314 19:15:03 docker_session_:334] Finished upload of: registry.kube-system.svc.cluster.local:30000/my-03-notebook-fairing-job:C29ED2A7\n",
      "[W 210314 19:15:03 append:99] Pushed image registry.kube-system.svc.cluster.local:30000/my-03-notebook-fairing-job:C29ED2A7 in 0.15937216300153523s.\n",
      "[W 210314 19:15:03 job:101] The job my-notebook-fairing launched.\n",
      "[W 210314 19:15:03 manager:298] Waiting for my-notebook-fairing-2xsdh to start...\n",
      "[W 210314 19:15:03 manager:298] Waiting for my-notebook-fairing-2xsdh to start...\n",
      "[W 210314 19:15:03 manager:298] Waiting for my-notebook-fairing-2xsdh to start...\n",
      "[I 210314 19:15:05 manager:304] Pod started running True\n"
     ]
    },
    {
     "name": "stdout",
     "output_type": "stream",
     "text": [
      "2021-03-14 19:15:05.017611: W tensorflow/stream_executor/platform/default/dso_loader.cc:60] Could not load dynamic library 'libcudart.so.11.0'; dlerror: libcudart.so.11.0: cannot open shared object file: No such file or directory\n",
      "2021-03-14 19:15:05.017664: I tensorflow/stream_executor/cuda/cudart_stub.cc:29] Ignore above cudart dlerror if you do not have a GPU set up on your machine.\n",
      "Downloading data from https://storage.googleapis.com/tensorflow/tf-keras-datasets/mnist.npz\n",
      "11493376/11490434 [==============================] - 0s 0us/step\n",
      "2021-03-14 19:15:07.935609: I tensorflow/compiler/jit/xla_cpu_device.cc:41] Not creating XLA devices, tf_xla_enable_xla_devices not set\n",
      "2021-03-14 19:15:07.935877: W tensorflow/stream_executor/platform/default/dso_loader.cc:60] Could not load dynamic library 'libcuda.so.1'; dlerror: libcuda.so.1: cannot open shared object file: No such file or directory\n",
      "2021-03-14 19:15:07.935913: W tensorflow/stream_executor/cuda/cuda_driver.cc:326] failed call to cuInit: UNKNOWN ERROR (303)\n",
      "2021-03-14 19:15:07.935952: I tensorflow/stream_executor/cuda/cuda_diagnostics.cc:156] kernel driver does not appear to be running on this host (my-notebook-fairing-2xsdh): /proc/driver/nvidia/version does not exist\n",
      "2021-03-14 19:15:07.936306: I tensorflow/core/platform/cpu_feature_guard.cc:142] This TensorFlow binary is optimized with oneAPI Deep Neural Network Library (oneDNN) to use the following CPU instructions in performance-critical operations:  AVX2 FMA\n",
      "To enable them in other operations, rebuild TensorFlow with the appropriate compiler flags.\n",
      "2021-03-14 19:15:07.936813: I tensorflow/compiler/jit/xla_gpu_device.cc:99] Not creating XLA devices, tf_xla_enable_xla_devices not set\n",
      "2021-03-14 19:15:08.306876: I tensorflow/compiler/mlir/mlir_graph_optimization_pass.cc:116] None of the MLIR optimization passes are enabled (registered 2)\n",
      "2021-03-14 19:15:08.307515: I tensorflow/core/platform/profile_utils/cpu_utils.cc:112] CPU Frequency: 2299995000 Hz\n",
      "Model: \"sequential\"\n",
      "_________________________________________________________________\n",
      "Layer (type)                 Output Shape              Param #\n",
      "=================================================================\n",
      "flatten (Flatten)            (None, 784)               0\n",
      "_________________________________________________________________\n",
      "dense (Dense)                (None, 128)               100480\n",
      "_________________________________________________________________\n",
      "dropout (Dropout)            (None, 128)               0\n",
      "_________________________________________________________________\n",
      "dense_1 (Dense)              (None, 10)                1290\n",
      "=================================================================\n",
      "Total params: 101,770\n",
      "Trainable params: 101,770\n",
      "Non-trainable params: 0\n",
      "_________________________________________________________________\n",
      "Training...\n",
      "Epoch 1/3\n",
      "  69/1500 [>.............................] - ETA: 9s - loss: 1.6536 - accuracy: 0.48207 \n",
      " 165/1500 [==>...........................] - ETA: 8s - loss: 1.2471 - accuracy: 0.621\n",
      " 267/1500 [====>.........................] - ETA: 7s - loss: 1.0436 - accuracy: 0.687\n",
      " 364/1500 [======>.......................] - ETA: 7s - loss: 0.9257 - accuracy: 0.724\n",
      " 466/1500 [========>.....................] - ETA: 6s - loss: 0.8409 - accuracy: 0.750\n",
      " 566/1500 [==========>...................] - ETA: 5s - loss: 0.7798 - accuracy: 0.76\n",
      " 669/1500 [============>.................] - ETA: 5s - loss: 0.7381 - accuracy: 0.78\n",
      " 770/1500 [==============>...............] - ETA: 4s - loss: 0.6989 - accuracy: 0.79\n",
      " 870/1500 [================>.............] - ETA: 3s - loss: 0.6663 - accuracy: 0.80\n",
      " 968/1500 [==================>...........] - ETA: 3s - loss: 0.6384 - accuracy: 0.81\n",
      "1050/1500 [===================>..........] - ETA: 2s - loss: 0.6180 - accuracy: 0.81\n",
      "1131/1500 [=====================>........] - ETA: 2s - loss: 0.5971 - accuracy: 0.82\n",
      "1227/1500 [=======================>......] - ETA: 1s - loss: 0.5784 - accuracy: 0.82\n",
      "1326/1500 [=========================>....] - ETA: 1s - loss: 0.5612 - accuracy: 0.83\n",
      "1425/1500 [===========================>..] - ETA: 0s - loss: 0.5455 - accuracy: 0.83\n",
      "1500/1500 [==============================] - 11s 7ms/step - loss: 0.5346 - accuracy: 0.8428 - val_loss: 0.1559 - val_accuracy: 0.9562\n",
      "Epoch 2/3\n",
      "  80/1500 [>.............................] - ETA: 8s - loss: 0.1659 - accuracy: 0.95\n",
      " 168/1500 [==>...........................] - ETA: 7s - loss: 0.1673 - accuracy: 0.95\n",
      " 268/1500 [====>.........................] - ETA: 7s - loss: 0.1689 - accuracy: 0.95\n",
      " 371/1500 [======>.......................] - ETA: 6s - loss: 0.1688 - accuracy: 0.95\n",
      " 475/1500 [========>.....................] - ETA: 5s - loss: 0.1684 - accuracy: 0.95\n",
      " 576/1500 [==========>...................] - ETA: 5s - loss: 0.1680 - accuracy: 0.95\n",
      " 679/1500 [============>.................] - ETA: 4s - loss: 0.1674 - accuracy: 0.95\n",
      " 779/1500 [==============>...............] - ETA: 4s - loss: 0.1670 - accuracy: 0.95\n",
      " 882/1500 [================>.............] - ETA: 3s - loss: 0.1664 - accuracy: 0.95\n",
      " 989/1500 [==================>...........] - ETA: 3s - loss: 0.1659 - accuracy: 0.95\n",
      "1089/1500 [====================>.........] - ETA: 2s - loss: 0.1656 - accuracy: 0.95\n",
      "1185/1500 [======================>.......] - ETA: 1s - loss: 0.1653 - accuracy: 0.95\n",
      "1271/1500 [========================>.....] - ETA: 1s - loss: 0.1650 - accuracy: 0.952\n",
      "1374/1500 [==========================>...] - ETA: 0s - loss: 0.1646 - accuracy: 0.952\n",
      "1474/1500 [============================>.] - ETA: 0s - loss: 0.1641 - accuracy: 0.952\n",
      "1500/1500 [==============================] - 10s 7ms/step - loss: 0.1640 - accuracy: 0.9526 - val_loss: 0.1211 - val_accuracy: 0.9637\n",
      "Epoch 3/3\n",
      "  67/1500 [>.............................] - ETA: 9s - loss: 0.1115 - accuracy: 0.9671\n",
      " 169/1500 [==>...........................] - ETA: 8s - loss: 0.1164 - accuracy: 0.965\n",
      " 269/1500 [====>.........................] - ETA: 7s - loss: 0.1206 - accuracy: 0.964\n",
      " 372/1500 [======>.......................] - ETA: 6s - loss: 0.1225 - accuracy: 0.963\n",
      " 458/1500 [========>.....................] - ETA: 6s - loss: 0.1233 - accuracy: 0.963\n",
      " 564/1500 [==========>...................] - ETA: 5s - loss: 0.1240 - accuracy: 0.96\n",
      " 668/1500 [============>.................] - ETA: 4s - loss: 0.1238 - accuracy: 0.96\n",
      " 766/1500 [==============>...............] - ETA: 4s - loss: 0.1234 - accuracy: 0.96\n",
      " 860/1500 [================>.............] - ETA: 3s - loss: 0.1230 - accuracy: 0.96\n",
      " 954/1500 [=================>............] - ETA: 3s - loss: 0.1227 - accuracy: 0.96\n",
      "1055/1500 [===================>..........] - ETA: 2s - loss: 0.1223 - accuracy: 0.96\n",
      "1139/1500 [=====================>........] - ETA: 2s - loss: 0.1220 - accuracy: 0.96\n",
      "1245/1500 [=======================>......] - ETA: 1s - loss: 0.1217 - accuracy: 0.96\n",
      "1347/1500 [=========================>....] - ETA: 0s - loss: 0.1215 - accuracy: 0.96\n",
      "1450/1500 [============================>.] - ETA: 0s - loss: 0.1213 - accuracy: 0.96\n",
      "1500/1500 [==============================] - 10s 7ms/step - loss: 0.1213 - accuracy: 0.9643 - val_loss: 0.0993 - val_accuracy: 0.9715\n",
      "Test accuracy:  0.9710999727249146\n"
     ]
    },
    {
     "name": "stderr",
     "output_type": "stream",
     "text": [
      "[W 210314 19:15:40 job:173] Cleaning up job my-notebook-fairing...\n"
     ]
    },
    {
     "data": {
      "text/plain": [
       "(<kubeflow.fairing.preprocessors.converted_notebook.ConvertNotebookPreprocessor at 0x7ff8f78bf1d0>,\n",
       " <kubeflow.fairing.builders.append.append.AppendBuilder at 0x7ff8f78bfc88>,\n",
       " <kubeflow.fairing.deployers.job.job.Job at 0x7ff8f78d0b70>)"
      ]
     },
     "execution_count": 3,
     "metadata": {},
     "output_type": "execute_result"
    }
   ],
   "source": [
    "from kubeflow import fairing\n",
    "from kubeflow.fairing.kubernetes import utils as k8s_utils\n",
    "\n",
    "PRIVATE_REGISTRY = 'registry.kube-system.svc.cluster.local:30000'\n",
    "\n",
    "fairing.config.set_preprocessor(\n",
    "    'notebook', \n",
    "    notebook_file = '02-A-notebook-to-fairing.ipynb'\n",
    ")\n",
    "\n",
    "fairing.config.set_builder(\n",
    "    'append',\n",
    "    # base_image = f'{PRIVATE_REGISTRY}/kf-base:latest', # 사전준비에서 마련한 Base Image\n",
    "    base_image = 'tensorflow/tensorflow',\n",
    "    registry = PRIVATE_REGISTRY,\n",
    "    image_name='my-03-notebook-fairing-job', \n",
    "    push=True\n",
    ")\n",
    "\n",
    "fairing.config.set_deployer(\n",
    "    'job',\n",
    "    # job_name='my-notebook-fairing',\n",
    "    # namespace='myspace',\n",
    "    pod_spec_mutators=[\n",
    "        k8s_utils.get_resource_mutator(cpu=1, memory=5)]\n",
    ")\n",
    "\n",
    "fairing.config.run()"
   ]
  },
  {
   "cell_type": "code",
   "execution_count": null,
   "metadata": {},
   "outputs": [],
   "source": []
  }
 ],
 "metadata": {
  "kernelspec": {
   "display_name": "Python 3",
   "language": "python",
   "name": "python3"
  },
  "kubeflow_notebook": {
   "autosnapshot": false,
   "docker_image": "reddiana/jupyterlab-kale:0.0.9",
   "experiment": {
    "id": "",
    "name": ""
   },
   "experiment_name": "",
   "katib_metadata": {
    "algorithm": {
     "algorithmName": "grid"
    },
    "maxFailedTrialCount": 3,
    "maxTrialCount": 12,
    "objective": {
     "objectiveMetricName": "",
     "type": "minimize"
    },
    "parallelTrialCount": 3,
    "parameters": []
   },
   "katib_run": false,
   "pipeline_description": "",
   "pipeline_name": "",
   "snapshot_volumes": false,
   "steps_defaults": [],
   "volumes": []
  },
  "language_info": {
   "codemirror_mode": {
    "name": "ipython",
    "version": 3
   },
   "file_extension": ".py",
   "mimetype": "text/x-python",
   "name": "python",
   "nbconvert_exporter": "python",
   "pygments_lexer": "ipython3",
   "version": "3.6.9"
  }
 },
 "nbformat": 4,
 "nbformat_minor": 4
}
