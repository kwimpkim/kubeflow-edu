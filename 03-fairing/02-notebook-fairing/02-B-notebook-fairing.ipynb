{
 "cells": [
  {
   "cell_type": "code",
   "execution_count": null,
   "metadata": {},
   "outputs": [
    {
     "name": "stderr",
     "output_type": "stream",
     "text": [
      "[I 210103 17:31:35 config:134] Using preprocessor: <kubeflow.fairing.preprocessors.converted_notebook.ConvertNotebookPreprocessor object at 0x7f74491e6278>\n",
      "[I 210103 17:31:35 config:136] Using builder: <kubeflow.fairing.builders.append.append.AppendBuilder object at 0x7f74491e62b0>\n",
      "[I 210103 17:31:35 config:138] Using deployer: <kubeflow.fairing.deployers.job.job.Job object at 0x7f74886e79e8>\n",
      "[W 210103 17:31:35 append:50] Building image using Append builder...\n",
      "[I 210103 17:31:35 base:107] Creating docker context: /tmp/fairing_context_iai3tlie\n",
      "[I 210103 17:31:35 converted_notebook:127] Converting 02-A-notebook-to-fairing.ipynb to 02-A-notebook-to-fairing.py\n",
      "[I 210103 17:31:35 docker_creds_:234] Loading Docker credentials for repository 'tensorflow/tensorflow:2.0.3-gpu-py3'\n",
      "[W 210103 17:31:37 append:54] Image successfully built in 2.158250237000175s.\n",
      "[W 210103 17:31:37 append:94] Pushing image kubeflow-registry.default.svc.cluster.local:30000/my-03-notebook-fairing-job:5D876D35...\n",
      "[I 210103 17:31:37 docker_creds_:234] Loading Docker credentials for repository 'kubeflow-registry.default.svc.cluster.local:30000/my-03-notebook-fairing-job:5D876D35'\n",
      "[W 210103 17:31:37 append:81] Uploading kubeflow-registry.default.svc.cluster.local:30000/my-03-notebook-fairing-job:5D876D35\n",
      "[I 210103 17:31:37 docker_session_:280] Layer sha256:b11f037be8e82a958bc0f85b0fa2a73515ce8954042eac96bb654e662ae9519f exists, skipping\n",
      "[I 210103 17:31:37 docker_session_:280] Layer sha256:a6b0136f4b734fa962c4f6a51536f4c66bdf70607e08a815cc8b1ee28b967af7 exists, skipping\n",
      "[I 210103 17:31:37 docker_session_:280] Layer sha256:eee182b1b1f319aa543a64cf31d2ab0479870a7dc103da35ad4e450513dccdb9 exists, skipping\n",
      "[I 210103 17:31:37 docker_session_:280] Layer sha256:05cc64cc481fe79962b34513eab815d88ebe4ac6ac5014f5a75059120ff54403 exists, skipping\n",
      "[I 210103 17:31:37 docker_session_:280] Layer sha256:8ed3cb4f3e640b8c622e61beba1b83f115f32756055cafcc5840e4ae4f806cab exists, skipping\n",
      "[I 210103 17:31:37 docker_session_:280] Layer sha256:f24e58c7d76b40e220b929eb26738ea454d26e69b3c4f69915dbc39d801ad2bb exists, skipping\n",
      "[I 210103 17:31:37 docker_session_:280] Layer sha256:f08d8e2a3ba11bea23cf5c17e8e1c620057412ed05c32d1114640e18d6dd0a43 exists, skipping\n",
      "[I 210103 17:31:37 docker_session_:280] Layer sha256:64c1fb90b5a5b52bc9cd212302432b449b17377ab2822b7df3bf51183f955a15 exists, skipping\n",
      "[I 210103 17:31:37 docker_session_:280] Layer sha256:d69f906e5daf636062d23a04229abd5ad7cc9dc4ed4fec747209c475d2baedbe exists, skipping\n",
      "[I 210103 17:31:37 docker_session_:280] Layer sha256:3baa9cb2483bd9c5329a44d9c2fe72535625bbd4308bca95785dd58e72c06365 exists, skipping\n",
      "[I 210103 17:31:37 docker_session_:280] Layer sha256:180a91d332525099dc19822a6acdd951afc8caa017d5101cfe925d839a86d806 exists, skipping\n",
      "[I 210103 17:31:37 docker_session_:280] Layer sha256:94e5ff4c0b1526abf77c236655f21c8f67a23313291c8b970fe6b469549d8153 exists, skipping\n",
      "[I 210103 17:31:37 docker_session_:280] Layer sha256:24379c211bf57a28dc199d0b1e7dc6a8055c42367f7dc7aa7af94233424320d0 exists, skipping\n",
      "[I 210103 17:31:37 docker_session_:280] Layer sha256:da612ad945dfc0bddf4057d29e35c73c95bb864754567ab5068fe7b1fbd8b696 exists, skipping\n",
      "[I 210103 17:31:37 docker_session_:280] Layer sha256:808ab635d662f007795c47a50aa04f09645f4ff2356cb3b4a4793dc849f8c567 exists, skipping\n",
      "[I 210103 17:31:37 docker_session_:280] Layer sha256:1860925334f940c3145808527480b4f0cba7f01279087fdb27679e4354fba967 exists, skipping\n",
      "[I 210103 17:31:37 docker_session_:284] Layer sha256:1c0e41587e13792d845116d9b7327df5258d4f7a3020504f79cfffb631102828 pushed.\n",
      "[I 210103 17:31:37 docker_session_:284] Layer sha256:25a8bd37d6c240451ffc1f4731a02f716dd932f07347c5eab33c8ece7d119b41 pushed.\n",
      "[I 210103 17:31:37 docker_session_:334] Finished upload of: kubeflow-registry.default.svc.cluster.local:30000/my-03-notebook-fairing-job:5D876D35\n",
      "[W 210103 17:31:37 append:99] Pushed image kubeflow-registry.default.svc.cluster.local:30000/my-03-notebook-fairing-job:5D876D35 in 0.14738433598540723s.\n",
      "[W 210103 17:31:37 job:101] The job fairing-job-nsbz2 launched.\n",
      "[W 210103 17:31:37 manager:298] Waiting for fairing-job-nsbz2-vhglz to start...\n",
      "[W 210103 17:31:37 manager:298] Waiting for fairing-job-nsbz2-vhglz to start...\n",
      "[W 210103 17:31:37 manager:298] Waiting for fairing-job-nsbz2-vhglz to start...\n",
      "[I 210103 17:31:40 manager:304] Pod started running True\n"
     ]
    },
    {
     "name": "stdout",
     "output_type": "stream",
     "text": [
      "Downloading data from https://storage.googleapis.com/tensorflow/tf-keras-datasets/mnist.npz\n",
      "11493376/11490434 [==============================] - 0s 0us/step\n",
      "2021-01-03 17:31:41.944434: I tensorflow/stream_executor/platform/default/dso_loader.cc:44] Successfully opened dynamic library libcuda.so.1\n",
      "2021-01-03 17:31:41.944581: E tensorflow/stream_executor/cuda/cuda_driver.cc:318] failed call to cuInit: UNKNOWN ERROR (-1)\n",
      "2021-01-03 17:31:41.944632: I tensorflow/stream_executor/cuda/cuda_diagnostics.cc:156] kernel driver does not appear to be running on this host (fairing-job-nsbz2-vhglz): /proc/driver/nvidia/version does not exist\n",
      "2021-01-03 17:31:41.944905: I tensorflow/core/platform/cpu_feature_guard.cc:142] Your CPU supports instructions that this TensorFlow binary was not compiled to use: AVX2 FMA\n",
      "2021-01-03 17:31:41.954167: I tensorflow/core/platform/profile_utils/cpu_utils.cc:94] CPU Frequency: 2199995000 Hz\n",
      "2021-01-03 17:31:41.954955: I tensorflow/compiler/xla/service/service.cc:168] XLA service 0x39dfed0 executing computations on platform Host. Devices:\n",
      "2021-01-03 17:31:41.954987: I tensorflow/compiler/xla/service/service.cc:175]   StreamExecutor device (0): Host, Default Version\n",
      "Model: \"sequential\"\n",
      "_________________________________________________________________\n",
      "Layer (type)                 Output Shape              Param #\n",
      "=================================================================\n",
      "flatten (Flatten)            (None, 784)               0\n",
      "_________________________________________________________________\n",
      "dense (Dense)                (None, 128)               100480\n",
      "_________________________________________________________________\n",
      "dropout (Dropout)            (None, 128)               0\n",
      "_________________________________________________________________\n",
      "dense_1 (Dense)              (None, 10)                1290\n",
      "=================================================================\n",
      "Total params: 101,770\n",
      "Trainable params: 101,770\n",
      "Non-trainable params: 0\n",
      "_________________________________________________________________\n",
      "Training...\n",
      "Train on 48000 samples, validate on 12000 samples\n",
      "Epoch 1/3\n"
     ]
    }
   ],
   "source": [
    "from kubeflow import fairing\n",
    "from kubeflow.fairing.kubernetes import utils as k8s_utils\n",
    "\n",
    "PRIVATE_REGISTRY = 'kubeflow-registry.default.svc.cluster.local:30000'\n",
    "\n",
    "fairing.config.set_preprocessor(\n",
    "    'notebook', \n",
    "    notebook_file = '02-A-notebook-to-fairing.ipynb'\n",
    ")\n",
    "\n",
    "fairing.config.set_builder(\n",
    "    'append',\n",
    "    # base_image = f'{PRIVATE_REGISTRY}/kf-base:latest', # 사전준비에서 마련한 Base Image\n",
    "    base_image = 'tensorflow/tensorflow:2.0.3-gpu-py3',\n",
    "    registry = PRIVATE_REGISTRY,\n",
    "    image_name='my-03-notebook-fairing-job', \n",
    "    push=True\n",
    ")\n",
    "\n",
    "fairing.config.set_deployer(\n",
    "    'job',\n",
    "    namespace='myspace',\n",
    "    pod_spec_mutators=[\n",
    "        k8s_utils.get_resource_mutator(cpu=1, memory=5)]\n",
    ")\n",
    "\n",
    "fairing.config.run()"
   ]
  },
  {
   "cell_type": "code",
   "execution_count": null,
   "metadata": {},
   "outputs": [],
   "source": []
  }
 ],
 "metadata": {
  "kernelspec": {
   "display_name": "Python 3",
   "language": "python",
   "name": "python3"
  },
  "kubeflow_notebook": {
   "autosnapshot": false,
   "docker_image": "reddiana/jupyterlab-kale:0.0.9",
   "experiment": {
    "id": "",
    "name": ""
   },
   "experiment_name": "",
   "katib_metadata": {
    "algorithm": {
     "algorithmName": "grid"
    },
    "maxFailedTrialCount": 3,
    "maxTrialCount": 12,
    "objective": {
     "objectiveMetricName": "",
     "type": "minimize"
    },
    "parallelTrialCount": 3,
    "parameters": []
   },
   "katib_run": false,
   "pipeline_description": "",
   "pipeline_name": "",
   "snapshot_volumes": false,
   "steps_defaults": [],
   "volumes": []
  },
  "language_info": {
   "codemirror_mode": {
    "name": "ipython",
    "version": 3
   },
   "file_extension": ".py",
   "mimetype": "text/x-python",
   "name": "python",
   "nbconvert_exporter": "python",
   "pygments_lexer": "ipython3",
   "version": "3.6.9"
  }
 },
 "nbformat": 4,
 "nbformat_minor": 4
}
