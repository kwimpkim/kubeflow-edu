{
 "cells": [
  {
   "cell_type": "code",
   "execution_count": 1,
   "metadata": {},
   "outputs": [
    {
     "name": "stderr",
     "output_type": "stream",
     "text": [
      "[I 210314 12:05:40 config:134] Using preprocessor: <kubeflow.fairing.preprocessors.converted_notebook.ConvertNotebookPreprocessor object at 0x7fda846b35c0>\n",
      "[I 210314 12:05:40 config:136] Using builder: <kubeflow.fairing.builders.append.append.AppendBuilder object at 0x7fda846b3668>\n",
      "[I 210314 12:05:40 config:138] Using deployer: <kubeflow.fairing.deployers.job.job.Job object at 0x7fda846b35f8>\n",
      "[W 210314 12:05:40 append:50] Building image using Append builder...\n",
      "[I 210314 12:05:40 base:107] Creating docker context: /tmp/fairing_context_7ghq687k\n",
      "[I 210314 12:05:40 converted_notebook:127] Converting 02-A-notebook-to-fairing.ipynb to 02-A-notebook-to-fairing.py\n",
      "[I 210314 12:05:40 docker_creds_:234] Loading Docker credentials for repository 'tensorflow/tensorflow'\n",
      "[W 210314 12:05:41 append:54] Image successfully built in 0.8368546969995805s.\n",
      "[W 210314 12:05:41 append:94] Pushing image registry.kube-system.svc.cluster.local:30000/my-03-notebook-fairing-job:E7B439D3...\n",
      "[I 210314 12:05:41 docker_creds_:234] Loading Docker credentials for repository 'registry.kube-system.svc.cluster.local:30000/my-03-notebook-fairing-job:E7B439D3'\n",
      "[W 210314 12:05:41 append:81] Uploading registry.kube-system.svc.cluster.local:30000/my-03-notebook-fairing-job:E7B439D3\n",
      "[I 210314 12:05:41 docker_session_:284] Layer sha256:e4dcef408c10510b1f7bcbabed4031df9e722275dd7a394acb27585fe06e73d0 pushed.\n",
      "[I 210314 12:05:41 docker_session_:284] Layer sha256:ea8a2ea5b4b0152d74397ee6699b8e04fd222ccbf4f1451cb09238c16df174c3 pushed.\n",
      "[I 210314 12:05:41 docker_session_:284] Layer sha256:c29b15b084af0bc2cabab123e72a62f1d9919774f15a91eeeb3b138aaf5f7850 pushed.\n",
      "[I 210314 12:05:41 docker_session_:284] Layer sha256:b3afe92c540b778c64ca316d1e679d55d2d2e812e450f516a808ee591f0c3f77 pushed.\n",
      "[I 210314 12:05:41 docker_session_:284] Layer sha256:d22d2dfcfa9cd230ed3c47defec2670d45081598c721dd85cafc34ea459f970e pushed.\n",
      "[I 210314 12:05:41 docker_session_:284] Layer sha256:5d43e8c7056a20768e9c36d57ba56227f71df1563d630d424f512efd7b028805 pushed.\n",
      "[I 210314 12:05:41 docker_session_:284] Layer sha256:0b2b6f75fc9510d3889bb224823a6d8a720a0cba6d7481874e4612ccbccd3014 pushed.\n",
      "[I 210314 12:05:42 docker_session_:284] Layer sha256:961442e8e0e4f9ec91ef34f41523a3dc42e68476b5f8d27e2fe43f179d801263 pushed.\n",
      "[I 210314 12:05:43 docker_session_:284] Layer sha256:d519e2592276828ca171d85e0532899cd4f98c70f5c697b45fa2e126e9f9fe49 pushed.\n",
      "[I 210314 12:05:43 docker_session_:284] Layer sha256:c12ceea561ed13e6b0566ce331de9cfc90b43ab4b14a2e12a5a29d73420f51b3 pushed.\n",
      "[I 210314 12:05:46 docker_session_:284] Layer sha256:1f0ffb4d2509e58e040b2d3c146f875dfc5d39ac9e974e6bfb1a5505b98eefae pushed.\n",
      "[I 210314 12:05:53 docker_session_:284] Layer sha256:e266fced02fae9320dafe0ef2adab0fd0bdd5a7d795848c2fa344eafb4f70ab9 pushed.\n",
      "[I 210314 12:05:53 docker_session_:334] Finished upload of: registry.kube-system.svc.cluster.local:30000/my-03-notebook-fairing-job:E7B439D3\n",
      "[W 210314 12:05:53 append:99] Pushed image registry.kube-system.svc.cluster.local:30000/my-03-notebook-fairing-job:E7B439D3 in 12.927813732998402s.\n",
      "[W 210314 12:05:54 job:101] The job fairing-job-dd78m launched.\n",
      "[W 210314 12:05:54 manager:298] Waiting for fairing-job-dd78m-n4nqj to start...\n",
      "[W 210314 12:05:54 manager:298] Waiting for fairing-job-dd78m-n4nqj to start...\n",
      "[W 210314 12:05:54 manager:298] Waiting for fairing-job-dd78m-n4nqj to start...\n",
      "[I 210314 12:05:56 manager:304] Pod started running True\n"
     ]
    },
    {
     "name": "stdout",
     "output_type": "stream",
     "text": [
      "2021-03-14 12:05:55.700893: W tensorflow/stream_executor/platform/default/dso_loader.cc:60] Could not load dynamic library 'libcudart.so.11.0'; dlerror: libcudart.so.11.0: cannot open shared object file: No such file or directory\n",
      "2021-03-14 12:05:55.700935: I tensorflow/stream_executor/cuda/cudart_stub.cc:29] Ignore above cudart dlerror if you do not have a GPU set up on your machine.\n",
      "Downloading data from https://storage.googleapis.com/tensorflow/tf-keras-datasets/mnist.npz\n",
      "11493376/11490434 [==============================] - 0s 0us/step\n",
      "2021-03-14 12:05:59.004371: I tensorflow/compiler/jit/xla_cpu_device.cc:41] Not creating XLA devices, tf_xla_enable_xla_devices not set\n",
      "2021-03-14 12:05:59.004689: W tensorflow/stream_executor/platform/default/dso_loader.cc:60] Could not load dynamic library 'libcuda.so.1'; dlerror: libcuda.so.1: cannot open shared object file: No such file or directory\n",
      "2021-03-14 12:05:59.004715: W tensorflow/stream_executor/cuda/cuda_driver.cc:326] failed call to cuInit: UNKNOWN ERROR (303)\n",
      "2021-03-14 12:05:59.004754: I tensorflow/stream_executor/cuda/cuda_diagnostics.cc:156] kernel driver does not appear to be running on this host (fairing-job-dd78m-n4nqj): /proc/driver/nvidia/version does not exist\n",
      "2021-03-14 12:05:59.005150: I tensorflow/core/platform/cpu_feature_guard.cc:142] This TensorFlow binary is optimized with oneAPI Deep Neural Network Library (oneDNN) to use the following CPU instructions in performance-critical operations:  AVX2 FMA\n",
      "To enable them in other operations, rebuild TensorFlow with the appropriate compiler flags.\n",
      "2021-03-14 12:05:59.006156: I tensorflow/compiler/jit/xla_gpu_device.cc:99] Not creating XLA devices, tf_xla_enable_xla_devices not set\n",
      "2021-03-14 12:05:59.323603: W tensorflow/core/framework/cpu_allocator_impl.cc:80] Allocation of 150528000 exceeds 10% of free system memory.\n",
      "2021-03-14 12:05:59.536766: I tensorflow/compiler/mlir/mlir_graph_optimization_pass.cc:116] None of the MLIR optimization passes are enabled (registered 2)\n",
      "2021-03-14 12:05:59.537485: I tensorflow/core/platform/profile_utils/cpu_utils.cc:112] CPU Frequency: 2299995000 Hz\n",
      "Model: \"sequential\"\n",
      "_________________________________________________________________\n",
      "Layer (type)                 Output Shape              Param #\n",
      "=================================================================\n",
      "flatten (Flatten)            (None, 784)               0\n",
      "_________________________________________________________________\n",
      "dense (Dense)                (None, 128)               100480\n",
      "_________________________________________________________________\n",
      "dropout (Dropout)            (None, 128)               0\n",
      "_________________________________________________________________\n",
      "dense_1 (Dense)              (None, 10)                1290\n",
      "=================================================================\n",
      "Total params: 101,770\n",
      "Trainable params: 101,770\n",
      "Non-trainable params: 0\n",
      "_________________________________________________________________\n",
      "Training...\n",
      "Epoch 1/3\n",
      "  72/1500 [>.............................] - ETA: 9s - loss: 1.6383 - accuracy: 0.49936 \n",
      " 163/1500 [==>...........................] - ETA: 8s - loss: 1.2454 - accuracy: 0.629\n",
      " 259/1500 [====>.........................] - ETA: 8s - loss: 1.0489 - accuracy: 0.690\n",
      " 338/1500 [=====>........................] - ETA: 7s - loss: 0.9474 - accuracy: 0.721\n",
      " 427/1500 [=======>......................] - ETA: 7s - loss: 0.8663 - accuracy: 0.745\n",
      " 526/1500 [=========>....................] - ETA: 6s - loss: 0.7998 - accuracy: 0.76\n",
      " 617/1500 [===========>..................] - ETA: 5s - loss: 0.7600 - accuracy: 0.77\n",
      " 710/1500 [=============>................] - ETA: 5s - loss: 0.7212 - accuracy: 0.78\n",
      " 810/1500 [===============>..............] - ETA: 4s - loss: 0.6859 - accuracy: 0.79\n",
      " 907/1500 [================>.............] - ETA: 3s - loss: 0.6571 - accuracy: 0.80\n",
      " 983/1500 [==================>...........] - ETA: 3s - loss: 0.6354 - accuracy: 0.81\n",
      "1072/1500 [====================>.........] - ETA: 2s - loss: 0.6126 - accuracy: 0.82\n",
      "1154/1500 [======================>.......] - ETA: 2s - loss: 0.5957 - accuracy: 0.82\n",
      "1251/1500 [========================>.....] - ETA: 1s - loss: 0.5775 - accuracy: 0.83\n",
      "1348/1500 [=========================>....] - ETA: 0s - loss: 0.5612 - accuracy: 0.83\n",
      "1442/1500 [===========================>..] - ETA: 0s - loss: 0.5469 - accuracy: 0.84\n",
      "1500/1500 [==============================] - 12s 7ms/step - loss: 0.5385 - accuracy: 0.8430 - val_loss: 0.1567 - val_accuracy: 0.9559\n",
      "Epoch 2/3\n",
      "  70/1500 [>.............................] - ETA: 9s - loss: 0.1941 - accuracy: 0.9329\n",
      " 150/1500 [==>...........................] - ETA: 8s - loss: 0.1814 - accuracy: 0.938\n",
      " 232/1500 [===>..........................] - ETA: 8s - loss: 0.1778 - accuracy: 0.940\n",
      " 325/1500 [=====>........................] - ETA: 7s - loss: 0.1761 - accuracy: 0.942\n",
      " 414/1500 [=======>......................] - ETA: 7s - loss: 0.1760 - accuracy: 0.943\n",
      " 509/1500 [=========>....................] - ETA: 6s - loss: 0.1759 - accuracy: 0.944\n",
      " 604/1500 [===========>..................] - ETA: 5s - loss: 0.1755 - accuracy: 0.94\n",
      " 702/1500 [=============>................] - ETA: 5s - loss: 0.1754 - accuracy: 0.94\n",
      " 799/1500 [==============>...............] - ETA: 4s - loss: 0.1750 - accuracy: 0.94\n",
      " 895/1500 [================>.............] - ETA: 4s - loss: 0.1744 - accuracy: 0.94\n",
      " 991/1500 [==================>...........] - ETA: 3s - loss: 0.1738 - accuracy: 0.94\n",
      "1070/1500 [====================>.........] - ETA: 2s - loss: 0.1731 - accuracy: 0.94\n",
      "1167/1500 [======================>.......] - ETA: 2s - loss: 0.1724 - accuracy: 0.94\n",
      "1260/1500 [========================>.....] - ETA: 1s - loss: 0.1717 - accuracy: 0.94\n",
      "1355/1500 [==========================>...] - ETA: 0s - loss: 0.1711 - accuracy: 0.94\n",
      "1447/1500 [===========================>..] - ETA: 0s - loss: 0.1706 - accuracy: 0.94\n",
      "1500/1500 [==============================] - 11s 7ms/step - loss: 0.1703 - accuracy: 0.9483 - val_loss: 0.1190 - val_accuracy: 0.9661\n",
      "Epoch 3/3\n",
      "  55/1500 [>.............................] - ETA: 9s - loss: 0.1318 - accuracy: 0.9598\n",
      " 147/1500 [=>............................] - ETA: 8s - loss: 0.1251 - accuracy: 0.961\n",
      " 244/1500 [===>..........................] - ETA: 8s - loss: 0.1227 - accuracy: 0.962\n",
      " 336/1500 [=====>........................] - ETA: 7s - loss: 0.1215 - accuracy: 0.962\n",
      " 434/1500 [=======>......................] - ETA: 6s - loss: 0.1212 - accuracy: 0.963\n",
      " 529/1500 [=========>....................] - ETA: 6s - loss: 0.1206 - accuracy: 0.96\n",
      " 619/1500 [===========>..................] - ETA: 5s - loss: 0.1200 - accuracy: 0.96\n",
      " 713/1500 [=============>................] - ETA: 5s - loss: 0.1197 - accuracy: 0.96\n",
      " 809/1500 [===============>..............] - ETA: 4s - loss: 0.1195 - accuracy: 0.96\n",
      " 901/1500 [================>.............] - ETA: 3s - loss: 0.1193 - accuracy: 0.96\n",
      " 999/1500 [==================>...........] - ETA: 3s - loss: 0.1191 - accuracy: 0.96\n",
      "1061/1500 [====================>.........] - ETA: 2s - loss: 0.1189 - accuracy: 0.96\n",
      "1155/1500 [======================>.......] - ETA: 2s - loss: 0.1188 - accuracy: 0.96\n",
      "1252/1500 [========================>.....] - ETA: 1s - loss: 0.1187 - accuracy: 0.96\n",
      "1349/1500 [=========================>....] - ETA: 0s - loss: 0.1186 - accuracy: 0.96\n",
      "1444/1500 [===========================>..] - ETA: 0s - loss: 0.1185 - accuracy: 0.96\n",
      "1500/1500 [==============================] - 11s 7ms/step - loss: 0.1185 - accuracy: 0.9646 - val_loss: 0.1011 - val_accuracy: 0.9707\n",
      "Test accuracy:  0.9710999727249146\n"
     ]
    },
    {
     "name": "stderr",
     "output_type": "stream",
     "text": [
      "[W 210314 12:06:34 job:173] Cleaning up job fairing-job-dd78m...\n"
     ]
    },
    {
     "data": {
      "text/plain": [
       "(<kubeflow.fairing.preprocessors.converted_notebook.ConvertNotebookPreprocessor at 0x7fda846b35c0>,\n",
       " <kubeflow.fairing.builders.append.append.AppendBuilder at 0x7fda846b3668>,\n",
       " <kubeflow.fairing.deployers.job.job.Job at 0x7fda846b35f8>)"
      ]
     },
     "execution_count": 1,
     "metadata": {},
     "output_type": "execute_result"
    }
   ],
   "source": [
    "from kubeflow import fairing\n",
    "from kubeflow.fairing.kubernetes import utils as k8s_utils\n",
    "\n",
    "PRIVATE_REGISTRY = 'registry.kube-system.svc.cluster.local:30000'\n",
    "\n",
    "fairing.config.set_preprocessor(\n",
    "    'notebook', \n",
    "    notebook_file = '02-A-notebook-to-fairing.ipynb'\n",
    ")\n",
    "\n",
    "fairing.config.set_builder(\n",
    "    'append',\n",
    "    # base_image = f'{PRIVATE_REGISTRY}/kf-base:latest', # 사전준비에서 마련한 Base Image\n",
    "    base_image = 'tensorflow/tensorflow',\n",
    "    registry = PRIVATE_REGISTRY,\n",
    "    image_name='my-03-notebook-fairing-job', \n",
    "    push=True\n",
    ")\n",
    "\n",
    "fairing.config.set_deployer(\n",
    "    'job',\n",
    "    namespace='myspace',\n",
    "    pod_spec_mutators=[\n",
    "        k8s_utils.get_resource_mutator(cpu=1, memory=5)]\n",
    ")\n",
    "\n",
    "fairing.config.run()"
   ]
  },
  {
   "cell_type": "code",
   "execution_count": null,
   "metadata": {},
   "outputs": [],
   "source": []
  }
 ],
 "metadata": {
  "kernelspec": {
   "display_name": "Python 3",
   "language": "python",
   "name": "python3"
  },
  "kubeflow_notebook": {
   "autosnapshot": false,
   "docker_image": "reddiana/jupyterlab-kale:0.0.9",
   "experiment": {
    "id": "",
    "name": ""
   },
   "experiment_name": "",
   "katib_metadata": {
    "algorithm": {
     "algorithmName": "grid"
    },
    "maxFailedTrialCount": 3,
    "maxTrialCount": 12,
    "objective": {
     "objectiveMetricName": "",
     "type": "minimize"
    },
    "parallelTrialCount": 3,
    "parameters": []
   },
   "katib_run": false,
   "pipeline_description": "",
   "pipeline_name": "",
   "snapshot_volumes": false,
   "steps_defaults": [],
   "volumes": []
  },
  "language_info": {
   "codemirror_mode": {
    "name": "ipython",
    "version": 3
   },
   "file_extension": ".py",
   "mimetype": "text/x-python",
   "name": "python",
   "nbconvert_exporter": "python",
   "pygments_lexer": "ipython3",
   "version": "3.6.9"
  }
 },
 "nbformat": 4,
 "nbformat_minor": 4
}
