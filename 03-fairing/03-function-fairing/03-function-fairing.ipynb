{
 "cells": [
  {
   "cell_type": "code",
   "execution_count": 1,
   "metadata": {
    "tags": []
   },
   "outputs": [],
   "source": [
    "import tensorflow as tf\n",
    "\n",
    "def train():\n",
    "  \n",
    "    mnist = tf.keras.datasets.mnist\n",
    "\n",
    "    (x_train, y_train), (x_test, y_test) = mnist.load_data()\n",
    "    x_train, x_test = x_train / 255.0, x_test / 255.0\n",
    "\n",
    "    model = tf.keras.models.Sequential([\n",
    "        tf.keras.layers.Flatten(input_shape=(28, 28)),\n",
    "        tf.keras.layers.Dense(128, activation='relu'),\n",
    "        tf.keras.layers.Dropout(0.2),\n",
    "        tf.keras.layers.Dense(10, activation='softmax')\n",
    "    ])\n",
    "\n",
    "    model.compile(\n",
    "        optimizer='adam',\n",
    "        loss='sparse_categorical_crossentropy',\n",
    "        metrics=['accuracy']\n",
    "    )\n",
    "\n",
    "    model.summary()\n",
    "\n",
    "    print(\"Training...\")\n",
    "\n",
    "    model.fit(\n",
    "        x_train, y_train, \n",
    "        epochs=3, \n",
    "        validation_split=0.2 \n",
    "    ) \n",
    "\n",
    "    score = model.evaluate(x_test, y_test, batch_size=128, verbose=0)\n",
    "    print('Test accuracy: ', score[1])"
   ]
  },
  {
   "cell_type": "code",
   "execution_count": 2,
   "metadata": {
    "collapsed": true,
    "jupyter": {
     "outputs_hidden": true
    },
    "tags": []
   },
   "outputs": [
    {
     "name": "stdout",
     "output_type": "stream",
     "text": [
      "Model: \"sequential\"\n",
      "_________________________________________________________________\n",
      "Layer (type)                 Output Shape              Param #   \n",
      "=================================================================\n",
      "flatten (Flatten)            (None, 784)               0         \n",
      "_________________________________________________________________\n",
      "dense (Dense)                (None, 128)               100480    \n",
      "_________________________________________________________________\n",
      "dropout (Dropout)            (None, 128)               0         \n",
      "_________________________________________________________________\n",
      "dense_1 (Dense)              (None, 10)                1290      \n",
      "=================================================================\n",
      "Total params: 101,770\n",
      "Trainable params: 101,770\n",
      "Non-trainable params: 0\n",
      "_________________________________________________________________\n",
      "Training...\n",
      "Train on 48000 samples, validate on 12000 samples\n",
      "Epoch 1/3\n",
      "48000/48000 [==============================] - 5s 110us/sample - loss: 0.3349 - accuracy: 0.9023 - val_loss: 0.1570 - val_accuracy: 0.9550\n",
      "Epoch 2/3\n",
      "48000/48000 [==============================] - 4s 90us/sample - loss: 0.1614 - accuracy: 0.9524 - val_loss: 0.1146 - val_accuracy: 0.9663\n",
      "Epoch 3/3\n",
      "48000/48000 [==============================] - 4s 88us/sample - loss: 0.1208 - accuracy: 0.9645 - val_loss: 0.0965 - val_accuracy: 0.9705\n",
      "Test accuracy:  0.97\n"
     ]
    }
   ],
   "source": [
    "# Local training\n",
    "train()"
   ]
  },
  {
   "cell_type": "code",
   "execution_count": 3,
   "metadata": {
    "tags": []
   },
   "outputs": [
    {
     "name": "stderr",
     "output_type": "stream",
     "text": [
      "[I 210103 17:12:21 config:134] Using preprocessor: <kubeflow.fairing.preprocessors.function.FunctionPreProcessor object at 0x7fe5700a66a0>\n",
      "[I 210103 17:12:21 config:136] Using builder: <kubeflow.fairing.builders.append.append.AppendBuilder object at 0x7fe58613b908>\n",
      "[I 210103 17:12:21 config:138] Using deployer: <kubeflow.fairing.deployers.job.job.Job object at 0x7fe5700a6828>\n",
      "[W 210103 17:12:21 append:50] Building image using Append builder...\n",
      "[I 210103 17:12:21 base:107] Creating docker context: /tmp/fairing_context_98201suk\n",
      "[W 210103 17:12:21 base:94] /usr/local/lib/python3.6/dist-packages/kubeflow/fairing/__init__.py already exists in Fairing context, skipping...\n",
      "[I 210103 17:12:21 docker_creds_:234] Loading Docker credentials for repository 'tensorflow/tensorflow:2.0.3-gpu-py3'\n",
      "[W 210103 17:12:24 append:54] Image successfully built in 2.1465259729884565s.\n",
      "[W 210103 17:12:24 append:94] Pushing image kubeflow-registry.default.svc.cluster.local:30000/fairing-job:CE704026...\n",
      "[I 210103 17:12:24 docker_creds_:234] Loading Docker credentials for repository 'kubeflow-registry.default.svc.cluster.local:30000/fairing-job:CE704026'\n",
      "[W 210103 17:12:24 append:81] Uploading kubeflow-registry.default.svc.cluster.local:30000/fairing-job:CE704026\n",
      "[I 210103 17:12:24 docker_session_:280] Layer sha256:b11f037be8e82a958bc0f85b0fa2a73515ce8954042eac96bb654e662ae9519f exists, skipping\n",
      "[I 210103 17:12:24 docker_session_:280] Layer sha256:3baa9cb2483bd9c5329a44d9c2fe72535625bbd4308bca95785dd58e72c06365 exists, skipping\n",
      "[I 210103 17:12:24 docker_session_:280] Layer sha256:f24e58c7d76b40e220b929eb26738ea454d26e69b3c4f69915dbc39d801ad2bb exists, skipping\n",
      "[I 210103 17:12:24 docker_session_:280] Layer sha256:8ed3cb4f3e640b8c622e61beba1b83f115f32756055cafcc5840e4ae4f806cab exists, skipping\n",
      "[I 210103 17:12:24 docker_session_:280] Layer sha256:180a91d332525099dc19822a6acdd951afc8caa017d5101cfe925d839a86d806 exists, skipping\n",
      "[I 210103 17:12:24 docker_session_:280] Layer sha256:eee182b1b1f319aa543a64cf31d2ab0479870a7dc103da35ad4e450513dccdb9 exists, skipping\n",
      "[I 210103 17:12:24 docker_session_:280] Layer sha256:05cc64cc481fe79962b34513eab815d88ebe4ac6ac5014f5a75059120ff54403 exists, skipping\n",
      "[I 210103 17:12:24 docker_session_:280] Layer sha256:a6b0136f4b734fa962c4f6a51536f4c66bdf70607e08a815cc8b1ee28b967af7 exists, skipping\n",
      "[I 210103 17:12:24 docker_session_:280] Layer sha256:1860925334f940c3145808527480b4f0cba7f01279087fdb27679e4354fba967 exists, skipping\n",
      "[I 210103 17:12:24 docker_session_:280] Layer sha256:64c1fb90b5a5b52bc9cd212302432b449b17377ab2822b7df3bf51183f955a15 exists, skipping\n",
      "[I 210103 17:12:24 docker_session_:280] Layer sha256:24379c211bf57a28dc199d0b1e7dc6a8055c42367f7dc7aa7af94233424320d0 exists, skipping\n",
      "[I 210103 17:12:24 docker_session_:280] Layer sha256:f08d8e2a3ba11bea23cf5c17e8e1c620057412ed05c32d1114640e18d6dd0a43 exists, skipping\n",
      "[I 210103 17:12:24 docker_session_:280] Layer sha256:da612ad945dfc0bddf4057d29e35c73c95bb864754567ab5068fe7b1fbd8b696 exists, skipping\n",
      "[I 210103 17:12:24 docker_session_:280] Layer sha256:808ab635d662f007795c47a50aa04f09645f4ff2356cb3b4a4793dc849f8c567 exists, skipping\n",
      "[I 210103 17:12:24 docker_session_:280] Layer sha256:94e5ff4c0b1526abf77c236655f21c8f67a23313291c8b970fe6b469549d8153 exists, skipping\n",
      "[I 210103 17:12:24 docker_session_:280] Layer sha256:d69f906e5daf636062d23a04229abd5ad7cc9dc4ed4fec747209c475d2baedbe exists, skipping\n",
      "[I 210103 17:12:24 docker_session_:284] Layer sha256:d7e2d486d1c47b2c98024e0d8efd4aa5f6b4516364f0d7894962e7ca25b89327 pushed.\n",
      "[I 210103 17:12:24 docker_session_:284] Layer sha256:e848e73bcadfef9e6763f0b5836e76758c51dd5ffa6478e30a3f97c49c8a576f pushed.\n",
      "[I 210103 17:12:24 docker_session_:334] Finished upload of: kubeflow-registry.default.svc.cluster.local:30000/fairing-job:CE704026\n",
      "[W 210103 17:12:24 append:99] Pushed image kubeflow-registry.default.svc.cluster.local:30000/fairing-job:CE704026 in 0.28615243500098586s.\n",
      "[W 210103 17:12:24 job:101] The job fairing-job-hmxv8 launched.\n",
      "[W 210103 17:12:24 manager:298] Waiting for fairing-job-hmxv8-8fz96 to start...\n",
      "[W 210103 17:12:24 manager:298] Waiting for fairing-job-hmxv8-8fz96 to start...\n",
      "[W 210103 17:12:24 manager:298] Waiting for fairing-job-hmxv8-8fz96 to start...\n",
      "[I 210103 17:12:26 manager:304] Pod started running True\n"
     ]
    },
    {
     "name": "stdout",
     "output_type": "stream",
     "text": [
      "Downloading data from https://storage.googleapis.com/tensorflow/tf-keras-datasets/mnist.npz\n",
      "11493376/11490434 [==============================] - 0s 0us/step\n",
      "2021-01-03 17:12:28.397829: I tensorflow/stream_executor/platform/default/dso_loader.cc:44] Successfully opened dynamic library libcuda.so.1\n",
      "2021-01-03 17:12:28.397907: E tensorflow/stream_executor/cuda/cuda_driver.cc:318] failed call to cuInit: UNKNOWN ERROR (-1)\n",
      "2021-01-03 17:12:28.397940: I tensorflow/stream_executor/cuda/cuda_diagnostics.cc:156] kernel driver does not appear to be running on this host (fairing-job-hmxv8-8fz96): /proc/driver/nvidia/version does not exist\n",
      "2021-01-03 17:12:28.398277: I tensorflow/core/platform/cpu_feature_guard.cc:142] Your CPU supports instructions that this TensorFlow binary was not compiled to use: AVX2 FMA\n",
      "2021-01-03 17:12:28.408264: I tensorflow/core/platform/profile_utils/cpu_utils.cc:94] CPU Frequency: 2199995000 Hz\n",
      "2021-01-03 17:12:28.408917: I tensorflow/compiler/xla/service/service.cc:168] XLA service 0x57862a0 executing computations on platform Host. Devices:\n",
      "2021-01-03 17:12:28.408957: I tensorflow/compiler/xla/service/service.cc:175]   StreamExecutor device (0): Host, Default Version\n",
      "2021-01-03 17:12:28.546584: W tensorflow/core/framework/cpu_allocator_impl.cc:81] Allocation of 301056000 exceeds 10% of system memory.\n",
      "Model: \"sequential\"\n",
      "_________________________________________________________________\n",
      "Layer (type)                 Output Shape              Param #\n",
      "=================================================================\n",
      "flatten (Flatten)            (None, 784)               0\n",
      "_________________________________________________________________\n",
      "dense (Dense)                (None, 128)               100480\n",
      "_________________________________________________________________\n",
      "dropout (Dropout)            (None, 128)               0\n",
      "_________________________________________________________________\n",
      "dense_1 (Dense)              (None, 10)                1290\n",
      "=================================================================\n",
      "Total params: 101,770\n",
      "Trainable params: 101,770\n",
      "Non-trainable params: 0\n",
      "_________________________________________________________________\n",
      "Training...\n",
      "Train on 48000 samples, validate on 12000 samples\n",
      "Epoch 1/3\n",
      " 2944/48000 [>.............................] - ETA: 12s - loss: 1.0132 - accuracy: 0.6940 \n",
      " 6816/48000 [===>..........................] - ETA: 6s - loss: 0.6926 - accuracy: 0.7888\n",
      "11008/48000 [=====>........................] - ETA: 5s - loss: 0.5854 - accuracy: 0.82\n",
      "15392/48000 [========>.....................] - ETA: 3s - loss: 0.5139 - accuracy: 0.84\n",
      "18336/48000 [==========>...................] - ETA: 3s - loss: 0.4688 - accuracy: 0.86\n",
      "22624/48000 [=============>................] - ETA: 2s - loss: 0.4358 - accuracy: 0.87\n",
      "26880/48000 [===============>..............] - ETA: 2s - loss: 0.4108 - accuracy: 0.88\n",
      "30496/48000 [=================>............] - ETA: 1s - loss: 0.3907 - accuracy: 0.88\n",
      "33344/48000 [===================>..........] - ETA: 1s - loss: 0.3729 - accuracy: 0.891\n",
      "37536/48000 [======================>.......] - ETA: 0s - loss: 0.3562 - accuracy: 0.896\n",
      "41760/48000 [=========================>....] - ETA: 0s - loss: 0.3415 - accuracy: 0.900\n",
      "45984/48000 [===========================>..] - ETA: 0s - loss: 0.3307 - accuracy: 0.90\n",
      "48000/48000 [==============================] - 5s 107us/sample - loss: 0.3228 - accuracy: 0.9058 - val_loss: 0.1568 - val_accuracy: 0.9546\n",
      "Epoch 2/3\n",
      " 3552/48000 [=>............................] - ETA: 3s - loss: 0.1720 - accuracy: 0.94\n",
      " 7520/48000 [===>..........................] - ETA: 3s - loss: 0.1775 - accuracy: 0.94\n",
      "11616/48000 [======>.......................] - ETA: 2s - loss: 0.1715 - accuracy: 0.95\n",
      "15744/48000 [========>.....................] - ETA: 2s - loss: 0.1686 - accuracy: 0.95\n",
      "19424/48000 [===========>..................] - ETA: 2s - loss: 0.1656 - accuracy: 0.951\n",
      "22816/48000 [=============>................] - ETA: 1s - loss: 0.1665 - accuracy: 0.951\n",
      "26336/48000 [===============>..............] - ETA: 1s - loss: 0.1654 - accuracy: 0.951\n",
      "30688/48000 [==================>...........] - ETA: 1s - loss: 0.1623 - accuracy: 0.95\n",
      "34752/48000 [====================>.........] - ETA: 1s - loss: 0.1595 - accuracy: 0.95\n",
      "37952/48000 [======================>.......] - ETA: 0s - loss: 0.1584 - accuracy: 0.95\n",
      "41920/48000 [=========================>....] - ETA: 0s - loss: 0.1597 - accuracy: 0.95\n",
      "46336/48000 [===========================>..] - ETA: 0s - loss: 0.1580 - accuracy: 0.95\n",
      "48000/48000 [==============================] - 4s 90us/sample - loss: 0.1572 - accuracy: 0.9536 - val_loss: 0.1178 - val_accuracy: 0.9656\n",
      "Epoch 3/3\n",
      " 3392/48000 [=>............................] - ETA: 3s - loss: 0.1170 - accuracy: 0.96\n",
      " 7488/48000 [===>..........................] - ETA: 3s - loss: 0.1218 - accuracy: 0.96\n",
      "11712/48000 [======>.......................] - ETA: 2s - loss: 0.1211 - accuracy: 0.96\n",
      "15840/48000 [========>.....................] - ETA: 2s - loss: 0.1194 - accuracy: 0.96\n",
      "19008/48000 [==========>...................] - ETA: 2s - loss: 0.1225 - accuracy: 0.964\n",
      "22784/48000 [=============>................] - ETA: 1s - loss: 0.1225 - accuracy: 0.964\n",
      "26944/48000 [===============>..............] - ETA: 1s - loss: 0.1229 - accuracy: 0.963\n",
      "31200/48000 [==================>...........] - ETA: 1s - loss: 0.1211 - accuracy: 0.96\n",
      "35200/48000 [====================>.........] - ETA: 1s - loss: 0.1221 - accuracy: 0.96\n",
      "38784/48000 [=======================>......] - ETA: 0s - loss: 0.1210 - accuracy: 0.96\n",
      "42880/48000 [=========================>....] - ETA: 0s - loss: 0.1199 - accuracy: 0.96\n",
      "47168/48000 [============================>.] - ETA: 0s - loss: 0.1195 - accuracy: 0.96\n",
      "48000/48000 [==============================] - 4s 90us/sample - loss: 0.1195 - accuracy: 0.9637 - val_loss: 0.1017 - val_accuracy: 0.9675\n",
      "Test accuracy:  0.9711\n"
     ]
    },
    {
     "name": "stderr",
     "output_type": "stream",
     "text": [
      "[W 210103 17:12:44 job:173] Cleaning up job fairing-job-hmxv8...\n"
     ]
    }
   ],
   "source": [
    "from kubeflow import fairing\n",
    "\n",
    "PRIVATE_REGISTRY = 'kubeflow-registry.default.svc.cluster.local:30000'\n",
    "\n",
    "fairing.config.set_builder(\n",
    "    'append',\n",
    "    base_image = 'tensorflow/tensorflow:2.0.3-gpu-py3',\n",
    "    # base_image = f'{PRIVATE_REGISTRY}/kf-base:latest', \n",
    "    registry = PRIVATE_REGISTRY, \n",
    "    push=True\n",
    ")\n",
    "\n",
    "fairing.config.set_deployer('job')\n",
    "\n",
    "remote_train = fairing.config.fn(train)\n",
    "\n",
    "remote_train()"
   ]
  },
  {
   "cell_type": "markdown",
   "metadata": {
    "tags": []
   },
   "source": [
    "### curl로 프라이빗 레지스트리 확인"
   ]
  },
  {
   "cell_type": "code",
   "execution_count": 4,
   "metadata": {
    "tags": []
   },
   "outputs": [
    {
     "name": "stdout",
     "output_type": "stream",
     "text": [
      "{\"repositories\":[\"fairing-job\"]}\n"
     ]
    }
   ],
   "source": [
    "! curl http://kubeflow-registry.default.svc.cluster.local:30000/v2/_catalog"
   ]
  },
  {
   "cell_type": "code",
   "execution_count": 5,
   "metadata": {
    "tags": []
   },
   "outputs": [
    {
     "name": "stdout",
     "output_type": "stream",
     "text": [
      "{\"name\":\"fairing-job\",\"tags\":[\"CE704026\",\"16FD05F9\"]}\n"
     ]
    }
   ],
   "source": [
    "! curl http://kubeflow-registry.default.svc.cluster.local:30000/v2/fairing-job/tags/list"
   ]
  },
  {
   "cell_type": "code",
   "execution_count": null,
   "metadata": {},
   "outputs": [],
   "source": []
  }
 ],
 "metadata": {
  "kernelspec": {
   "display_name": "Python 3",
   "language": "python",
   "name": "python3"
  },
  "kubeflow_notebook": {
   "autosnapshot": false,
   "docker_image": "reddiana/jupyterlab-kale:0.0.9",
   "experiment": {
    "id": "",
    "name": ""
   },
   "experiment_name": "",
   "katib_metadata": {
    "algorithm": {
     "algorithmName": "grid"
    },
    "maxFailedTrialCount": 3,
    "maxTrialCount": 12,
    "objective": {
     "objectiveMetricName": "",
     "type": "minimize"
    },
    "parallelTrialCount": 3,
    "parameters": []
   },
   "katib_run": false,
   "pipeline_description": "",
   "pipeline_name": "",
   "snapshot_volumes": false,
   "steps_defaults": [],
   "volumes": []
  },
  "language_info": {
   "codemirror_mode": {
    "name": "ipython",
    "version": 3
   },
   "file_extension": ".py",
   "mimetype": "text/x-python",
   "name": "python",
   "nbconvert_exporter": "python",
   "pygments_lexer": "ipython3",
   "version": "3.6.9"
  }
 },
 "nbformat": 4,
 "nbformat_minor": 4
}
