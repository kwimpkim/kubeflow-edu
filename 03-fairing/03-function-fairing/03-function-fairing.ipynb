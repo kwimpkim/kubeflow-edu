{
 "cells": [
  {
   "cell_type": "code",
   "execution_count": 1,
   "metadata": {
    "tags": []
   },
   "outputs": [],
   "source": [
    "def train():\n",
    "    import tensorflow as tf\n",
    "    \n",
    "    mnist = tf.keras.datasets.mnist\n",
    "\n",
    "    (x_train, y_train), (x_test, y_test) = mnist.load_data()\n",
    "    x_train, x_test = x_train / 255.0, x_test / 255.0\n",
    "\n",
    "    model = tf.keras.models.Sequential([\n",
    "        tf.keras.layers.Flatten(input_shape=(28, 28)),\n",
    "        tf.keras.layers.Dense(128, activation='relu'),\n",
    "        tf.keras.layers.Dropout(0.2),\n",
    "        tf.keras.layers.Dense(10, activation='softmax')\n",
    "    ])\n",
    "\n",
    "    model.compile(\n",
    "        optimizer='adam',\n",
    "        loss='sparse_categorical_crossentropy',\n",
    "        metrics=['accuracy']\n",
    "    )\n",
    "\n",
    "    model.summary()\n",
    "\n",
    "    print(\"Training...\")\n",
    "\n",
    "    model.fit(\n",
    "        x_train, y_train, \n",
    "        epochs=3, \n",
    "        validation_split=0.2 \n",
    "    ) \n",
    "\n",
    "    score = model.evaluate(x_test, y_test, batch_size=128, verbose=0)\n",
    "    print('Test accuracy: ', score[1])"
   ]
  },
  {
   "cell_type": "code",
   "execution_count": 2,
   "metadata": {
    "tags": []
   },
   "outputs": [
    {
     "name": "stderr",
     "output_type": "stream",
     "text": [
      "[I 210314 19:17:39 config:134] Using preprocessor: <kubeflow.fairing.preprocessors.function.FunctionPreProcessor object at 0x7f8b802c15c0>\n",
      "[I 210314 19:17:39 config:136] Using builder: <kubeflow.fairing.builders.append.append.AppendBuilder object at 0x7f8b802e1a20>\n",
      "[I 210314 19:17:39 config:138] Using deployer: <kubeflow.fairing.deployers.job.job.Job object at 0x7f8b802e1898>\n",
      "[W 210314 19:17:39 append:50] Building image using Append builder...\n",
      "[I 210314 19:17:39 base:107] Creating docker context: /tmp/fairing_context_ncxwt_xu\n",
      "[W 210314 19:17:39 base:94] /usr/local/lib/python3.6/dist-packages/kubeflow/fairing/__init__.py already exists in Fairing context, skipping...\n",
      "[I 210314 19:17:39 docker_creds_:234] Loading Docker credentials for repository 'tensorflow/tensorflow'\n",
      "[W 210314 19:17:40 append:54] Image successfully built in 0.636363721001544s.\n",
      "[W 210314 19:17:40 append:94] Pushing image registry.kube-system.svc.cluster.local:30000/my-03-function-fairing-job:49956D63...\n",
      "[I 210314 19:17:40 docker_creds_:234] Loading Docker credentials for repository 'registry.kube-system.svc.cluster.local:30000/my-03-function-fairing-job:49956D63'\n",
      "[W 210314 19:17:40 append:81] Uploading registry.kube-system.svc.cluster.local:30000/my-03-function-fairing-job:49956D63\n",
      "[I 210314 19:17:40 docker_session_:280] Layer sha256:0b2b6f75fc9510d3889bb224823a6d8a720a0cba6d7481874e4612ccbccd3014 exists, skipping\n",
      "[I 210314 19:17:40 docker_session_:280] Layer sha256:d22d2dfcfa9cd230ed3c47defec2670d45081598c721dd85cafc34ea459f970e exists, skipping\n",
      "[I 210314 19:17:40 docker_session_:280] Layer sha256:15bb845438fcc60f6cfd6586426f040738c7543b944ecfe9ceca9e2da101e084 exists, skipping\n",
      "[I 210314 19:17:40 docker_session_:280] Layer sha256:1f0ffb4d2509e58e040b2d3c146f875dfc5d39ac9e974e6bfb1a5505b98eefae exists, skipping\n",
      "[I 210314 19:17:40 docker_session_:280] Layer sha256:c12ceea561ed13e6b0566ce331de9cfc90b43ab4b14a2e12a5a29d73420f51b3 exists, skipping\n",
      "[I 210314 19:17:40 docker_session_:280] Layer sha256:c29b15b084af0bc2cabab123e72a62f1d9919774f15a91eeeb3b138aaf5f7850 exists, skipping\n",
      "[I 210314 19:17:40 docker_session_:280] Layer sha256:b3afe92c540b778c64ca316d1e679d55d2d2e812e450f516a808ee591f0c3f77 exists, skipping\n",
      "[I 210314 19:17:40 docker_session_:280] Layer sha256:5d43e8c7056a20768e9c36d57ba56227f71df1563d630d424f512efd7b028805 exists, skipping\n",
      "[I 210314 19:17:40 docker_session_:280] Layer sha256:d519e2592276828ca171d85e0532899cd4f98c70f5c697b45fa2e126e9f9fe49 exists, skipping\n",
      "[I 210314 19:17:40 docker_session_:280] Layer sha256:e266fced02fae9320dafe0ef2adab0fd0bdd5a7d795848c2fa344eafb4f70ab9 exists, skipping\n",
      "[I 210314 19:17:40 docker_session_:280] Layer sha256:961442e8e0e4f9ec91ef34f41523a3dc42e68476b5f8d27e2fe43f179d801263 exists, skipping\n",
      "[I 210314 19:17:40 docker_session_:284] Layer sha256:5c6ab8603a1d5df0f6834da7e95c13d3e0de29897b44132672c75c81fa79a4ed pushed.\n",
      "[I 210314 19:17:40 docker_session_:334] Finished upload of: registry.kube-system.svc.cluster.local:30000/my-03-function-fairing-job:49956D63\n",
      "[W 210314 19:17:40 append:99] Pushed image registry.kube-system.svc.cluster.local:30000/my-03-function-fairing-job:49956D63 in 0.13132055800087983s.\n",
      "[W 210314 19:17:40 job:101] The job fairing-job-4bt2f launched.\n",
      "[W 210314 19:17:40 manager:298] Waiting for fairing-job-4bt2f-nzndl to start...\n",
      "[W 210314 19:17:40 manager:298] Waiting for fairing-job-4bt2f-nzndl to start...\n",
      "[W 210314 19:17:40 manager:298] Waiting for fairing-job-4bt2f-nzndl to start...\n",
      "[I 210314 19:17:41 manager:304] Pod started running True\n"
     ]
    },
    {
     "name": "stdout",
     "output_type": "stream",
     "text": [
      "2021-03-14 19:17:41.722594: W tensorflow/stream_executor/platform/default/dso_loader.cc:60] Could not load dynamic library 'libcudart.so.11.0'; dlerror: libcudart.so.11.0: cannot open shared object file: No such file or directory\n",
      "2021-03-14 19:17:41.722663: I tensorflow/stream_executor/cuda/cudart_stub.cc:29] Ignore above cudart dlerror if you do not have a GPU set up on your machine.\n",
      "Downloading data from https://storage.googleapis.com/tensorflow/tf-keras-datasets/mnist.npz\n",
      "11493376/11490434 [==============================] - 0s 0us/step\n",
      "2021-03-14 19:17:44.560250: I tensorflow/compiler/jit/xla_cpu_device.cc:41] Not creating XLA devices, tf_xla_enable_xla_devices not set\n",
      "2021-03-14 19:17:44.560566: W tensorflow/stream_executor/platform/default/dso_loader.cc:60] Could not load dynamic library 'libcuda.so.1'; dlerror: libcuda.so.1: cannot open shared object file: No such file or directory\n",
      "2021-03-14 19:17:44.560596: W tensorflow/stream_executor/cuda/cuda_driver.cc:326] failed call to cuInit: UNKNOWN ERROR (303)\n",
      "2021-03-14 19:17:44.560640: I tensorflow/stream_executor/cuda/cuda_diagnostics.cc:156] kernel driver does not appear to be running on this host (fairing-job-4bt2f-nzndl): /proc/driver/nvidia/version does not exist\n",
      "2021-03-14 19:17:44.561006: I tensorflow/core/platform/cpu_feature_guard.cc:142] This TensorFlow binary is optimized with oneAPI Deep Neural Network Library (oneDNN) to use the following CPU instructions in performance-critical operations:  AVX2 FMA\n",
      "To enable them in other operations, rebuild TensorFlow with the appropriate compiler flags.\n",
      "2021-03-14 19:17:44.561466: I tensorflow/compiler/jit/xla_gpu_device.cc:99] Not creating XLA devices, tf_xla_enable_xla_devices not set\n",
      "2021-03-14 19:17:44.967973: I tensorflow/compiler/mlir/mlir_graph_optimization_pass.cc:116] None of the MLIR optimization passes are enabled (registered 2)\n",
      "2021-03-14 19:17:44.968712: I tensorflow/core/platform/profile_utils/cpu_utils.cc:112] CPU Frequency: 2299995000 Hz\n",
      "Model: \"sequential\"\n",
      "_________________________________________________________________\n",
      "Layer (type)                 Output Shape              Param #\n",
      "=================================================================\n",
      "flatten (Flatten)            (None, 784)               0\n",
      "_________________________________________________________________\n",
      "dense (Dense)                (None, 128)               100480\n",
      "_________________________________________________________________\n",
      "dropout (Dropout)            (None, 128)               0\n",
      "_________________________________________________________________\n",
      "dense_1 (Dense)              (None, 10)                1290\n",
      "=================================================================\n",
      "Total params: 101,770\n",
      "Trainable params: 101,770\n",
      "Non-trainable params: 0\n",
      "_________________________________________________________________\n",
      "Training...\n",
      "Epoch 1/3\n",
      "  70/1500 [>.............................] - ETA: 9s - loss: 1.6497 - accuracy: 0.47355 \n",
      " 163/1500 [==>...........................] - ETA: 8s - loss: 1.2529 - accuracy: 0.615\n",
      " 262/1500 [====>.........................] - ETA: 7s - loss: 1.0578 - accuracy: 0.679\n",
      " 348/1500 [=====>........................] - ETA: 7s - loss: 0.9510 - accuracy: 0.713\n",
      " 442/1500 [=======>......................] - ETA: 6s - loss: 0.8683 - accuracy: 0.739\n",
      " 539/1500 [=========>....................] - ETA: 5s - loss: 0.8047 - accuracy: 0.75\n",
      " 638/1500 [===========>..................] - ETA: 5s - loss: 0.7624 - accuracy: 0.77\n",
      " 740/1500 [=============>................] - ETA: 4s - loss: 0.7189 - accuracy: 0.78\n",
      " 844/1500 [===============>..............] - ETA: 4s - loss: 0.6829 - accuracy: 0.79\n",
      " 943/1500 [=================>............] - ETA: 3s - loss: 0.6536 - accuracy: 0.80\n",
      "1045/1500 [===================>..........] - ETA: 2s - loss: 0.6282 - accuracy: 0.81\n",
      "1116/1500 [=====================>........] - ETA: 2s - loss: 0.6086 - accuracy: 0.81\n",
      "1219/1500 [=======================>......] - ETA: 1s - loss: 0.5882 - accuracy: 0.82\n",
      "1320/1500 [=========================>....] - ETA: 1s - loss: 0.5703 - accuracy: 0.83\n",
      "1418/1500 [===========================>..] - ETA: 0s - loss: 0.5546 - accuracy: 0.83\n",
      "1500/1500 [==============================] - 11s 7ms/step - loss: 0.5423 - accuracy: 0.8396 - val_loss: 0.15\n",
      "60 - val_accuracy: 0.9559\n",
      "Epoch 2/3\n",
      "  69/1500 [>.............................] - ETA: 9s - loss: 0.1822 - accuracy: 0.9499\n",
      " 164/1500 [==>...........................] - ETA: 8s - loss: 0.1845 - accuracy: 0.948\n",
      " 260/1500 [====>.........................] - ETA: 7s - loss: 0.1812 - accuracy: 0.948\n",
      " 358/1500 [======>.......................] - ETA: 7s - loss: 0.1784 - accuracy: 0.948\n",
      " 453/1500 [========>.....................] - ETA: 6s - loss: 0.1764 - accuracy: 0.948\n",
      " 553/1500 [==========>...................] - ETA: 5s - loss: 0.1750 - accuracy: 0.94\n",
      " 647/1500 [===========>..................] - ETA: 5s - loss: 0.1743 - accuracy: 0.94\n",
      " 742/1500 [=============>................] - ETA: 4s - loss: 0.1735 - accuracy: 0.94\n",
      " 836/1500 [===============>..............] - ETA: 4s - loss: 0.1728 - accuracy: 0.94\n",
      " 916/1500 [=================>............] - ETA: 3s - loss: 0.1722 - accuracy: 0.94\n",
      "1017/1500 [===================>..........] - ETA: 3s - loss: 0.1716 - accuracy: 0.94\n",
      "1086/1500 [====================>.........] - ETA: 2s - loss: 0.1710 - accuracy: 0.94\n",
      "1184/1500 [======================>.......] - ETA: 1s - loss: 0.1702 - accuracy: 0.95\n",
      "1284/1500 [========================>.....] - ETA: 1s - loss: 0.1694 - accuracy: 0.95\n",
      "1380/1500 [==========================>...] - ETA: 0s - loss: 0.1687 - accuracy: 0.95\n",
      "1482/1500 [============================>.] - ETA: 0s - loss: 0.1680 - accuracy: 0.95\n",
      "1500/1500 [==============================] - 10s 7ms/step - loss: 0.1678 - accuracy: 0.9506 - val_loss: 0.1182 - val_accuracy: 0.9666\n",
      "Epoch 3/3\n",
      "  55/1500 [>.............................] - ETA: 9s - loss: 0.1306 - accuracy: 0.9610\n",
      " 153/1500 [==>...........................] - ETA: 8s - loss: 0.1290 - accuracy: 0.962\n",
      " 240/1500 [===>..........................] - ETA: 7s - loss: 0.1265 - accuracy: 0.963\n",
      " 323/1500 [=====>........................] - ETA: 7s - loss: 0.1251 - accuracy: 0.963\n",
      " 423/1500 [=======>......................] - ETA: 6s - loss: 0.1227 - accuracy: 0.964\n",
      " 526/1500 [=========>....................] - ETA: 5s - loss: 0.1208 - accuracy: 0.96\n",
      " 627/1500 [===========>..................] - ETA: 5s - loss: 0.1201 - accuracy: 0.96\n",
      " 727/1500 [=============>................] - ETA: 4s - loss: 0.1196 - accuracy: 0.96\n",
      " 824/1500 [===============>..............] - ETA: 4s - loss: 0.1192 - accuracy: 0.96\n",
      " 926/1500 [=================>............] - ETA: 3s - loss: 0.1189 - accuracy: 0.96\n",
      "1025/1500 [===================>..........] - ETA: 2s - loss: 0.1186 - accuracy: 0.96\n",
      "1110/1500 [=====================>........] - ETA: 2s - loss: 0.1184 - accuracy: 0.96\n",
      "1206/1500 [=======================>......] - ETA: 1s - loss: 0.1182 - accuracy: 0.96\n",
      "1307/1500 [=========================>....] - ETA: 1s - loss: 0.1182 - accuracy: 0.96\n",
      "1405/1500 [===========================>..] - ETA: 0s - loss: 0.1181 - accuracy: 0.96\n",
      "1500/1500 [==============================] - 10s 7ms/step - loss: 0.1180 - accuracy: 0.9654 - val_loss: 0.1047 - v\n",
      "al_accuracy: 0.9694\n",
      "Test accuracy:  0.9714000225067139\n"
     ]
    },
    {
     "name": "stderr",
     "output_type": "stream",
     "text": [
      "[W 210314 19:18:18 job:173] Cleaning up job fairing-job-4bt2f...\n"
     ]
    }
   ],
   "source": [
    "from kubeflow import fairing\n",
    "from kubeflow.fairing.kubernetes import utils as k8s_utils\n",
    "\n",
    "PRIVATE_REGISTRY = 'registry.kube-system.svc.cluster.local:30000'\n",
    "\n",
    "fairing.config.set_builder(\n",
    "    'append',\n",
    "    base_image = 'tensorflow/tensorflow',\n",
    "    registry = PRIVATE_REGISTRY, \n",
    "    image_name='my-03-function-fairing-job', \n",
    "    push=True\n",
    ")\n",
    "\n",
    "# fairing.config.set_deployer('job')\n",
    "fairing.config.set_deployer(\n",
    "    'job',\n",
    "    namespace='myspace', # default: 현재 네임스페이스\n",
    "    pod_spec_mutators=[\n",
    "        k8s_utils.get_resource_mutator(cpu=1, memory=5)]\n",
    ")\n",
    "\n",
    "remote_train = fairing.config.fn(train)\n",
    "\n",
    "remote_train()"
   ]
  },
  {
   "cell_type": "markdown",
   "metadata": {
    "tags": []
   },
   "source": [
    "### curl로 프라이빗 레지스트리 확인"
   ]
  },
  {
   "cell_type": "code",
   "execution_count": 3,
   "metadata": {
    "tags": []
   },
   "outputs": [
    {
     "name": "stdout",
     "output_type": "stream",
     "text": [
      "{\"repositories\":[\"my-02-python-file-fairing\",\"my-03-function-fairing-job\",\"my-03-notebook-fairing-job\",\"mybase\",\"mymnistbase\",\"mytfjob\",\"tfjob-fairing-mnist\"]}\n"
     ]
    }
   ],
   "source": [
    "! curl http://registry.kube-system.svc.cluster.local:30000/v2/_catalog"
   ]
  },
  {
   "cell_type": "code",
   "execution_count": 4,
   "metadata": {
    "tags": []
   },
   "outputs": [
    {
     "name": "stdout",
     "output_type": "stream",
     "text": [
      "{\"errors\":[{\"code\":\"NAME_UNKNOWN\",\"message\":\"repository name not known to registry\",\"detail\":{\"name\":\"fairing-job\"}}]}\n"
     ]
    }
   ],
   "source": [
    "! curl http://registry.kube-system.svc.cluster.local:30000/v2/fairing-job/tags/list"
   ]
  }
 ],
 "metadata": {
  "kernelspec": {
   "display_name": "Python 3",
   "language": "python",
   "name": "python3"
  },
  "kubeflow_notebook": {
   "autosnapshot": false,
   "docker_image": "reddiana/jupyterlab-kale:0.0.9",
   "experiment": {
    "id": "",
    "name": ""
   },
   "experiment_name": "",
   "katib_metadata": {
    "algorithm": {
     "algorithmName": "grid"
    },
    "maxFailedTrialCount": 3,
    "maxTrialCount": 12,
    "objective": {
     "objectiveMetricName": "",
     "type": "minimize"
    },
    "parallelTrialCount": 3,
    "parameters": []
   },
   "katib_run": false,
   "pipeline_description": "",
   "pipeline_name": "",
   "snapshot_volumes": false,
   "steps_defaults": [],
   "volumes": []
  },
  "language_info": {
   "codemirror_mode": {
    "name": "ipython",
    "version": 3
   },
   "file_extension": ".py",
   "mimetype": "text/x-python",
   "name": "python",
   "nbconvert_exporter": "python",
   "pygments_lexer": "ipython3",
   "version": "3.6.9"
  }
 },
 "nbformat": 4,
 "nbformat_minor": 4
}
