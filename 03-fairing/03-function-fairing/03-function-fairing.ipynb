{
 "cells": [
  {
   "cell_type": "code",
   "execution_count": 1,
   "metadata": {
    "tags": []
   },
   "outputs": [],
   "source": [
    "def train():\n",
    "    import tensorflow as tf\n",
    "    \n",
    "    mnist = tf.keras.datasets.mnist\n",
    "\n",
    "    (x_train, y_train), (x_test, y_test) = mnist.load_data()\n",
    "    x_train, x_test = x_train / 255.0, x_test / 255.0\n",
    "\n",
    "    model = tf.keras.models.Sequential([\n",
    "        tf.keras.layers.Flatten(input_shape=(28, 28)),\n",
    "        tf.keras.layers.Dense(128, activation='relu'),\n",
    "        tf.keras.layers.Dropout(0.2),\n",
    "        tf.keras.layers.Dense(10, activation='softmax')\n",
    "    ])\n",
    "\n",
    "    model.compile(\n",
    "        optimizer='adam',\n",
    "        loss='sparse_categorical_crossentropy',\n",
    "        metrics=['accuracy']\n",
    "    )\n",
    "\n",
    "    model.summary()\n",
    "\n",
    "    print(\"Training...\")\n",
    "\n",
    "    model.fit(\n",
    "        x_train, y_train, \n",
    "        epochs=3, \n",
    "        validation_split=0.2 \n",
    "    ) \n",
    "\n",
    "    score = model.evaluate(x_test, y_test, batch_size=128, verbose=0)\n",
    "    print('Test accuracy: ', score[1])"
   ]
  },
  {
   "cell_type": "code",
   "execution_count": 2,
   "metadata": {
    "tags": []
   },
   "outputs": [
    {
     "name": "stderr",
     "output_type": "stream",
     "text": [
      "[I 210314 18:49:47 config:134] Using preprocessor: <kubeflow.fairing.preprocessors.function.FunctionPreProcessor object at 0x7f9b93ac57b8>\n",
      "[I 210314 18:49:47 config:136] Using builder: <kubeflow.fairing.builders.append.append.AppendBuilder object at 0x7f9b93ac57f0>\n",
      "[I 210314 18:49:47 config:138] Using deployer: <kubeflow.fairing.deployers.job.job.Job object at 0x7f9b93ac5940>\n",
      "[W 210314 18:49:47 append:50] Building image using Append builder...\n",
      "[I 210314 18:49:47 base:107] Creating docker context: /tmp/fairing_context_1o3n1g_t\n",
      "[W 210314 18:49:47 base:94] /usr/local/lib/python3.6/dist-packages/kubeflow/fairing/__init__.py already exists in Fairing context, skipping...\n",
      "[I 210314 18:49:47 docker_creds_:234] Loading Docker credentials for repository 'tensorflow/tensorflow'\n",
      "[W 210314 18:49:47 append:54] Image successfully built in 0.5906359840009827s.\n",
      "[W 210314 18:49:47 append:94] Pushing image registry.kube-system.svc.cluster.local:30000/my-03-function-fairing-job:C7CA1930...\n",
      "[I 210314 18:49:47 docker_creds_:234] Loading Docker credentials for repository 'registry.kube-system.svc.cluster.local:30000/my-03-function-fairing-job:C7CA1930'\n",
      "[W 210314 18:49:47 append:81] Uploading registry.kube-system.svc.cluster.local:30000/my-03-function-fairing-job:C7CA1930\n",
      "[I 210314 18:49:47 docker_session_:284] Layer sha256:15bb845438fcc60f6cfd6586426f040738c7543b944ecfe9ceca9e2da101e084 pushed.\n",
      "[I 210314 18:49:47 docker_session_:284] Layer sha256:6862600295924800b547af1e5de4b04fa6d74730835244b8d43ba5321de321ad pushed.\n",
      "[I 210314 18:49:48 docker_session_:284] Layer sha256:0b2b6f75fc9510d3889bb224823a6d8a720a0cba6d7481874e4612ccbccd3014 pushed.\n",
      "[I 210314 18:49:48 docker_session_:284] Layer sha256:d22d2dfcfa9cd230ed3c47defec2670d45081598c721dd85cafc34ea459f970e pushed.\n",
      "[I 210314 18:49:48 docker_session_:284] Layer sha256:5d43e8c7056a20768e9c36d57ba56227f71df1563d630d424f512efd7b028805 pushed.\n",
      "[I 210314 18:49:48 docker_session_:284] Layer sha256:b3afe92c540b778c64ca316d1e679d55d2d2e812e450f516a808ee591f0c3f77 pushed.\n",
      "[I 210314 18:49:48 docker_session_:284] Layer sha256:c29b15b084af0bc2cabab123e72a62f1d9919774f15a91eeeb3b138aaf5f7850 pushed.\n",
      "[I 210314 18:49:48 docker_session_:284] Layer sha256:961442e8e0e4f9ec91ef34f41523a3dc42e68476b5f8d27e2fe43f179d801263 pushed.\n",
      "[I 210314 18:49:49 docker_session_:284] Layer sha256:c12ceea561ed13e6b0566ce331de9cfc90b43ab4b14a2e12a5a29d73420f51b3 pushed.\n",
      "[I 210314 18:49:49 docker_session_:284] Layer sha256:d519e2592276828ca171d85e0532899cd4f98c70f5c697b45fa2e126e9f9fe49 pushed.\n",
      "[I 210314 18:49:54 docker_session_:284] Layer sha256:1f0ffb4d2509e58e040b2d3c146f875dfc5d39ac9e974e6bfb1a5505b98eefae pushed.\n",
      "[I 210314 18:50:01 docker_session_:284] Layer sha256:e266fced02fae9320dafe0ef2adab0fd0bdd5a7d795848c2fa344eafb4f70ab9 pushed.\n",
      "[I 210314 18:50:01 docker_session_:334] Finished upload of: registry.kube-system.svc.cluster.local:30000/my-03-function-fairing-job:C7CA1930\n",
      "[W 210314 18:50:01 append:99] Pushed image registry.kube-system.svc.cluster.local:30000/my-03-function-fairing-job:C7CA1930 in 13.356515563998983s.\n",
      "[W 210314 18:50:01 job:101] The job fairing-job-6df6w launched.\n",
      "[W 210314 18:50:01 manager:298] Waiting for fairing-job-6df6w-njkw4 to start...\n",
      "[W 210314 18:50:01 manager:298] Waiting for fairing-job-6df6w-njkw4 to start...\n",
      "[W 210314 18:50:09 manager:298] Waiting for fairing-job-6df6w-njkw4 to start...\n",
      "[W 210314 18:50:09 manager:298] Waiting for fairing-job-6df6w-njkw4 to start...\n",
      "[I 210314 18:50:12 manager:304] Pod started running True\n"
     ]
    },
    {
     "name": "stdout",
     "output_type": "stream",
     "text": [
      "2021-03-14 18:50:11.184759: W tensorflow/stream_executor/platform/default/dso_loader.cc:60] Could not load dynamic library 'libcudart.so.11.0'; dlerror: libcudart.so.11.0: cannot open shared object file: No such file or directory\n",
      "2021-03-14 18:50:11.184820: I tensorflow/stream_executor/cuda/cudart_stub.cc:29] Ignore above cudart dlerror if you do not have a GPU set up on your machine.\n",
      "Downloading data from https://storage.googleapis.com/tensorflow/tf-keras-datasets/mnist.npz\n",
      "11493376/11490434 [==============================] - 0s 0us/step\n",
      "2021-03-14 18:50:13.938227: I tensorflow/compiler/jit/xla_cpu_device.cc:41] Not creating XLA devices, tf_xla_enable_xla_devices not set\n",
      "2021-03-14 18:50:13.938469: W tensorflow/stream_executor/platform/default/dso_loader.cc:60] Could not load dynamic library 'libcuda.so.1'; dlerror: libcuda.so.1: cannot open shared object file: No such file or directory\n",
      "2021-03-14 18:50:13.938500: W tensorflow/stream_executor/cuda/cuda_driver.cc:326] failed call to cuInit: UNKNOWN ERROR (303)\n",
      "2021-03-14 18:50:13.938530: I tensorflow/stream_executor/cuda/cuda_diagnostics.cc:156] kernel driver does not appear to be running on this host (fairing-job-6df6w-njkw4): /proc/driver/nvidia/version does not exist\n",
      "2021-03-14 18:50:13.938853: I tensorflow/core/platform/cpu_feature_guard.cc:142] This TensorFlow binary is optimized with oneAPI Deep Neural Network Library (oneDNN) to use the following CPU instructions in performance-critical operations:  AVX2 FMA\n",
      "To enable them in other operations, rebuild TensorFlow with the appropriate compiler flags.\n",
      "2021-03-14 18:50:13.939618: I tensorflow/compiler/jit/xla_gpu_device.cc:99] Not creating XLA devices, tf_xla_enable_xla_devices not set\n",
      "2021-03-14 18:50:14.346952: I tensorflow/compiler/mlir/mlir_graph_optimization_pass.cc:116] None of the MLIR optimization passes are enabled (registered 2)\n",
      "2021-03-14 18:50:14.347554: I tensorflow/core/platform/profile_utils/cpu_utils.cc:112] CPU Frequency: 2299995000 Hz\n",
      "Model: \"sequential\"\n",
      "_________________________________________________________________\n",
      "Layer (type)                 Output Shape              Param #\n",
      "=================================================================\n",
      "flatten (Flatten)            (None, 784)               0\n",
      "_________________________________________________________________\n",
      "dense (Dense)                (None, 128)               100480\n",
      "_________________________________________________________________\n",
      "dropout (Dropout)            (None, 128)               0\n",
      "_________________________________________________________________\n",
      "dense_1 (Dense)              (None, 10)                1290\n",
      "=================================================================\n",
      "Total params: 101,770\n",
      "Trainable params: 101,770\n",
      "Non-trainable params: 0\n",
      "_________________________________________________________________\n",
      "Training...\n",
      "Epoch 1/3\n",
      "  76/1500 [>.............................] - ETA: 9s - loss: 1.6141 - accuracy: 0.50459 \n",
      " 172/1500 [==>...........................] - ETA: 8s - loss: 1.2353 - accuracy: 0.634\n",
      " 267/1500 [====>.........................] - ETA: 7s - loss: 1.0540 - accuracy: 0.691\n",
      " 365/1500 [======>.......................] - ETA: 7s - loss: 0.9374 - accuracy: 0.726\n",
      " 463/1500 [========>.....................] - ETA: 6s - loss: 0.8564 - accuracy: 0.750\n",
      " 562/1500 [==========>...................] - ETA: 5s - loss: 0.7948 - accuracy: 0.76\n",
      " 659/1500 [============>.................] - ETA: 5s - loss: 0.7548 - accuracy: 0.78\n",
      " 759/1500 [==============>...............] - ETA: 4s - loss: 0.7135 - accuracy: 0.79\n",
      " 862/1500 [================>.............] - ETA: 4s - loss: 0.6782 - accuracy: 0.80\n",
      " 964/1500 [=================>............] - ETA: 3s - loss: 0.6487 - accuracy: 0.81\n",
      "1062/1500 [===================>..........] - ETA: 2s - loss: 0.6242 - accuracy: 0.81\n",
      "1146/1500 [=====================>........] - ETA: 2s - loss: 0.6024 - accuracy: 0.82\n",
      "1247/1500 [=======================>......] - ETA: 1s - loss: 0.5828 - accuracy: 0.83\n",
      "1336/1500 [=========================>....] - ETA: 0s - loss: 0.5674 - accuracy: 0.83\n",
      "1437/1500 [===========================>..] - ETA: 0s - loss: 0.5514 - accuracy: 0.84\n",
      "1500/1500 [==============================] - 11s 7ms/step - loss: 0.5421 - accuracy: 0.8430 - val_loss: 0.1605 - val_accuracy: 0.9538\n",
      "Epoch 2/3\n",
      "  69/1500 [>.............................] - ETA: 9s - loss: 0.1913 - accuracy: 0.9508\n",
      " 169/1500 [==>...........................] - ETA: 8s - loss: 0.1794 - accuracy: 0.948\n",
      " 273/1500 [====>.........................] - ETA: 7s - loss: 0.1768 - accuracy: 0.947\n",
      " 374/1500 [======>.......................] - ETA: 6s - loss: 0.1750 - accuracy: 0.947\n",
      " 472/1500 [========>.....................] - ETA: 6s - loss: 0.1739 - accuracy: 0.948\n",
      " 572/1500 [==========>...................] - ETA: 5s - loss: 0.1728 - accuracy: 0.94\n",
      " 659/1500 [============>.................] - ETA: 5s - loss: 0.1721 - accuracy: 0.94\n",
      " 761/1500 [==============>...............] - ETA: 4s - loss: 0.1713 - accuracy: 0.94\n",
      " 860/1500 [================>.............] - ETA: 3s - loss: 0.1707 - accuracy: 0.94\n",
      " 959/1500 [=================>............] - ETA: 3s - loss: 0.1701 - accuracy: 0.94\n",
      "1060/1500 [===================>..........] - ETA: 2s - loss: 0.1694 - accuracy: 0.94\n",
      "1146/1500 [=====================>........] - ETA: 2s - loss: 0.1687 - accuracy: 0.94\n",
      "1253/1500 [========================>.....] - ETA: 1s - loss: 0.1679 - accuracy: 0.94\n",
      "1353/1500 [==========================>...] - ETA: 0s - loss: 0.1674 - accuracy: 0.94\n",
      "1453/1500 [============================>.] - ETA: 0s - loss: 0.1668 - accuracy: 0.95\n",
      "1500/1500 [==============================] - 10s 7ms/step - loss: 0.1666 - accuracy: 0.9501 - val_loss: 0.1144 - val_accuracy: 0.9668\n",
      "Epoch 3/3\n",
      "  80/1500 [>.............................] - ETA: 8s - loss: 0.1351 - accuracy: 0.96\n",
      " 182/1500 [==>...........................] - ETA: 7s - loss: 0.1310 - accuracy: 0.96\n",
      " 276/1500 [====>.........................] - ETA: 7s - loss: 0.1292 - accuracy: 0.96\n",
      " 375/1500 [======>.......................] - ETA: 6s - loss: 0.1286 - accuracy: 0.96\n",
      " 478/1500 [========>.....................] - ETA: 5s - loss: 0.1284 - accuracy: 0.96\n",
      " 578/1500 [==========>...................] - ETA: 5s - loss: 0.1280 - accuracy: 0.96\n",
      " 682/1500 [============>.................] - ETA: 4s - loss: 0.1273 - accuracy: 0.96\n",
      " 786/1500 [==============>...............] - ETA: 4s - loss: 0.1267 - accuracy: 0.96\n",
      " 887/1500 [================>.............] - ETA: 3s - loss: 0.1262 - accuracy: 0.96\n",
      " 988/1500 [==================>...........] - ETA: 3s - loss: 0.1257 - accuracy: 0.96\n",
      "1094/1500 [====================>.........] - ETA: 2s - loss: 0.1253 - accuracy: 0.96\n",
      "1196/1500 [======================>.......] - ETA: 1s - loss: 0.1248 - accuracy: 0.96\n",
      "1279/1500 [========================>.....] - ETA: 1s - loss: 0.1244 - accuracy: 0.962\n",
      "1379/1500 [==========================>...] - ETA: 0s - loss: 0.1239 - accuracy: 0.963\n",
      "1480/1500 [============================>.] - ETA: 0s - loss: 0.1235 - accuracy: 0.963\n",
      "1500/1500 [==============================] - 10s 7ms/step - loss: 0.1234 - accuracy: 0.9632 - val_loss: 0.1035 - val_accuracy: 0.9685\n",
      "Test accuracy:  0.9707000255584717\n"
     ]
    },
    {
     "name": "stderr",
     "output_type": "stream",
     "text": [
      "[W 210314 18:50:47 job:173] Cleaning up job fairing-job-6df6w...\n"
     ]
    }
   ],
   "source": [
    "from kubeflow import fairing\n",
    "from kubeflow.fairing.kubernetes import utils as k8s_utils\n",
    "\n",
    "PRIVATE_REGISTRY = 'registry.kube-system.svc.cluster.local:30000'\n",
    "\n",
    "fairing.config.set_builder(\n",
    "    'append',\n",
    "    base_image = 'tensorflow/tensorflow',\n",
    "    registry = PRIVATE_REGISTRY, \n",
    "    image_name='my-03-function-fairing-job', \n",
    "    push=True\n",
    ")\n",
    "\n",
    "# fairing.config.set_deployer('job')\n",
    "fairing.config.set_deployer(\n",
    "    'job',\n",
    "    namespace='myspace', # default: 현재 네임스페이스\n",
    "    pod_spec_mutators=[\n",
    "        k8s_utils.get_resource_mutator(cpu=1, memory=5)]\n",
    ")\n",
    "\n",
    "remote_train = fairing.config.fn(train)\n",
    "\n",
    "remote_train()"
   ]
  },
  {
   "cell_type": "markdown",
   "metadata": {
    "tags": []
   },
   "source": [
    "### curl로 프라이빗 레지스트리 확인"
   ]
  },
  {
   "cell_type": "code",
   "execution_count": null,
   "metadata": {
    "tags": []
   },
   "outputs": [],
   "source": [
    "! curl http://registry.kube-system.svc.cluster.local:30000/v2/_catalog"
   ]
  },
  {
   "cell_type": "code",
   "execution_count": null,
   "metadata": {
    "tags": []
   },
   "outputs": [],
   "source": [
    "! curl http://registry.kube-system.svc.cluster.local:30000/v2/fairing-job/tags/list"
   ]
  }
 ],
 "metadata": {
  "kernelspec": {
   "display_name": "Python 3",
   "language": "python",
   "name": "python3"
  },
  "kubeflow_notebook": {
   "autosnapshot": false,
   "docker_image": "reddiana/jupyterlab-kale:0.0.9",
   "experiment": {
    "id": "",
    "name": ""
   },
   "experiment_name": "",
   "katib_metadata": {
    "algorithm": {
     "algorithmName": "grid"
    },
    "maxFailedTrialCount": 3,
    "maxTrialCount": 12,
    "objective": {
     "objectiveMetricName": "",
     "type": "minimize"
    },
    "parallelTrialCount": 3,
    "parameters": []
   },
   "katib_run": false,
   "pipeline_description": "",
   "pipeline_name": "",
   "snapshot_volumes": false,
   "steps_defaults": [],
   "volumes": []
  },
  "language_info": {
   "codemirror_mode": {
    "name": "ipython",
    "version": 3
   },
   "file_extension": ".py",
   "mimetype": "text/x-python",
   "name": "python",
   "nbconvert_exporter": "python",
   "pygments_lexer": "ipython3",
   "version": "3.6.9"
  }
 },
 "nbformat": 4,
 "nbformat_minor": 4
}
