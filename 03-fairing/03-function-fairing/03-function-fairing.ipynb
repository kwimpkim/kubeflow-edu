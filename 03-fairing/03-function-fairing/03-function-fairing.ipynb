{
 "cells": [
  {
   "cell_type": "code",
   "execution_count": 5,
   "metadata": {
    "tags": []
   },
   "outputs": [],
   "source": [
    "def train():\n",
    "    import tensorflow as tf\n",
    "    \n",
    "    mnist = tf.keras.datasets.mnist\n",
    "\n",
    "    (x_train, y_train), (x_test, y_test) = mnist.load_data()\n",
    "    x_train, x_test = x_train / 255.0, x_test / 255.0\n",
    "\n",
    "    model = tf.keras.models.Sequential([\n",
    "        tf.keras.layers.Flatten(input_shape=(28, 28)),\n",
    "        tf.keras.layers.Dense(128, activation='relu'),\n",
    "        tf.keras.layers.Dropout(0.2),\n",
    "        tf.keras.layers.Dense(10, activation='softmax')\n",
    "    ])\n",
    "\n",
    "    model.compile(\n",
    "        optimizer='adam',\n",
    "        loss='sparse_categorical_crossentropy',\n",
    "        metrics=['accuracy']\n",
    "    )\n",
    "\n",
    "    model.summary()\n",
    "\n",
    "    print(\"Training...\")\n",
    "\n",
    "    model.fit(\n",
    "        x_train, y_train, \n",
    "        epochs=3, \n",
    "        validation_split=0.2 \n",
    "    ) \n",
    "\n",
    "    score = model.evaluate(x_test, y_test, batch_size=128, verbose=0)\n",
    "    print('Test accuracy: ', score[1])"
   ]
  },
  {
   "cell_type": "code",
   "execution_count": 6,
   "metadata": {
    "tags": []
   },
   "outputs": [
    {
     "name": "stderr",
     "output_type": "stream",
     "text": [
      "[I 210314 12:22:31 config:134] Using preprocessor: <kubeflow.fairing.preprocessors.function.FunctionPreProcessor object at 0x7f6337049080>\n",
      "[I 210314 12:22:31 config:136] Using builder: <kubeflow.fairing.builders.append.append.AppendBuilder object at 0x7f6339eac828>\n",
      "[I 210314 12:22:31 config:138] Using deployer: <kubeflow.fairing.deployers.job.job.Job object at 0x7f6337049518>\n",
      "[W 210314 12:22:31 append:50] Building image using Append builder...\n",
      "[I 210314 12:22:31 base:107] Creating docker context: /tmp/fairing_context_qie7vflx\n",
      "[W 210314 12:22:31 base:94] /usr/local/lib/python3.6/dist-packages/kubeflow/fairing/__init__.py already exists in Fairing context, skipping...\n",
      "[I 210314 12:22:31 docker_creds_:234] Loading Docker credentials for repository 'tensorflow/tensorflow'\n",
      "[W 210314 12:22:31 append:54] Image successfully built in 0.5595305839997309s.\n",
      "[W 210314 12:22:31 append:94] Pushing image registry.kube-system.svc.cluster.local:30000/my-03-function-fairing-job:9CCA62B3...\n",
      "[I 210314 12:22:31 docker_creds_:234] Loading Docker credentials for repository 'registry.kube-system.svc.cluster.local:30000/my-03-function-fairing-job:9CCA62B3'\n",
      "[W 210314 12:22:31 append:81] Uploading registry.kube-system.svc.cluster.local:30000/my-03-function-fairing-job:9CCA62B3\n",
      "[I 210314 12:22:31 docker_session_:280] Layer sha256:d22d2dfcfa9cd230ed3c47defec2670d45081598c721dd85cafc34ea459f970e exists, skipping\n",
      "[I 210314 12:22:31 docker_session_:280] Layer sha256:c29b15b084af0bc2cabab123e72a62f1d9919774f15a91eeeb3b138aaf5f7850 exists, skipping\n",
      "[I 210314 12:22:31 docker_session_:280] Layer sha256:5d43e8c7056a20768e9c36d57ba56227f71df1563d630d424f512efd7b028805 exists, skipping\n",
      "[I 210314 12:22:31 docker_session_:280] Layer sha256:1f0ffb4d2509e58e040b2d3c146f875dfc5d39ac9e974e6bfb1a5505b98eefae exists, skipping\n",
      "[I 210314 12:22:31 docker_session_:280] Layer sha256:e266fced02fae9320dafe0ef2adab0fd0bdd5a7d795848c2fa344eafb4f70ab9 exists, skipping\n",
      "[I 210314 12:22:31 docker_session_:280] Layer sha256:c12ceea561ed13e6b0566ce331de9cfc90b43ab4b14a2e12a5a29d73420f51b3 exists, skipping\n",
      "[I 210314 12:22:31 docker_session_:280] Layer sha256:b3afe92c540b778c64ca316d1e679d55d2d2e812e450f516a808ee591f0c3f77 exists, skipping\n",
      "[I 210314 12:22:31 docker_session_:280] Layer sha256:d519e2592276828ca171d85e0532899cd4f98c70f5c697b45fa2e126e9f9fe49 exists, skipping\n",
      "[I 210314 12:22:31 docker_session_:280] Layer sha256:961442e8e0e4f9ec91ef34f41523a3dc42e68476b5f8d27e2fe43f179d801263 exists, skipping\n",
      "[I 210314 12:22:31 docker_session_:280] Layer sha256:0b2b6f75fc9510d3889bb224823a6d8a720a0cba6d7481874e4612ccbccd3014 exists, skipping\n",
      "[I 210314 12:22:31 docker_session_:284] Layer sha256:d2b1cfa1c6cf9a08a4a624bddbdcb62c31db2072ccfec54133015b7772c83aaa pushed.\n",
      "[I 210314 12:22:31 docker_session_:284] Layer sha256:0ba4a8d12efd1dd378eaf1bb83108a92e85d2b9ee8bd454be717f2b87eb9c2f7 pushed.\n",
      "[I 210314 12:22:31 docker_session_:334] Finished upload of: registry.kube-system.svc.cluster.local:30000/my-03-function-fairing-job:9CCA62B3\n",
      "[W 210314 12:22:31 append:99] Pushed image registry.kube-system.svc.cluster.local:30000/my-03-function-fairing-job:9CCA62B3 in 0.11373191399979987s.\n",
      "[W 210314 12:22:31 job:101] The job fairing-job-f7bwm launched.\n",
      "[W 210314 12:22:31 manager:298] Waiting for fairing-job-f7bwm-rhrzb to start...\n",
      "[W 210314 12:22:31 manager:298] Waiting for fairing-job-f7bwm-rhrzb to start...\n",
      "[W 210314 12:22:31 manager:298] Waiting for fairing-job-f7bwm-rhrzb to start...\n",
      "[I 210314 12:22:33 manager:304] Pod started running True\n"
     ]
    },
    {
     "name": "stdout",
     "output_type": "stream",
     "text": [
      "2021-03-14 12:22:33.287938: W tensorflow/stream_executor/platform/default/dso_loader.cc:60] Could not load dynamic library 'libcudart.so.11.0'; dlerror: libcudart.so.11.0: cannot open shared object file: No such file or directory\n",
      "2021-03-14 12:22:33.287982: I tensorflow/stream_executor/cuda/cudart_stub.cc:29] Ignore above cudart dlerror if you do not have a GPU set up on your machine.\n",
      "Downloading data from https://storage.googleapis.com/tensorflow/tf-keras-datasets/mnist.npz\n",
      "11493376/11490434 [==============================] - 0s 0us/step\n",
      "2021-03-14 12:22:36.450385: I tensorflow/compiler/jit/xla_cpu_device.cc:41] Not creating XLA devices, tf_xla_enable_xla_devices not set\n",
      "2021-03-14 12:22:36.450700: W tensorflow/stream_executor/platform/default/dso_loader.cc:60] Could not load dynamic library 'libcuda.so.1'; dlerror: libcuda.so.1: cannot open shared object file: No such file or directory\n",
      "2021-03-14 12:22:36.450730: W tensorflow/stream_executor/cuda/cuda_driver.cc:326] failed call to cuInit: UNKNOWN ERROR (303)\n",
      "2021-03-14 12:22:36.450773: I tensorflow/stream_executor/cuda/cuda_diagnostics.cc:156] kernel driver does not appear to be running on this host (fairing-job-f7bwm-rhrzb): /proc/driver/nvidia/version does not exist\n",
      "2021-03-14 12:22:36.451109: I tensorflow/core/platform/cpu_feature_guard.cc:142] This TensorFlow binary is optimized with oneAPI Deep Neural Network Library (oneDNN) to use the following CPU instructions in performance-critical operations:  AVX2 FMA\n",
      "To enable them in other operations, rebuild TensorFlow with the appropriate compiler flags.\n",
      "2021-03-14 12:22:36.451560: I tensorflow/compiler/jit/xla_gpu_device.cc:99] Not creating XLA devices, tf_xla_enable_xla_devices not set\n",
      "2021-03-14 12:22:36.713180: W tensorflow/core/framework/cpu_allocator_impl.cc:80] Allocation of 150528000 exceeds 10% of free system memory.\n",
      "2021-03-14 12:22:36.907726: I tensorflow/compiler/mlir/mlir_graph_optimization_pass.cc:116] None of the MLIR optimization passes are enabled (registered 2)\n",
      "2021-03-14 12:22:36.908542: I tensorflow/core/platform/profile_utils/cpu_utils.cc:112] CPU Frequency: 2299995000 Hz\n",
      "Model: \"sequential\"\n",
      "_________________________________________________________________\n",
      "Layer (type)                 Output Shape              Param #\n",
      "=================================================================\n",
      "flatten (Flatten)            (None, 784)               0\n",
      "_________________________________________________________________\n",
      "dense (Dense)                (None, 128)               100480\n",
      "_________________________________________________________________\n",
      "dropout (Dropout)            (None, 128)               0\n",
      "_________________________________________________________________\n",
      "dense_1 (Dense)              (None, 10)                1290\n",
      "=================================================================\n",
      "Total params: 101,770\n",
      "Trainable params: 101,770\n",
      "Non-trainable params: 0\n",
      "_________________________________________________________________\n",
      "Training...\n",
      "Epoch 1/3\n",
      "  93/1500 [>.............................] - ETA: 7s - loss: 1.4307 - accuracy: 0.5621 7\n",
      " 209/1500 [===>..........................] - ETA: 6s - loss: 1.0881 - accuracy: 0.675\n",
      " 329/1500 [=====>........................] - ETA: 6s - loss: 0.9196 - accuracy: 0.727\n",
      " 453/1500 [========>.....................] - ETA: 5s - loss: 0.8161 - accuracy: 0.759\n",
      " 572/1500 [==========>...................] - ETA: 4s - loss: 0.7479 - accuracy: 0.780\n",
      " 687/1500 [============>.................] - ETA: 4s - loss: 0.6976 - accuracy: 0.79\n",
      " 806/1500 [===============>..............] - ETA: 3s - loss: 0.6534 - accuracy: 0.80\n",
      " 933/1500 [=================>............] - ETA: 2s - loss: 0.6271 - accuracy: 0.81\n",
      "1057/1500 [====================>.........] - ETA: 2s - loss: 0.5973 - accuracy: 0.82\n",
      "1178/1500 [======================>.......] - ETA: 1s - loss: 0.5725 - accuracy: 0.83\n",
      "1280/1500 [========================>.....] - ETA: 1s - loss: 0.5544 - accuracy: 0.83\n",
      "1383/1500 [==========================>...] - ETA: 0s - loss: 0.5351 - accuracy: 0.84\n",
      "1500/1500 [==============================] - 9s 6ms/step - loss: 0.5187 - accuracy: 0.8485 - val_loss: 0.1581 - val_accuracy: 0.9542\n",
      "Epoch 2/3\n",
      "  91/1500 [>.............................] - ETA: 7s - loss: 0.1930 - accuracy: 0.9402\n",
      " 219/1500 [===>..........................] - ETA: 6s - loss: 0.1848 - accuracy: 0.944\n",
      " 346/1500 [=====>........................] - ETA: 5s - loss: 0.1805 - accuracy: 0.945\n",
      " 471/1500 [========>.....................] - ETA: 4s - loss: 0.1776 - accuracy: 0.946\n",
      " 596/1500 [==========>...................] - ETA: 4s - loss: 0.1760 - accuracy: 0.947\n",
      " 722/1500 [=============>................] - ETA: 3s - loss: 0.1743 - accuracy: 0.947\n",
      " 847/1500 [===============>..............] - ETA: 3s - loss: 0.1730 - accuracy: 0.94\n",
      " 976/1500 [==================>...........] - ETA: 2s - loss: 0.1720 - accuracy: 0.94\n",
      "1082/1500 [====================>.........] - ETA: 2s - loss: 0.1711 - accuracy: 0.94\n",
      "1207/1500 [======================>.......] - ETA: 1s - loss: 0.1700 - accuracy: 0.94\n",
      "1334/1500 [=========================>....] - ETA: 0s - loss: 0.1691 - accuracy: 0.94\n",
      "1437/1500 [===========================>..] - ETA: 0s - loss: 0.1681 - accuracy: 0.94\n",
      "1500/1500 [==============================] - 8s 5ms/step - loss: 0.1677 - accuracy: 0.9501 - val_loss: 0.1212 - val_accuracy: 0.9654\n",
      "Epoch 3/3\n",
      "  88/1500 [>.............................] - ETA: 7s - loss: 0.1240 - accuracy: 0.9637\n",
      " 212/1500 [===>..........................] - ETA: 6s - loss: 0.1240 - accuracy: 0.963\n",
      " 333/1500 [=====>........................] - ETA: 5s - loss: 0.1229 - accuracy: 0.963\n",
      " 453/1500 [========>.....................] - ETA: 5s - loss: 0.1228 - accuracy: 0.963\n",
      " 581/1500 [==========>...................] - ETA: 4s - loss: 0.1233 - accuracy: 0.963\n",
      " 704/1500 [=============>................] - ETA: 3s - loss: 0.1230 - accuracy: 0.963\n",
      " 831/1500 [===============>..............] - ETA: 3s - loss: 0.1229 - accuracy: 0.96\n",
      " 956/1500 [==================>...........] - ETA: 2s - loss: 0.1228 - accuracy: 0.96\n",
      "1081/1500 [====================>.........] - ETA: 2s - loss: 0.1227 - accuracy: 0.96\n",
      "1206/1500 [======================>.......] - ETA: 1s - loss: 0.1225 - accuracy: 0.96\n",
      "1330/1500 [=========================>....] - ETA: 0s - loss: 0.1222 - accuracy: 0.96\n",
      "1433/1500 [===========================>..] - ETA: 0s - loss: 0.1220 - accuracy: 0.96\n",
      "1500/1500 [==============================] - 8s 6ms/step - loss: 0.1219 - accuracy: 0.9638 - val_loss: 0.0966 - val_accuracy: 0.9718\n",
      "Test accuracy:  0.972100019454956\n"
     ]
    },
    {
     "name": "stderr",
     "output_type": "stream",
     "text": [
      "[W 210314 12:23:04 job:173] Cleaning up job fairing-job-f7bwm...\n"
     ]
    }
   ],
   "source": [
    "from kubeflow import fairing\n",
    "from kubeflow.fairing.kubernetes import utils as k8s_utils\n",
    "\n",
    "PRIVATE_REGISTRY = 'registry.kube-system.svc.cluster.local:30000'\n",
    "\n",
    "fairing.config.set_builder(\n",
    "    'append',\n",
    "    base_image = 'tensorflow/tensorflow',\n",
    "    registry = PRIVATE_REGISTRY, \n",
    "    image_name='my-03-function-fairing-job', \n",
    "    push=True\n",
    ")\n",
    "\n",
    "# fairing.config.set_deployer('job')\n",
    "fairing.config.set_deployer(\n",
    "    'job',\n",
    "    namespace='myspace', # default: 현재 네임스페이스\n",
    "    pod_spec_mutators=[\n",
    "        k8s_utils.get_resource_mutator(cpu=1, memory=5)]\n",
    ")\n",
    "\n",
    "remote_train = fairing.config.fn(train)\n",
    "\n",
    "remote_train()"
   ]
  },
  {
   "cell_type": "markdown",
   "metadata": {
    "tags": []
   },
   "source": [
    "### curl로 프라이빗 레지스트리 확인"
   ]
  },
  {
   "cell_type": "code",
   "execution_count": null,
   "metadata": {
    "tags": []
   },
   "outputs": [],
   "source": [
    "! curl http://registry.kube-system.svc.cluster.local:30000/v2/_catalog"
   ]
  },
  {
   "cell_type": "code",
   "execution_count": null,
   "metadata": {
    "tags": []
   },
   "outputs": [],
   "source": [
    "! curl http://registry.kube-system.svc.cluster.local:30000/v2/_catalog"
   ]
  },
  {
   "cell_type": "code",
   "execution_count": null,
   "metadata": {
    "tags": []
   },
   "outputs": [],
   "source": [
    "! curl http://registry.kube-system.svc.cluster.local:30000/v2/fairing-job/tags/list"
   ]
  },
  {
   "cell_type": "code",
   "execution_count": null,
   "metadata": {},
   "outputs": [],
   "source": []
  }
 ],
 "metadata": {
  "kernelspec": {
   "display_name": "Python 3",
   "language": "python",
   "name": "python3"
  },
  "kubeflow_notebook": {
   "autosnapshot": false,
   "docker_image": "reddiana/jupyterlab-kale:0.0.9",
   "experiment": {
    "id": "",
    "name": ""
   },
   "experiment_name": "",
   "katib_metadata": {
    "algorithm": {
     "algorithmName": "grid"
    },
    "maxFailedTrialCount": 3,
    "maxTrialCount": 12,
    "objective": {
     "objectiveMetricName": "",
     "type": "minimize"
    },
    "parallelTrialCount": 3,
    "parameters": []
   },
   "katib_run": false,
   "pipeline_description": "",
   "pipeline_name": "",
   "snapshot_volumes": false,
   "steps_defaults": [],
   "volumes": []
  },
  "language_info": {
   "codemirror_mode": {
    "name": "ipython",
    "version": 3
   },
   "file_extension": ".py",
   "mimetype": "text/x-python",
   "name": "python",
   "nbconvert_exporter": "python",
   "pygments_lexer": "ipython3",
   "version": "3.6.9"
  }
 },
 "nbformat": 4,
 "nbformat_minor": 4
}
