{
 "cells": [
  {
   "cell_type": "code",
   "execution_count": 2,
   "metadata": {
    "tags": []
   },
   "outputs": [
    {
     "name": "stderr",
     "output_type": "stream",
     "text": [
      "[I 210103 17:16:15 config:134] Using preprocessor: <kubeflow.fairing.preprocessors.base.BasePreProcessor object at 0x7fe87f5d5b00>\n",
      "[I 210103 17:16:15 config:136] Using builder: <kubeflow.fairing.builders.append.append.AppendBuilder object at 0x7fe87f5d5ac8>\n",
      "[I 210103 17:16:15 config:138] Using deployer: <kubeflow.fairing.deployers.job.job.Job object at 0x7fe87f5d5ba8>\n",
      "[W 210103 17:16:15 append:50] Building image using Append builder...\n",
      "[I 210103 17:16:15 base:107] Creating docker context: /tmp/fairing_context_z3rb6lvv\n",
      "[I 210103 17:16:15 docker_creds_:234] Loading Docker credentials for repository 'tensorflow/tensorflow:2.0.3-gpu-py3'\n",
      "[W 210103 17:16:17 append:54] Image successfully built in 2.088375209015794s.\n",
      "[W 210103 17:16:17 append:94] Pushing image kubeflow-registry.default.svc.cluster.local:30000/my-02-python-file-fairing:5E86763D...\n",
      "[I 210103 17:16:17 docker_creds_:234] Loading Docker credentials for repository 'kubeflow-registry.default.svc.cluster.local:30000/my-02-python-file-fairing:5E86763D'\n",
      "[W 210103 17:16:17 append:81] Uploading kubeflow-registry.default.svc.cluster.local:30000/my-02-python-file-fairing:5E86763D\n",
      "[I 210103 17:16:17 docker_session_:284] Layer sha256:6909261aef87df136e6463700c2994cb2c4d68b90c4940d5fd5dbf3bdd58442e pushed.\n",
      "[I 210103 17:16:17 docker_session_:284] Layer sha256:3aa8404dff9d76efbe39a4ce40f69c00236b25ec4abae0366a4635684a5c0da4 pushed.\n",
      "[I 210103 17:16:17 docker_session_:284] Layer sha256:1860925334f940c3145808527480b4f0cba7f01279087fdb27679e4354fba967 pushed.\n",
      "[I 210103 17:16:18 docker_session_:284] Layer sha256:24379c211bf57a28dc199d0b1e7dc6a8055c42367f7dc7aa7af94233424320d0 pushed.\n",
      "[I 210103 17:16:18 docker_session_:284] Layer sha256:64c1fb90b5a5b52bc9cd212302432b449b17377ab2822b7df3bf51183f955a15 pushed.\n",
      "[I 210103 17:16:18 docker_session_:284] Layer sha256:3baa9cb2483bd9c5329a44d9c2fe72535625bbd4308bca95785dd58e72c06365 pushed.\n",
      "[I 210103 17:16:18 docker_session_:284] Layer sha256:808ab635d662f007795c47a50aa04f09645f4ff2356cb3b4a4793dc849f8c567 pushed.\n",
      "[I 210103 17:16:18 docker_session_:284] Layer sha256:94e5ff4c0b1526abf77c236655f21c8f67a23313291c8b970fe6b469549d8153 pushed.\n",
      "[I 210103 17:16:18 docker_session_:284] Layer sha256:b11f037be8e82a958bc0f85b0fa2a73515ce8954042eac96bb654e662ae9519f pushed.\n",
      "[I 210103 17:16:19 docker_session_:284] Layer sha256:180a91d332525099dc19822a6acdd951afc8caa017d5101cfe925d839a86d806 pushed.\n",
      "[I 210103 17:16:19 docker_session_:284] Layer sha256:8ed3cb4f3e640b8c622e61beba1b83f115f32756055cafcc5840e4ae4f806cab pushed.\n",
      "[I 210103 17:16:19 docker_session_:284] Layer sha256:d69f906e5daf636062d23a04229abd5ad7cc9dc4ed4fec747209c475d2baedbe pushed.\n",
      "[I 210103 17:16:19 docker_session_:284] Layer sha256:f08d8e2a3ba11bea23cf5c17e8e1c620057412ed05c32d1114640e18d6dd0a43 pushed.\n",
      "[I 210103 17:16:19 docker_session_:284] Layer sha256:05cc64cc481fe79962b34513eab815d88ebe4ac6ac5014f5a75059120ff54403 pushed.\n",
      "[I 210103 17:16:21 docker_session_:284] Layer sha256:f24e58c7d76b40e220b929eb26738ea454d26e69b3c4f69915dbc39d801ad2bb pushed.\n",
      "[I 210103 17:16:21 docker_session_:284] Layer sha256:a6b0136f4b734fa962c4f6a51536f4c66bdf70607e08a815cc8b1ee28b967af7 pushed.\n",
      "[I 210103 17:16:41 docker_session_:284] Layer sha256:eee182b1b1f319aa543a64cf31d2ab0479870a7dc103da35ad4e450513dccdb9 pushed.\n",
      "[I 210103 17:16:42 docker_session_:284] Layer sha256:da612ad945dfc0bddf4057d29e35c73c95bb864754567ab5068fe7b1fbd8b696 pushed.\n",
      "[I 210103 17:16:42 docker_session_:334] Finished upload of: kubeflow-registry.default.svc.cluster.local:30000/my-02-python-file-fairing:5E86763D\n",
      "[W 210103 17:16:42 append:99] Pushed image kubeflow-registry.default.svc.cluster.local:30000/my-02-python-file-fairing:5E86763D in 25.113859848002903s.\n",
      "[W 210103 17:16:42 job:101] The job fairing-job-zbbg2 launched.\n",
      "[W 210103 17:16:42 manager:298] Waiting for fairing-job-zbbg2-8bf9k to start...\n",
      "[W 210103 17:16:42 manager:298] Waiting for fairing-job-zbbg2-8bf9k to start...\n",
      "[W 210103 17:16:42 manager:298] Waiting for fairing-job-zbbg2-8bf9k to start...\n",
      "[I 210103 17:16:44 manager:304] Pod started running True\n"
     ]
    },
    {
     "name": "stdout",
     "output_type": "stream",
     "text": [
      "Downloading data from https://storage.googleapis.com/tensorflow/tf-keras-datasets/mnist.npz\n",
      "11493376/11490434 [==============================] - 0s 0us/step\n",
      "2021-01-03 17:16:46.988468: I tensorflow/stream_executor/platform/default/dso_loader.cc:44] Successfully opened dynamic library libcuda.so.1\n",
      "2021-01-03 17:16:46.988531: E tensorflow/stream_executor/cuda/cuda_driver.cc:318] failed call to cuInit: UNKNOWN ERROR (-1)\n",
      "2021-01-03 17:16:46.988568: I tensorflow/stream_executor/cuda/cuda_diagnostics.cc:156] kernel driver does not appear to be running on this host (fairing-job-zbbg2-8bf9k): /proc/driver/nvidia/version does not exist\n",
      "2021-01-03 17:16:46.988853: I tensorflow/core/platform/cpu_feature_guard.cc:142] Your CPU supports instructions that this TensorFlow binary was not compiled to use: AVX2 FMA\n",
      "2021-01-03 17:16:46.997452: I tensorflow/core/platform/profile_utils/cpu_utils.cc:94] CPU Frequency: 2199995000 Hz\n",
      "2021-01-03 17:16:46.998183: I tensorflow/compiler/xla/service/service.cc:168] XLA service 0x3addaa0 executing computations on platform Host. Devices:\n",
      "2021-01-03 17:16:46.998274: I tensorflow/compiler/xla/service/service.cc:175]   StreamExecutor device (0): Host, Default Version\n",
      "Model: \"sequential\"\n",
      "_________________________________________________________________\n",
      "Layer (type)                 Output Shape              Param #\n",
      "=================================================================\n",
      "flatten (Flatten)            (None, 784)               0\n",
      "_________________________________________________________________\n",
      "dense (Dense)                (None, 128)               100480\n",
      "_________________________________________________________________\n",
      "dropout (Dropout)            (None, 128)               0\n",
      "_________________________________________________________________\n",
      "dense_1 (Dense)              (None, 10)                1290\n",
      "=================================================================\n",
      "Total params: 101,770\n",
      "Trainable params: 101,770\n",
      "Non-trainable params: 0\n",
      "_________________________________________________________________\n",
      "Training...\n",
      "Train on 48000 samples, validate on 12000 samples\n",
      "Epoch 1/3\n",
      " 1952/48000 [>.............................] - ETA: 23s - loss: 1.2699 - accuracy: 0.63562\n",
      " 4960/48000 [==>...........................] - ETA: 14s - loss: 0.8287 - accuracy: 0.753\n",
      " 8032/48000 [====>.........................] - ETA: 11s - loss: 0.6955 - accuracy: 0.802\n",
      "10592/48000 [=====>........................] - ETA: 9s - loss: 0.5992 - accuracy: 0.8373\n",
      "13152/48000 [=======>......................] - ETA: 8s - loss: 0.5487 - accuracy: 0.84\n",
      "16256/48000 [=========>....................] - ETA: 7s - loss: 0.5042 - accuracy: 0.85\n",
      "19360/48000 [===========>..................] - ETA: 6s - loss: 0.4762 - accuracy: 0.86\n",
      "21920/48000 [============>.................] - ETA: 5s - loss: 0.4487 - accuracy: 0.872\n",
      "24928/48000 [==============>...............] - ETA: 5s - loss: 0.4264 - accuracy: 0.878\n",
      "28000/48000 [================>.............] - ETA: 4s - loss: 0.4075 - accuracy: 0.883\n",
      "30656/48000 [==================>...........] - ETA: 3s - loss: 0.3944 - accuracy: 0.88\n",
      "33760/48000 [===================>..........] - ETA: 3s - loss: 0.3794 - accuracy: 0.89\n",
      "36384/48000 [=====================>........] - ETA: 2s - loss: 0.3641 - accuracy: 0.89\n",
      "39456/48000 [=======================>......] - ETA: 1s - loss: 0.3525 - accuracy: 0.89\n",
      "42080/48000 [=========================>....] - ETA: 1s - loss: 0.3429 - accuracy: 0.90\n",
      "45248/48000 [===========================>..] - ETA: 0s - loss: 0.3340 - accuracy: 0.90\n",
      "48000/48000 [============================>.] - ETA: 0s - loss: 0.3252 - accuracy: 0.90\n",
      "000 [==============================] - 11s 238us/sample - loss: 0.3249 - accuracy: 0.9069 - val_loss: 0.1464 - val_accuracy: 0.9592\n",
      "Epoch 2/3\n",
      " 2368/48000 [>.............................] - ETA: 9s - loss: 0.1604 - accuracy: 0.9572\n",
      " 4928/48000 [==>...........................] - ETA: 8s - loss: 0.1667 - accuracy: 0.949\n",
      " 7968/48000 [===>..........................] - ETA: 7s - loss: 0.1681 - accuracy: 0.95\n",
      "11008/48000 [=====>........................] - ETA: 7s - loss: 0.1702 - accuracy: 0.94\n",
      "13536/48000 [=======>......................] - ETA: 6s - loss: 0.1683 - accuracy: 0.95\n",
      "16032/48000 [=========>....................] - ETA: 6s - loss: 0.1659 - accuracy: 0.95\n",
      "19104/48000 [==========>...................] - ETA: 5s - loss: 0.1653 - accuracy: 0.95\n",
      "22144/48000 [============>.................] - ETA: 5s - loss: 0.1642 - accuracy: 0.95\n",
      "25312/48000 [==============>...............] - ETA: 4s - loss: 0.1626 - accuracy: 0.95\n",
      "27872/48000 [================>.............] - ETA: 3s - loss: 0.1603 - accuracy: 0.952\n",
      "31040/48000 [==================>...........] - ETA: 3s - loss: 0.1602 - accuracy: 0.952\n",
      "34080/48000 [====================>.........] - ETA: 2s - loss: 0.1607 - accuracy: 0.95\n",
      "36192/48000 [=====================>........] - ETA: 2s - loss: 0.1596 - accuracy: 0.95\n",
      "38720/48000 [=======================>......] - ETA: 1s - loss: 0.1591 - accuracy: 0.95\n",
      "41408/48000 [========================>.....] - ETA: 1s - loss: 0.1575 - accuracy: 0.95\n",
      "44384/48000 [==========================>...] - ETA: 0s - loss: 0.1567 - accuracy: 0.95\n",
      "46944/48000 [============================>.] - ETA: 0s - loss: 0.1558 - accuracy: 0.95\n",
      "48000/48000 [==============================] - 11s 223us/sample - loss: 0.1544 - accuracy: 0.9541 - val_loss: 0.1104 - val_accuracy: 0.9651\n",
      "Epoch 3/3\n",
      " 2336/48000 [>.............................] - ETA: 9s - loss: 0.1364 - accuracy: 0.9627\n",
      " 5408/48000 [==>...........................] - ETA: 8s - loss: 0.1291 - accuracy: 0.965\n",
      " 8512/48000 [====>.........................] - ETA: 7s - loss: 0.1211 - accuracy: 0.96\n",
      "11616/48000 [======........................] - ETA: 7s - loss: 0.1195 - accuracy: 0.96\n",
      "14176/48000 [=======>......................] - ETA: 6s - loss: 0.1147 - accuracy: 0.96\n",
      "17248/48000 [=========>....................] - ETA: 6s - loss: 0.1121 - accuracy: 0.96\n",
      "20256/48000 [===========>..................] - ETA: 5s - loss: 0.1114 - accuracy: 0.96\n",
      "23392/48000 [=============>................] - ETA: 4s - loss: 0.1122 - accuracy: 0.96\n",
      "26496/48000 [===============>..............] - ETA: 4s - loss: 0.1118 - accuracy: 0.96\n",
      "28832/48000 [=================>............] - ETA: 3s - loss: 0.1141 - accuracy: 0.966\n",
      "31584/48000 [==================>...........] - ETA: 3s - loss: 0.1144 - accuracy: 0.966\n",
      "34336/48000 [====================>.........] - ETA: 2s - loss: 0.1137 - accuracy: 0.96\n",
      "37280/48000 [=====================>........] - ETA: 2s - loss: 0.1135 - accuracy: 0.96\n",
      "39584/48000 [=======================>......] - ETA: 1s - loss: 0.1130 - accuracy: 0.96\n",
      "42336/48000 [=========================>....] - ETA: 1s - loss: 0.1129 - accuracy: 0.96\n",
      "45312/48000 [===========================>..] - ETA: 0s - loss: 0.1135 - accuracy: 0.96\n",
      "48000/48000 [==============================] - 11s 233us loss: 0.1135 - accuracy: 0.96\n",
      "/sample - loss: 0.1134 - accuracy: 0.9665 - val_loss: 0.1006 - val_accuracy: 0.9692\n",
      "Test accuracy:  0.9712\n"
     ]
    },
    {
     "name": "stderr",
     "output_type": "stream",
     "text": [
      "[W 210103 17:17:22 job:173] Cleaning up job fairing-job-zbbg2...\n"
     ]
    },
    {
     "data": {
      "text/plain": [
       "(<kubeflow.fairing.preprocessors.base.BasePreProcessor at 0x7fe87f5d5b00>,\n",
       " <kubeflow.fairing.builders.append.append.AppendBuilder at 0x7fe87f5d5ac8>,\n",
       " <kubeflow.fairing.deployers.job.job.Job at 0x7fe87f5d5ba8>)"
      ]
     },
     "execution_count": 2,
     "metadata": {},
     "output_type": "execute_result"
    }
   ],
   "source": [
    "from kubeflow import fairing\n",
    "from kubeflow.fairing.kubernetes import utils as k8s_utils\n",
    "\n",
    "PRIVATE_REGISTRY = 'kubeflow-registry.default.svc.cluster.local:30000'\n",
    "\n",
    "fairing.config.set_preprocessor(\n",
    "    'python', \n",
    "     # command = ['python'],  # default: python\n",
    "     input_files = ['00-python-file-to-fairing.py'],     \n",
    ")\n",
    "\n",
    "fairing.config.set_builder(\n",
    "    'append',\n",
    "    # base_image = f'{PRIVATE_REGISTRY}/kf-base:latest', # 사전준비에서 마련한 Base Image\n",
    "    base_image = 'tensorflow/tensorflow:2.0.3-gpu-py3',\n",
    "    registry = PRIVATE_REGISTRY,\n",
    "    image_name='my-02-python-file-fairing', \n",
    "    push=True\n",
    ")\n",
    "\n",
    "fairing.config.set_deployer(\n",
    "    'job',\n",
    "    namespace='myspace',\n",
    "    pod_spec_mutators=[\n",
    "        k8s_utils.get_resource_mutator(cpu=1, memory=5)]\n",
    ")\n",
    "\n",
    "fairing.config.run()"
   ]
  },
  {
   "cell_type": "markdown",
   "metadata": {
    "tags": []
   },
   "source": [
    "# Image 확인\n",
    "- Host에서 실행\n",
    "- fairing에서 난수로 생성한 tag를 변경해서 실행할 것 (예: E2683407)"
   ]
  },
  {
   "cell_type": "markdown",
   "metadata": {
    "tags": []
   },
   "source": [
    "### Image pull\n",
    "```sh\n",
    "docker pull kubeflow-registry.default.svc.cluster.local:30000/my-02-python-file-fairing:E2683407\n",
    "```"
   ]
  },
  {
   "cell_type": "markdown",
   "metadata": {
    "tags": []
   },
   "source": [
    "### Image inspect\n",
    "```sh\n",
    "docker inspect kubeflow-registry.default.svc.cluster.local:30000/my-02-python-file-fairing:E2683407\n",
    "```\n",
    "Cmd 항목을 확인하고 faring 코드대로 image build 되었음을 확인\n",
    "```json\n",
    "...\n",
    "            \"Cmd\": [\n",
    "                \"python\",\n",
    "                \"/app/00-python-file-to-fairing.py\"\n",
    "            ],\n",
    "...\n",
    "```"
   ]
  }
 ],
 "metadata": {
  "kernelspec": {
   "display_name": "Python 3",
   "language": "python",
   "name": "python3"
  },
  "kubeflow_notebook": {
   "autosnapshot": false,
   "docker_image": "reddiana/jupyterlab-kale:0.0.9",
   "experiment": {
    "id": "",
    "name": ""
   },
   "experiment_name": "",
   "katib_metadata": {
    "algorithm": {
     "algorithmName": "grid"
    },
    "maxFailedTrialCount": 3,
    "maxTrialCount": 12,
    "objective": {
     "objectiveMetricName": "",
     "type": "minimize"
    },
    "parallelTrialCount": 3,
    "parameters": []
   },
   "katib_run": false,
   "pipeline_description": "",
   "pipeline_name": "",
   "snapshot_volumes": false,
   "steps_defaults": [],
   "volumes": []
  },
  "language_info": {
   "codemirror_mode": {
    "name": "ipython",
    "version": 3
   },
   "file_extension": ".py",
   "mimetype": "text/x-python",
   "name": "python",
   "nbconvert_exporter": "python",
   "pygments_lexer": "ipython3",
   "version": "3.6.9"
  }
 },
 "nbformat": 4,
 "nbformat_minor": 4
}
