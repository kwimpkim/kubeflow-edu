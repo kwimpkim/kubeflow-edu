{
 "cells": [
  {
   "cell_type": "code",
   "execution_count": 2,
   "metadata": {
    "tags": []
   },
   "outputs": [
    {
     "name": "stderr",
     "output_type": "stream",
     "text": [
      "[I 210314 18:49:29 config:134] Using preprocessor: <kubeflow.fairing.preprocessors.base.BasePreProcessor object at 0x7f03006fe470>\n",
      "[I 210314 18:49:29 config:136] Using builder: <kubeflow.fairing.builders.append.append.AppendBuilder object at 0x7f03006fecf8>\n",
      "[I 210314 18:49:29 config:138] Using deployer: <kubeflow.fairing.deployers.job.job.Job object at 0x7f03006fee80>\n",
      "[W 210314 18:49:29 append:50] Building image using Append builder...\n",
      "[I 210314 18:49:29 base:107] Creating docker context: /tmp/fairing_context_n6ovkg5v\n",
      "[I 210314 18:49:29 docker_creds_:234] Loading Docker credentials for repository 'tensorflow/tensorflow'\n",
      "[W 210314 18:49:30 append:54] Image successfully built in 0.49828900400098064s.\n",
      "[W 210314 18:49:30 append:94] Pushing image registry.kube-system.svc.cluster.local:30000/my-02-python-file-fairing:63233498...\n",
      "[I 210314 18:49:30 docker_creds_:234] Loading Docker credentials for repository 'registry.kube-system.svc.cluster.local:30000/my-02-python-file-fairing:63233498'\n",
      "[W 210314 18:49:30 append:81] Uploading registry.kube-system.svc.cluster.local:30000/my-02-python-file-fairing:63233498\n",
      "[I 210314 18:49:30 docker_session_:280] Layer sha256:d519e2592276828ca171d85e0532899cd4f98c70f5c697b45fa2e126e9f9fe49 exists, skipping\n",
      "[I 210314 18:49:30 docker_session_:280] Layer sha256:1f0ffb4d2509e58e040b2d3c146f875dfc5d39ac9e974e6bfb1a5505b98eefae exists, skipping\n",
      "[I 210314 18:49:30 docker_session_:280] Layer sha256:961442e8e0e4f9ec91ef34f41523a3dc42e68476b5f8d27e2fe43f179d801263 exists, skipping\n",
      "[I 210314 18:49:30 docker_session_:280] Layer sha256:d22d2dfcfa9cd230ed3c47defec2670d45081598c721dd85cafc34ea459f970e exists, skipping\n",
      "[I 210314 18:49:30 docker_session_:280] Layer sha256:b3afe92c540b778c64ca316d1e679d55d2d2e812e450f516a808ee591f0c3f77 exists, skipping\n",
      "[I 210314 18:49:30 docker_session_:280] Layer sha256:c12ceea561ed13e6b0566ce331de9cfc90b43ab4b14a2e12a5a29d73420f51b3 exists, skipping\n",
      "[I 210314 18:49:30 docker_session_:280] Layer sha256:5d43e8c7056a20768e9c36d57ba56227f71df1563d630d424f512efd7b028805 exists, skipping\n",
      "[I 210314 18:49:30 docker_session_:280] Layer sha256:50fda3674ff59750d733018b8a5a24ebc8b42fd4b664981be65e57ee9d95c1fe exists, skipping\n",
      "[I 210314 18:49:30 docker_session_:280] Layer sha256:e266fced02fae9320dafe0ef2adab0fd0bdd5a7d795848c2fa344eafb4f70ab9 exists, skipping\n",
      "[I 210314 18:49:30 docker_session_:280] Layer sha256:0b2b6f75fc9510d3889bb224823a6d8a720a0cba6d7481874e4612ccbccd3014 exists, skipping\n",
      "[I 210314 18:49:30 docker_session_:280] Layer sha256:c29b15b084af0bc2cabab123e72a62f1d9919774f15a91eeeb3b138aaf5f7850 exists, skipping\n",
      "[I 210314 18:49:30 docker_session_:284] Layer sha256:186e4e4d8a382c2abbf74a80921ce3dab73f25dcf15d6bc0bc867c77402ba509 pushed.\n",
      "[I 210314 18:49:30 docker_session_:334] Finished upload of: registry.kube-system.svc.cluster.local:30000/my-02-python-file-fairing:63233498\n",
      "[W 210314 18:49:30 append:99] Pushed image registry.kube-system.svc.cluster.local:30000/my-02-python-file-fairing:63233498 in 0.1352914420021989s.\n",
      "[W 210314 18:49:30 job:101] The job fairing-job-jvj8f launched.\n",
      "[W 210314 18:49:30 manager:298] Waiting for fairing-job-jvj8f-dv96b to start...\n",
      "[W 210314 18:49:30 manager:298] Waiting for fairing-job-jvj8f-dv96b to start...\n",
      "[W 210314 18:49:30 manager:298] Waiting for fairing-job-jvj8f-dv96b to start...\n",
      "[I 210314 18:49:32 manager:304] Pod started running True\n"
     ]
    },
    {
     "name": "stdout",
     "output_type": "stream",
     "text": [
      "2021-03-14 18:49:31.692006: W tensorflow/stream_executor/platform/default/dso_loader.cc:60] Could not load dynamic library 'libcudart.so.11.0'; dlerror: libcudart.so.11.0: cannot open shared object file: No such file or directory\n",
      "2021-03-14 18:49:31.692055: I tensorflow/stream_executor/cuda/cudart_stub.cc:29] Ignore above cudart dlerror if you do not have a GPU set up on your machine.\n",
      "Downloading data from https://storage.googleapis.com/tensorflow/tf-keras-datasets/mnist.npz\n",
      "11493376/11490434 [==============================] - 0s 0us/step\n",
      "2021-03-14 18:49:34.677229: I tensorflow/compiler/jit/xla_cpu_device.cc:41] Not creating XLA devices, tf_xla_enable_xla_devices not set\n",
      "2021-03-14 18:49:34.677505: W tensorflow/stream_executor/platform/default/dso_loader.cc:60] Could not load dynamic library 'libcuda.so.1'; dlerror: libcuda.so.1: cannot open shared object file: No such file or directory\n",
      "2021-03-14 18:49:34.677532: W tensorflow/stream_executor/cuda/cuda_driver.cc:326] failed call to cuInit: UNKNOWN ERROR (303)\n",
      "2021-03-14 18:49:34.677558: I tensorflow/stream_executor/cuda/cuda_diagnostics.cc:156] kernel driver does not appear to be running on this host (fairing-job-jvj8f-dv96b): /proc/driver/nvidia/version does not exist\n",
      "2021-03-14 18:49:34.677887: I tensorflow/core/platform/cpu_feature_guard.cc:142] This TensorFlow binary is optimized with oneAPI Deep Neural Network Library (oneDNN) to use the following CPU instructions in performance-critical operations:  AVX2 FMA\n",
      "To enable them in other operations, rebuild TensorFlow with the appropriate compiler flags.\n",
      "2021-03-14 18:49:34.678368: I tensorflow/compiler/jit/xla_gpu_device.cc:99] Not creating XLA devices, tf_xla_enable_xla_devices not set\n",
      "2021-03-14 18:49:34.920210: W tensorflow/core/framework/cpu_allocator_impl.cc:80] Allocation of 150528000 exceeds 10% of free system memory.\n",
      "2021-03-14 18:49:35.150804: I tensorflow/compiler/mlir/mlir_graph_optimization_pass.cc:116] None of the MLIR optimization passes are enabled (registered 2)\n",
      "2021-03-14 18:49:35.151495: I tensorflow/core/platform/profile_utils/cpu_utils.cc:112] CPU Frequency: 2299995000 Hz\n",
      "Model: \"sequential\"\n",
      "_________________________________________________________________\n",
      "Layer (type)                 Output Shape              Param #\n",
      "=================================================================\n",
      "flatten (Flatten)            (None, 784)               0\n",
      "_________________________________________________________________\n",
      "dense (Dense)                (None, 128)               100480\n",
      "_________________________________________________________________\n",
      "dropout (Dropout)            (None, 128)               0\n",
      "_________________________________________________________________\n",
      "dense_1 (Dense)              (None, 10)                1290\n",
      "=================================================================\n",
      "Total params: 101,770\n",
      "Trainable params: 101,770\n",
      "Non-trainable params: 0\n",
      "_________________________________________________________________\n",
      "Training...\n",
      "Epoch 1/3\n",
      "  77/1500 [>.............................] - ETA: 9s - loss: 1.5744 - accuracy: 0.50488 \n",
      " 177/1500 [==>...........................] - ETA: 8s - loss: 1.1899 - accuracy: 0.637\n",
      " 278/1500 [====>.........................] - ETA: 7s - loss: 1.0056 - accuracy: 0.697\n",
      " 381/1500 [======>.......................] - ETA: 6s - loss: 0.8909 - accuracy: 0.733\n",
      " 484/1500 [========>.....................] - ETA: 6s - loss: 0.8137 - accuracy: 0.757\n",
      " 583/1500 [==========>...................] - ETA: 5s - loss: 0.7582 - accuracy: 0.77\n",
      " 685/1500 [============>.................] - ETA: 4s - loss: 0.7202 - accuracy: 0.78\n",
      " 789/1500 [==============>...............] - ETA: 4s - loss: 0.6825 - accuracy: 0.79\n",
      " 879/1500 [================>.............] - ETA: 3s - loss: 0.6546 - accuracy: 0.80\n",
      " 982/1500 [==================>...........] - ETA: 3s - loss: 0.6268 - accuracy: 0.81\n",
      "1091/1500 [====================>.........] - ETA: 2s - loss: 0.6017 - accuracy: 0.82\n",
      "1160/1500 [======================>.......] - ETA: 1s - loss: 0.5844 - accuracy: 0.82\n",
      "1251/1500 [========================>.....] - ETA: 1s - loss: 0.5680 - accuracy: 0.83\n",
      "1357/1500 [==========================>...] - ETA: 0s - loss: 0.5509 - accuracy: 0.83\n",
      "1454/1500 [============================>.] - ETA: 0s - loss: 0.5367 - accuracy: 0.84\n",
      "1500/1500 [==============================] - 11s 7ms/step - loss: 0.5303 - accuracy: 0.8436 - val_loss: 0.1528 - val_accuracy: 0.9578\n",
      "Epoch 2/3\n",
      "  83/1500 [>.............................] - ETA: 8s - loss: 0.1694 - accuracy: 0.95\n",
      " 189/1500 [==>...........................] - ETA: 7s - loss: 0.1748 - accuracy: 0.94\n",
      " 279/1500 [====>.........................] - ETA: 6s - loss: 0.1755 - accuracy: 0.94\n",
      " 368/1500 [======>.......................] - ETA: 6s - loss: 0.1758 - accuracy: 0.94\n",
      " 432/1500 [=======>......................] - ETA: 6s - loss: 0.1762 - accuracy: 0.94\n",
      " 502/1500 [=========>....................] - ETA: 5s - loss: 0.1761 - accuracy: 0.94\n",
      " 569/1500 [==========>...................] - ETA: 5s - loss: 0.1759 - accuracy: 0.94\n",
      " 637/1500 [===========>..................] - ETA: 5s - loss: 0.1757 - accuracy: 0.94\n",
      " 719/1500 [=============>................] - ETA: 4s - loss: 0.1752 - accuracy: 0.94\n",
      " 803/1500 [===============>..............] - ETA: 4s - loss: 0.1745 - accuracy: 0.94\n",
      " 886/1500 [================>.............] - ETA: 3s - loss: 0.1738 - accuracy: 0.94\n",
      " 973/1500 [==================>...........] - ETA: 3s - loss: 0.1730 - accuracy: 0.94\n",
      "1023/1500 [===================>..........] - ETA: 2s - loss: 0.1724 - accuracy: 0.948\n",
      "1112/1500 [=====================>........] - ETA: 2s - loss: 0.1716 - accuracy: 0.949\n",
      "1174/1500 [======================>.......] - ETA: 1s - loss: 0.1711 - accuracy: 0.949\n",
      "1244/1500 [=======================>......] - ETA: 1s - loss: 0.1705 - accuracy: 0.949\n",
      "1347/1500 [=========================>....] - ETA: 0s - loss: 0.1697 - accuracy: 0.949\n",
      "1455/1500 [============================>.] - ETA: 0s - loss: 0.1688 - accuracy: 0.950\n",
      "1500/1500 [==============================] - 10s 7ms/step - loss: 0.1685 - accuracy: 0.9502 - val_loss: 0.1184 - val_accuracy: 0.9653\n",
      "Epoch 3/3\n",
      "  80/1500 [>.............................] - ETA: 8s - loss: 0.1290 - accuracy: 0.96\n",
      " 171/1500 [==>...........................] - ETA: 7s - loss: 0.1290 - accuracy: 0.96\n",
      " 274/1500 [====>.........................] - ETA: 7s - loss: 0.1275 - accuracy: 0.96\n",
      " 381/1500 [======>.......................] - ETA: 6s - loss: 0.1272 - accuracy: 0.96\n",
      " 477/1500 [========>.....................] - ETA: 5s - loss: 0.1270 - accuracy: 0.96\n",
      " 575/1500 [==========>...................] - ETA: 5s - loss: 0.1261 - accuracy: 0.96\n",
      " 673/1500 [============>.................] - ETA: 4s - loss: 0.1253 - accuracy: 0.96\n",
      " 776/1500 [==============>...............] - ETA: 4s - loss: 0.1247 - accuracy: 0.96\n",
      " 875/1500 [================>.............] - ETA: 3s - loss: 0.1241 - accuracy: 0.96\n",
      " 965/1500 [==================>...........] - ETA: 3s - loss: 0.1235 - accuracy: 0.96\n",
      "1068/1500 [====================>.........] - ETA: 2s - loss: 0.1230 - accuracy: 0.96\n",
      "1169/1500 [======================>.......] - ETA: 2s - loss: 0.1226 - accuracy: 0.96\n",
      "1255/1500 [========================>.....] - ETA: 1s - loss: 0.1222 - accuracy: 0.963\n",
      "1355/1500 [==========================>...] - ETA: 0s - loss: 0.1219 - accuracy: 0.963\n",
      "1457/1500 [============================>.] - ETA: 0s - loss: 0.1216 - accuracy: 0.963\n",
      "1500/1500 [==============================] - 10s 7ms/step - loss: 0.1215 - accuracy: 0.9635 - val_loss: 0.1012 - val_accuracy: 0.9706\n",
      "Test accuracy:  0.9688000082969666\n"
     ]
    },
    {
     "name": "stderr",
     "output_type": "stream",
     "text": [
      "[W 210314 18:50:07 job:173] Cleaning up job fairing-job-jvj8f...\n"
     ]
    },
    {
     "data": {
      "text/plain": [
       "(<kubeflow.fairing.preprocessors.base.BasePreProcessor at 0x7f03006fe470>,\n",
       " <kubeflow.fairing.builders.append.append.AppendBuilder at 0x7f03006fecf8>,\n",
       " <kubeflow.fairing.deployers.job.job.Job at 0x7f03006fee80>)"
      ]
     },
     "execution_count": 2,
     "metadata": {},
     "output_type": "execute_result"
    }
   ],
   "source": [
    "from kubeflow import fairing\n",
    "from kubeflow.fairing.kubernetes import utils as k8s_utils\n",
    "\n",
    "PRIVATE_REGISTRY = 'registry.kube-system.svc.cluster.local:30000'\n",
    "\n",
    "fairing.config.set_preprocessor(\n",
    "    'python', \n",
    "     # command = ['python'],  # default: python\n",
    "     input_files = ['00-python-file-to-fairing.py'], # 생성되는 image의 /app/ 디렉토리로 복사됨\n",
    ")\n",
    "\n",
    "fairing.config.set_builder(\n",
    "    'append',\n",
    "    base_image = 'tensorflow/tensorflow',\n",
    "    registry = PRIVATE_REGISTRY,\n",
    "    image_name='my-02-python-file-fairing', \n",
    "    push=True\n",
    ")\n",
    "\n",
    "fairing.config.set_deployer(\n",
    "    'job',\n",
    "    # namespace='myspace', # default: 현재 네임스페이스\n",
    "    pod_spec_mutators=[\n",
    "        k8s_utils.get_resource_mutator(cpu=1, memory=5)]\n",
    ")\n",
    "\n",
    "fairing.config.run()"
   ]
  },
  {
   "cell_type": "markdown",
   "metadata": {
    "tags": []
   },
   "source": [
    "# curl로 프라이빗 레지스트리 확인"
   ]
  },
  {
   "cell_type": "code",
   "execution_count": 3,
   "metadata": {
    "tags": []
   },
   "outputs": [
    {
     "name": "stdout",
     "output_type": "stream",
     "text": [
      "{\"repositories\":[\"my-02-python-file-fairing\",\"my-03-function-fairing-job\",\"mybase\",\"mymnistbase\",\"mytfjob\",\"tfjob-fairing-mnist\"]}\n"
     ]
    }
   ],
   "source": [
    "! curl http://registry.kube-system.svc.cluster.local:30000/v2/_catalog"
   ]
  },
  {
   "cell_type": "code",
   "execution_count": 5,
   "metadata": {
    "tags": []
   },
   "outputs": [
    {
     "name": "stdout",
     "output_type": "stream",
     "text": [
      "{\"name\":\"my-02-python-file-fairing\",\"tags\":[\"729DED65\",\"20F8BE01\",\"2EEA161F\",\"388750DC\",\"63233498\",\"16CF3292\"]}\n"
     ]
    }
   ],
   "source": [
    "! curl http://registry.kube-system.svc.cluster.local:30000/v2/my-02-python-file-fairing/tags/list"
   ]
  },
  {
   "cell_type": "markdown",
   "metadata": {
    "tags": []
   },
   "source": [
    "# Image 확인\n",
    "- Host에서 실행\n",
    "- fairing에서 난수로 생성한 tag를 변경해서 실행할 것 (예: E2683407)"
   ]
  },
  {
   "cell_type": "markdown",
   "metadata": {
    "tags": []
   },
   "source": [
    "### Image pull\n",
    "```sh\n",
    "docker pull registry.kube-system.svc.cluster.local:30000/my-02-python-file-fairing:E2683407\n",
    "```"
   ]
  },
  {
   "cell_type": "markdown",
   "metadata": {
    "tags": []
   },
   "source": [
    "### Image inspect\n",
    "```sh\n",
    "docker inspect registry.kube-system.svc.cluster.local:30000/my-02-python-file-fairing:E2683407\n",
    "```\n",
    "Cmd 항목을 확인하고 faring 코드대로 image build 되었음을 확인\n",
    "```json\n",
    "...\n",
    "            \"Cmd\": [\n",
    "                \"python\",\n",
    "                \"/app/00-python-file-to-fairing.py\"\n",
    "            ],\n",
    "...\n",
    "```"
   ]
  }
 ],
 "metadata": {
  "kernelspec": {
   "display_name": "Python 3",
   "language": "python",
   "name": "python3"
  },
  "kubeflow_notebook": {
   "autosnapshot": false,
   "docker_image": "reddiana/jupyterlab-kale:0.0.9",
   "experiment": {
    "id": "",
    "name": ""
   },
   "experiment_name": "",
   "katib_metadata": {
    "algorithm": {
     "algorithmName": "grid"
    },
    "maxFailedTrialCount": 3,
    "maxTrialCount": 12,
    "objective": {
     "objectiveMetricName": "",
     "type": "minimize"
    },
    "parallelTrialCount": 3,
    "parameters": []
   },
   "katib_run": false,
   "pipeline_description": "",
   "pipeline_name": "",
   "snapshot_volumes": false,
   "steps_defaults": [],
   "volumes": []
  },
  "language_info": {
   "codemirror_mode": {
    "name": "ipython",
    "version": 3
   },
   "file_extension": ".py",
   "mimetype": "text/x-python",
   "name": "python",
   "nbconvert_exporter": "python",
   "pygments_lexer": "ipython3",
   "version": "3.6.9"
  }
 },
 "nbformat": 4,
 "nbformat_minor": 4
}
