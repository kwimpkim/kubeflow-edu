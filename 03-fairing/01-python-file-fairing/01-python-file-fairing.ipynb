{
 "cells": [
  {
   "cell_type": "code",
   "execution_count": 3,
   "metadata": {
    "tags": []
   },
   "outputs": [
    {
     "name": "stderr",
     "output_type": "stream",
     "text": [
      "[I 210114 09:29:17 config:134] Using preprocessor: <kubeflow.fairing.preprocessors.base.BasePreProcessor object at 0x7feb8be72240>\n",
      "[I 210114 09:29:17 config:136] Using builder: <kubeflow.fairing.builders.append.append.AppendBuilder object at 0x7feb8be72f28>\n",
      "[I 210114 09:29:17 config:138] Using deployer: <kubeflow.fairing.deployers.job.job.Job object at 0x7feb8be72400>\n",
      "[W 210114 09:29:17 append:50] Building image using Append builder...\n",
      "[I 210114 09:29:17 base:107] Creating docker context: /tmp/fairing_context_1pic661z\n",
      "[I 210114 09:29:17 docker_creds_:234] Loading Docker credentials for repository 'tensorflow/tensorflow:2.0.3-gpu-py3'\n",
      "[W 210114 09:29:19 append:54] Image successfully built in 2.4449413790007384s.\n",
      "[W 210114 09:29:19 append:94] Pushing image kubeflow-registry.default.svc.cluster.local:30000/my-02-python-file-fairing:7C8C036C...\n",
      "[I 210114 09:29:19 docker_creds_:234] Loading Docker credentials for repository 'kubeflow-registry.default.svc.cluster.local:30000/my-02-python-file-fairing:7C8C036C'\n",
      "[W 210114 09:29:19 append:81] Uploading kubeflow-registry.default.svc.cluster.local:30000/my-02-python-file-fairing:7C8C036C\n",
      "[I 210114 09:29:19 docker_session_:280] Layer sha256:808ab635d662f007795c47a50aa04f09645f4ff2356cb3b4a4793dc849f8c567 exists, skipping\n",
      "[I 210114 09:29:19 docker_session_:280] Layer sha256:b11f037be8e82a958bc0f85b0fa2a73515ce8954042eac96bb654e662ae9519f exists, skipping\n",
      "[I 210114 09:29:19 docker_session_:280] Layer sha256:d69f906e5daf636062d23a04229abd5ad7cc9dc4ed4fec747209c475d2baedbe exists, skipping\n",
      "[I 210114 09:29:19 docker_session_:280] Layer sha256:1860925334f940c3145808527480b4f0cba7f01279087fdb27679e4354fba967 exists, skipping\n",
      "[I 210114 09:29:19 docker_session_:280] Layer sha256:3aa8404dff9d76efbe39a4ce40f69c00236b25ec4abae0366a4635684a5c0da4 exists, skipping\n",
      "[I 210114 09:29:19 docker_session_:280] Layer sha256:f24e58c7d76b40e220b929eb26738ea454d26e69b3c4f69915dbc39d801ad2bb exists, skipping\n",
      "[I 210114 09:29:19 docker_session_:280] Layer sha256:f08d8e2a3ba11bea23cf5c17e8e1c620057412ed05c32d1114640e18d6dd0a43 exists, skipping\n",
      "[I 210114 09:29:19 docker_session_:280] Layer sha256:94e5ff4c0b1526abf77c236655f21c8f67a23313291c8b970fe6b469549d8153 exists, skipping\n",
      "[I 210114 09:29:19 docker_session_:280] Layer sha256:3baa9cb2483bd9c5329a44d9c2fe72535625bbd4308bca95785dd58e72c06365 exists, skipping\n",
      "[I 210114 09:29:19 docker_session_:280] Layer sha256:da612ad945dfc0bddf4057d29e35c73c95bb864754567ab5068fe7b1fbd8b696 exists, skipping\n",
      "[I 210114 09:29:19 docker_session_:280] Layer sha256:180a91d332525099dc19822a6acdd951afc8caa017d5101cfe925d839a86d806 exists, skipping\n",
      "[I 210114 09:29:19 docker_session_:280] Layer sha256:a6b0136f4b734fa962c4f6a51536f4c66bdf70607e08a815cc8b1ee28b967af7 exists, skipping\n",
      "[I 210114 09:29:19 docker_session_:280] Layer sha256:64c1fb90b5a5b52bc9cd212302432b449b17377ab2822b7df3bf51183f955a15 exists, skipping\n",
      "[I 210114 09:29:19 docker_session_:280] Layer sha256:8ed3cb4f3e640b8c622e61beba1b83f115f32756055cafcc5840e4ae4f806cab exists, skipping\n",
      "[I 210114 09:29:19 docker_session_:280] Layer sha256:24379c211bf57a28dc199d0b1e7dc6a8055c42367f7dc7aa7af94233424320d0 exists, skipping\n",
      "[I 210114 09:29:19 docker_session_:280] Layer sha256:eee182b1b1f319aa543a64cf31d2ab0479870a7dc103da35ad4e450513dccdb9 exists, skipping\n",
      "[I 210114 09:29:19 docker_session_:280] Layer sha256:05cc64cc481fe79962b34513eab815d88ebe4ac6ac5014f5a75059120ff54403 exists, skipping\n",
      "[I 210114 09:29:19 docker_session_:284] Layer sha256:09473647d8cd255175d26331e3cdb6d0cfe26d73308abde9769a754d6d2bbb45 pushed.\n",
      "[I 210114 09:29:19 docker_session_:334] Finished upload of: kubeflow-registry.default.svc.cluster.local:30000/my-02-python-file-fairing:7C8C036C\n",
      "[W 210114 09:29:19 append:99] Pushed image kubeflow-registry.default.svc.cluster.local:30000/my-02-python-file-fairing:7C8C036C in 0.13179535400013265s.\n",
      "[W 210114 09:29:19 job:101] The job fairing-job-r7f6x launched.\n",
      "[W 210114 09:29:19 manager:298] Waiting for fairing-job-r7f6x-76j79 to start...\n",
      "[W 210114 09:29:19 manager:298] Waiting for fairing-job-r7f6x-76j79 to start...\n",
      "[W 210114 09:29:19 manager:298] Waiting for fairing-job-r7f6x-76j79 to start...\n",
      "[I 210114 09:29:21 manager:304] Pod started running True\n"
     ]
    },
    {
     "name": "stdout",
     "output_type": "stream",
     "text": [
      "Downloading data from https://storage.googleapis.com/tensorflow/tf-keras-datasets/mnist.npz\n",
      "11493376/11490434 [==============================] - 0s 0us/step\n",
      "2021-01-14 09:29:23.587488: I tensorflow/stream_executor/platform/default/dso_loader.cc:44] Successfully opened dynamic library libcuda.so.1\n",
      "2021-01-14 09:29:23.587548: E tensorflow/stream_executor/cuda/cuda_driver.cc:318] failed call to cuInit: UNKNOWN ERROR (-1)\n",
      "2021-01-14 09:29:23.587583: I tensorflow/stream_executor/cuda/cuda_diagnostics.cc:156] kernel driver does not appear to be running on this host (fairing-job-r7f6x-76j79): /proc/driver/nvidia/version does not exist\n",
      "2021-01-14 09:29:23.587835: I tensorflow/core/platform/cpu_feature_guard.cc:142] Your CPU supports instructions that this TensorFlow binary was not compiled to use: AVX2 FMA\n",
      "2021-01-14 09:29:23.596633: I tensorflow/core/platform/profile_utils/cpu_utils.cc:94] CPU Frequency: 2200000000 Hz\n",
      "2021-01-14 09:29:23.597266: I tensorflow/compiler/xla/service/service.cc:168] XLA service 0x3c25690 executing computations on platform Host. Devices:\n",
      "2021-01-14 09:29:23.597303: I tensorflow/compiler/xla/service/service.cc:175]   StreamExecutor device (0): Host, Default Version\n",
      "2021-01-14 09:29:23.733195: W tensorflow/core/framework/cpu_allocator_impl.cc:81] Allocation of 301056000 exceeds 10% of system memory.\n",
      "Model: \"sequential\"\n",
      "_________________________________________________________________\n",
      "Layer (type)                 Output Shape              Param #\n",
      "=================================================================\n",
      "flatten (Flatten)            (None, 784)               0\n",
      "_________________________________________________________________\n",
      "dense (Dense)                (None, 128)               100480\n",
      "_________________________________________________________________\n",
      "dropout (Dropout)            (None, 128)               0\n",
      "_________________________________________________________________\n",
      "dense_1 (Dense)              (None, 10)                1290\n",
      "=================================================================\n",
      "Total params: 101,770\n",
      "Trainable params: 101,770\n",
      "Non-trainable params: 0\n",
      "_________________________________________________________________\n",
      "Training...\n",
      "Train on 48000 samples, validate on 12000 samples\n",
      "Epoch 1/3\n",
      " 2272/48000 [>.............................] - ETA: 20s - loss: 1.1535 - accuracy: 0.66915\n",
      " 5504/48000 [==>...........................] - ETA: 12s - loss: 0.7812 - accuracy: 0.762\n",
      " 8832/48000 [====>.........................] - ETA: 10s - loss: 0.6601 - accuracy: 0.809\n",
      "11648/48000 [======>.......................] - ETA: 8s - loss: 0.5752 - accuracy: 0.83\n",
      "15040/48000 [========>.....................] - ETA: 7s - loss: 0.5233 - accuracy: 0.84\n",
      "18400/48000 [==========>...................] - ETA: 6s - loss: 0.4795 - accuracy: 0.85\n",
      "21824/48000 [============>.................] - ETA: 5s - loss: 0.4541 - accuracy: 0.86\n",
      "25184/48000 [==============>...............] - ETA: 4s - loss: 0.4288 - accuracy: 0.87\n",
      "27968/48000 [================>.............] - ETA: 4s - loss: 0.4087 - accuracy: 0.881\n",
      "30752/48000 [==================>...........] - ETA: 3s - loss: 0.3935 - accuracy: 0.886\n",
      "34080/48000 [====================>.........] - ETA: 2s - loss: 0.3771 - accuracy: 0.88\n",
      "37408/48000 [======================>.......] - ETA: 2s - loss: 0.3652 - accuracy: 0.89\n",
      "40288/48000 [========================>.....] - ETA: 1s - loss: 0.3528 - accuracy: 0.89\n",
      "43680/48000 [==========================>...] - ETA: 0s - loss: 0.3409 - accuracy: 0.90\n",
      "47168/48000 [============================>.] - ETA: 0s - loss: 0.3302 - accuracy: 0.90\n",
      "48000/48000 [==============================] - 10s 218us/sample - loss: 0.3282 - accuracy: 0.9044 - val_loss: 0.1591 - val_accuracy: 0.9542\n",
      "Epoch 2/3\n",
      " 2368/48000 [>.............................] - ETA: 8s - loss: 0.1838 - accuracy: 0.9439\n",
      " 5760/48000 [==>...........................] - ETA: 7s - loss: 0.1902 - accuracy: 0.941\n",
      " 9216/48000 [====>.........................] - ETA: 6s - loss: 0.1815 - accuracy: 0.94\n",
      "12544/48000 [======>.......................] - ETA: 6s - loss: 0.1814 - accuracy: 0.94\n",
      "15360/48000 [========>.....................] - ETA: 5s - loss: 0.1745 - accuracy: 0.94\n",
      "18848/48000 [==========>...................] - ETA: 5s - loss: 0.1731 - accuracy: 0.94\n",
      "22272/48000 [============>.................] - ETA: 4s - loss: 0.1687 - accuracy: 0.94\n",
      "25824/48000 [===============>..............] - ETA: 4s - loss: 0.1673 - accuracy: 0.94\n",
      "29344/48000 [================>.............] - ETA: 3s - loss: 0.1683 - accuracy: 0.94\n",
      "32288/48000 [===================>..........] - ETA: 2s - loss: 0.1657 - accuracy: 0.948\n",
      "35808/48000 [=====================>........] - ETA: 2s - loss: 0.1638 - accuracy: 0.949\n",
      "38624/48000 [=======================>......] - ETA: 1s - loss: 0.1616 - accuracy: 0.95\n",
      "42016/48000 [========================>.....] - ETA: 1s - loss: 0.1594 - accuracy: 0.95\n",
      "44800/48000 [===========================>..] - ETA: 0s - loss: 0.1588 - accuracy: 0.95\n",
      "48000/48000 [==============================] - 10s 202us/sample - loss: 0.1578 - accuracy: 0.9523 - val_loss: 0.1169 - val_accuracy:\n",
      " 0.9657\n",
      "Epoch 3/3\n",
      " 2528/48000 [>.............................] - ETA: 8s - loss: 0.1178 - accuracy: 0.9665\n",
      " 5888/48000 [==>...........................] - ETA: 7s - loss: 0.1220 - accuracy: 0.962\n",
      " 9280/48000 [====>.........................] - ETA: 7s - loss: 0.1259 - accuracy: 0.96\n",
      "12672/48000 [======>.......................] - ETA: 6s - loss: 0.1256 - accuracy: 0.96\n",
      "15488/48000 [========>.....................] - ETA: 5s - loss: 0.1255 - accuracy: 0.96\n",
      "18912/48000 [==========>...................] - ETA: 5s - loss: 0.1241 - accuracy: 0.96\n",
      "22304/48000 [============>.................] - ETA: 4s - loss: 0.1235 - accuracy: 0.96\n",
      "25632/48000 [===============>..............] - ETA: 4s - loss: 0.1248 - accuracy: 0.96\n",
      "28960/48000 [================>.............] - ETA: 3s - loss: 0.1219 - accuracy: 0.96\n",
      "31744/48000 [==================>...........] - ETA: 2s - loss: 0.1218 - accuracy: 0.963\n",
      "35040/48000 [====================>.........] - ETA: 2s - loss: 0.1209 - accuracy: 0.964\n",
      "38400/48000 [=======================>......] - ETA: 1s - loss: 0.1201 - accuracy: 0.96\n",
      "41696/48000 [========================>.....] - ETA: 1s - loss: 0.1190 - accuracy: 0.96\n",
      "44480/48000 [==========================>...] - ETA: 0s - loss: 0.1180 - accuracy: 0.96\n",
      "47840/48000 [============================>.] - ETA: 0s - loss: 0.1173 - accuracy: 0.96\n",
      "48000/48000 [==============================] - 10s 204us/sample - loss: 0.1173 - accuracy: 0.9647 - val_loss: 0.1031 - val_accuracy: 0.9697\n",
      "Test accuracy:  0.969\n"
     ]
    },
    {
     "name": "stderr",
     "output_type": "stream",
     "text": [
      "[W 210114 09:29:55 job:173] Cleaning up job fairing-job-r7f6x...\n"
     ]
    },
    {
     "data": {
      "text/plain": [
       "(<kubeflow.fairing.preprocessors.base.BasePreProcessor at 0x7feb8be72240>,\n",
       " <kubeflow.fairing.builders.append.append.AppendBuilder at 0x7feb8be72f28>,\n",
       " <kubeflow.fairing.deployers.job.job.Job at 0x7feb8be72400>)"
      ]
     },
     "execution_count": 3,
     "metadata": {},
     "output_type": "execute_result"
    }
   ],
   "source": [
    "from kubeflow import fairing\n",
    "from kubeflow.fairing.kubernetes import utils as k8s_utils\n",
    "\n",
    "PRIVATE_REGISTRY = 'kubeflow-registry.default.svc.cluster.local:30000'\n",
    "\n",
    "fairing.config.set_preprocessor(\n",
    "    'python', \n",
    "     # command = ['python'],  # default: python\n",
    "     input_files = ['00-python-file-to-fairing.py'],     \n",
    ")\n",
    "\n",
    "fairing.config.set_builder(\n",
    "    'append',\n",
    "    # base_image = f'{PRIVATE_REGISTRY}/kf-base:latest', # 사전준비에서 마련한 Base Image\n",
    "    base_image = 'tensorflow/tensorflow:2.0.3-gpu-py3',\n",
    "    registry = PRIVATE_REGISTRY,\n",
    "    image_name='my-02-python-file-fairing', \n",
    "    push=True\n",
    ")\n",
    "\n",
    "fairing.config.set_deployer(\n",
    "    'job',\n",
    "    namespace='myspace',\n",
    "    pod_spec_mutators=[\n",
    "        k8s_utils.get_resource_mutator(cpu=1, memory=5)]\n",
    ")\n",
    "\n",
    "fairing.config.run()"
   ]
  },
  {
   "cell_type": "markdown",
   "metadata": {
    "tags": []
   },
   "source": [
    "# Image 확인\n",
    "- Host에서 실행\n",
    "- fairing에서 난수로 생성한 tag를 변경해서 실행할 것 (예: E2683407)"
   ]
  },
  {
   "cell_type": "markdown",
   "metadata": {
    "tags": []
   },
   "source": [
    "### Image pull\n",
    "```sh\n",
    "docker pull kubeflow-registry.default.svc.cluster.local:30000/my-02-python-file-fairing:E2683407\n",
    "```"
   ]
  },
  {
   "cell_type": "markdown",
   "metadata": {
    "tags": []
   },
   "source": [
    "### Image inspect\n",
    "```sh\n",
    "docker inspect kubeflow-registry.default.svc.cluster.local:30000/my-02-python-file-fairing:E2683407\n",
    "```\n",
    "Cmd 항목을 확인하고 faring 코드대로 image build 되었음을 확인\n",
    "```json\n",
    "...\n",
    "            \"Cmd\": [\n",
    "                \"python\",\n",
    "                \"/app/00-python-file-to-fairing.py\"\n",
    "            ],\n",
    "...\n",
    "```"
   ]
  }
 ],
 "metadata": {
  "kernelspec": {
   "display_name": "Python 3",
   "language": "python",
   "name": "python3"
  },
  "kubeflow_notebook": {
   "autosnapshot": false,
   "docker_image": "reddiana/jupyterlab-kale:0.0.9",
   "experiment": {
    "id": "",
    "name": ""
   },
   "experiment_name": "",
   "katib_metadata": {
    "algorithm": {
     "algorithmName": "grid"
    },
    "maxFailedTrialCount": 3,
    "maxTrialCount": 12,
    "objective": {
     "objectiveMetricName": "",
     "type": "minimize"
    },
    "parallelTrialCount": 3,
    "parameters": []
   },
   "katib_run": false,
   "pipeline_description": "",
   "pipeline_name": "",
   "snapshot_volumes": false,
   "steps_defaults": [],
   "volumes": []
  },
  "language_info": {
   "codemirror_mode": {
    "name": "ipython",
    "version": 3
   },
   "file_extension": ".py",
   "mimetype": "text/x-python",
   "name": "python",
   "nbconvert_exporter": "python",
   "pygments_lexer": "ipython3",
   "version": "3.6.9"
  }
 },
 "nbformat": 4,
 "nbformat_minor": 4
}
