{
 "cells": [
  {
   "cell_type": "code",
   "execution_count": 1,
   "metadata": {
    "tags": []
   },
   "outputs": [
    {
     "name": "stderr",
     "output_type": "stream",
     "text": [
      "[I 210314 19:10:46 config:134] Using preprocessor: <kubeflow.fairing.preprocessors.base.BasePreProcessor object at 0x7f8a74217518>\n",
      "[I 210314 19:10:46 config:136] Using builder: <kubeflow.fairing.builders.append.append.AppendBuilder object at 0x7f89f01bc630>\n",
      "[I 210314 19:10:46 config:138] Using deployer: <kubeflow.fairing.deployers.job.job.Job object at 0x7f89f01bc5f8>\n",
      "[W 210314 19:10:46 append:50] Building image using Append builder...\n",
      "[I 210314 19:10:46 base:107] Creating docker context: /tmp/fairing_context_22_jwtkv\n",
      "[I 210314 19:10:46 docker_creds_:234] Loading Docker credentials for repository 'tensorflow/tensorflow'\n",
      "[W 210314 19:10:47 append:54] Image successfully built in 0.567572227002529s.\n",
      "[W 210314 19:10:47 append:94] Pushing image myhost.local:32000/my-02-python-file-fairing:49DC2D80...\n",
      "[I 210314 19:10:47 docker_creds_:234] Loading Docker credentials for repository 'myhost.local:32000/my-02-python-file-fairing:49DC2D80'\n",
      "[W 210314 19:10:47 append:81] Uploading myhost.local:32000/my-02-python-file-fairing:49DC2D80\n",
      "[I 210314 19:10:47 docker_session_:280] Layer sha256:1f0ffb4d2509e58e040b2d3c146f875dfc5d39ac9e974e6bfb1a5505b98eefae exists, skipping\n",
      "[I 210314 19:10:47 docker_session_:280] Layer sha256:c12ceea561ed13e6b0566ce331de9cfc90b43ab4b14a2e12a5a29d73420f51b3 exists, skipping\n",
      "[I 210314 19:10:47 docker_session_:280] Layer sha256:d519e2592276828ca171d85e0532899cd4f98c70f5c697b45fa2e126e9f9fe49 exists, skipping\n",
      "[I 210314 19:10:47 docker_session_:280] Layer sha256:c29b15b084af0bc2cabab123e72a62f1d9919774f15a91eeeb3b138aaf5f7850 exists, skipping\n",
      "[I 210314 19:10:47 docker_session_:280] Layer sha256:d22d2dfcfa9cd230ed3c47defec2670d45081598c721dd85cafc34ea459f970e exists, skipping\n",
      "[I 210314 19:10:47 docker_session_:280] Layer sha256:50fda3674ff59750d733018b8a5a24ebc8b42fd4b664981be65e57ee9d95c1fe exists, skipping\n",
      "[I 210314 19:10:47 docker_session_:280] Layer sha256:5d43e8c7056a20768e9c36d57ba56227f71df1563d630d424f512efd7b028805 exists, skipping\n",
      "[I 210314 19:10:47 docker_session_:280] Layer sha256:0b2b6f75fc9510d3889bb224823a6d8a720a0cba6d7481874e4612ccbccd3014 exists, skipping\n",
      "[I 210314 19:10:47 docker_session_:280] Layer sha256:961442e8e0e4f9ec91ef34f41523a3dc42e68476b5f8d27e2fe43f179d801263 exists, skipping\n",
      "[I 210314 19:10:47 docker_session_:280] Layer sha256:e266fced02fae9320dafe0ef2adab0fd0bdd5a7d795848c2fa344eafb4f70ab9 exists, skipping\n",
      "[I 210314 19:10:47 docker_session_:280] Layer sha256:b3afe92c540b778c64ca316d1e679d55d2d2e812e450f516a808ee591f0c3f77 exists, skipping\n",
      "[I 210314 19:10:47 docker_session_:284] Layer sha256:a538db86c93ada3b61dc723966da077b092a2c86e42acb209c7319a714dd97a6 pushed.\n",
      "[I 210314 19:10:47 docker_session_:334] Finished upload of: myhost.local:32000/my-02-python-file-fairing:49DC2D80\n",
      "[W 210314 19:10:47 append:99] Pushed image myhost.local:32000/my-02-python-file-fairing:49DC2D80 in 0.12790473999848473s.\n",
      "[W 210314 19:10:47 job:101] The job fairing-job-tf7lv launched.\n",
      "[W 210314 19:10:47 manager:298] Waiting for fairing-job-tf7lv-zqwt2 to start...\n",
      "[W 210314 19:10:47 manager:298] Waiting for fairing-job-tf7lv-zqwt2 to start...\n",
      "[W 210314 19:10:47 manager:298] Waiting for fairing-job-tf7lv-zqwt2 to start...\n",
      "[I 210314 19:10:49 manager:304] Pod started running True\n"
     ]
    },
    {
     "name": "stdout",
     "output_type": "stream",
     "text": [
      "2021-03-14 19:10:49.027066: W tensorflow/stream_executor/platform/default/dso_loader.cc:60] Could not load dynamic library 'libcudart.so.11.0'; dlerror: libcudart.so.11.0: cannot open shared object file: No such file or directory\n",
      "2021-03-14 19:10:49.027126: I tensorflow/stream_executor/cuda/cudart_stub.cc:29] Ignore above cudart dlerror if you do not have a GPU set up on your machine.\n",
      "Downloading data from https://storage.googleapis.com/tensorflow/tf-keras-datasets/mnist.npz\n",
      "11493376/11490434 [==============================] - 0s 0us/step\n",
      "2021-03-14 19:10:52.279574: I tensorflow/compiler/jit/xla_cpu_device.cc:41] Not creating XLA devices, tf_xla_enable_xla_devices not set\n",
      "2021-03-14 19:10:52.279937: W tensorflow/stream_executor/platform/default/dso_loader.cc:60] Could not load dynamic library 'libcuda.so.1'; dlerror: libcuda.so.1: cannot open shared object file: No such file or directory\n",
      "2021-03-14 19:10:52.279966: W tensorflow/stream_executor/cuda/cuda_driver.cc:326] failed call to cuInit: UNKNOWN ERROR (303)\n",
      "2021-03-14 19:10:52.279995: I tensorflow/stream_executor/cuda/cuda_diagnostics.cc:156] kernel driver does not appear to be running on this host (fairing-job-tf7lv-zqwt2): /proc/driver/nvidia/version does not exist\n",
      "2021-03-14 19:10:52.280393: I tensorflow/core/platform/cpu_feature_guard.cc:142] This TensorFlow binary is optimized with oneAPI Deep Neural Network Library (oneDNN) to use the following CPU instructions in performance-critical operations:  AVX2 FMA\n",
      "To enable them in other operations, rebuild TensorFlow with the appropriate compiler flags.\n",
      "2021-03-14 19:10:52.280969: I tensorflow/compiler/jit/xla_gpu_device.cc:99] Not creating XLA devices, tf_xla_enable_xla_devices not set\n",
      "2021-03-14 19:10:52.777523: I tensorflow/compiler/mlir/mlir_graph_optimization_pass.cc:116] None of the MLIR optimization passes are enabled (registered 2)\n",
      "2021-03-14 19:10:52.778157: I tensorflow/core/platform/profile_utils/cpu_utils.cc:112] CPU Frequency: 2299995000 Hz\n",
      "Model: \"sequential\"\n",
      "_________________________________________________________________\n",
      "Layer (type)                 Output Shape              Param #\n",
      "=================================================================\n",
      "flatten (Flatten)            (None, 784)               0\n",
      "_________________________________________________________________\n",
      "dense (Dense)                (None, 128)               100480\n",
      "_________________________________________________________________\n",
      "dropout (Dropout)            (None, 128)               0\n",
      "_________________________________________________________________\n",
      "dense_1 (Dense)              (None, 10)                1290\n",
      "=================================================================\n",
      "Total params: 101,770\n",
      "Trainable params: 101,770\n",
      "Non-trainable params: 0\n",
      "_________________________________________________________________\n",
      "Training...\n",
      "Epoch 1/3\n",
      "  71/1500 [>.............................] - ETA: 9s - loss: 1.5955 - accuracy: 0.50274 \n",
      " 170/1500 [==>...........................] - ETA: 8s - loss: 1.1826 - accuracy: 0.640\n",
      " 273/1500 [====>.........................] - ETA: 7s - loss: 0.9923 - accuracy: 0.700\n",
      " 378/1500 [======>.......................] - ETA: 6s - loss: 0.8780 - accuracy: 0.735\n",
      " 476/1500 [========>.....................] - ETA: 6s - loss: 0.8059 - accuracy: 0.758\n",
      " 574/1500 [==========>...................] - ETA: 5s - loss: 0.7516 - accuracy: 0.77\n",
      " 660/1500 [============>.................] - ETA: 5s - loss: 0.7202 - accuracy: 0.78\n",
      " 761/1500 [==============>...............] - ETA: 4s - loss: 0.6821 - accuracy: 0.79\n",
      " 860/1500 [================>.............] - ETA: 3s - loss: 0.6510 - accuracy: 0.80\n",
      " 960/1500 [=================>............] - ETA: 3s - loss: 0.6240 - accuracy: 0.81\n",
      "1047/1500 [===================>..........] - ETA: 2s - loss: 0.5996 - accuracy: 0.82\n",
      "1147/1500 [=====================>........] - ETA: 2s - loss: 0.5791 - accuracy: 0.82\n",
      "1219/1500 [=======================>......] - ETA: 1s - loss: 0.5658 - accuracy: 0.83\n",
      "1320/1500 [=========================>....] - ETA: 1s - loss: 0.5488 - accuracy: 0.83\n",
      "1418/1500 [===========================>..] - ETA: 0s - loss: 0.5338 - accuracy: 0.84\n",
      "1500/1500 [==============================] - 11s 7ms/step - loss: 0.5222 - accuracy: 0.8450 - val_loss:\n",
      "0.1664 - val_accuracy: 0.9523\n",
      "Epoch 2/3\n",
      "  71/1500 [>.............................] - ETA: 9s - loss: 0.2009 - accuracy: 0.9403\n",
      " 175/1500 [==>...........................] - ETA: 8s - loss: 0.1934 - accuracy: 0.940\n",
      " 251/1500 [====>.........................] - ETA: 7s - loss: 0.1899 - accuracy: 0.941\n",
      " 330/1500 [=====>........................] - ETA: 6s - loss: 0.1868 - accuracy: 0.942\n",
      " 431/1500 [=======>......................] - ETA: 6s - loss: 0.1839 - accuracy: 0.943\n",
      " 517/1500 [=========>....................] - ETA: 5s - loss: 0.1817 - accuracy: 0.94\n",
      " 604/1500 [===========>..................] - ETA: 5s - loss: 0.1797 - accuracy: 0.94\n",
      " 705/1500 [=============>................] - ETA: 4s - loss: 0.1782 - accuracy: 0.94\n",
      " 806/1500 [===============>..............] - ETA: 4s - loss: 0.1766 - accuracy: 0.94\n",
      " 910/1500 [================>.............] - ETA: 3s - loss: 0.1750 - accuracy: 0.94\n",
      "1011/1500 [==================>...........] - ETA: 2s - loss: 0.1738 - accuracy: 0.94\n",
      "1096/1500 [====================>.........] - ETA: 2s - loss: 0.1727 - accuracy: 0.94\n",
      "1196/1500 [======================>.......] - ETA: 1s - loss: 0.1716 - accuracy: 0.94\n",
      "1297/1500 [========================>.....] - ETA: 1s - loss: 0.1706 - accuracy: 0.94\n",
      "1400/1500 [===========================>..] - ETA: 0s - loss: 0.1696 - accuracy: 0.94\n",
      "1500/1500 [==============================] - 10s 7ms/step - loss: 0.1687 - accuracy: 0.9498 - val_loss: 0.1154 - v\n",
      "al_accuracy: 0.9653\n",
      "Epoch 3/3\n",
      "  75/1500 [>.............................] - ETA: 9s - loss: 0.1115 - accuracy: 0.9691\n",
      " 172/1500 [==>...........................] - ETA: 8s - loss: 0.1181 - accuracy: 0.964\n",
      " 262/1500 [====>.........................] - ETA: 7s - loss: 0.1199 - accuracy: 0.963\n",
      " 364/1500 [======>.......................] - ETA: 6s - loss: 0.1207 - accuracy: 0.963\n",
      " 463/1500 [========>.....................] - ETA: 6s - loss: 0.1211 - accuracy: 0.962\n",
      " 570/1500 [==========>...................] - ETA: 5s - loss: 0.1208 - accuracy: 0.963\n",
      " 670/1500 [============>.................] - ETA: 4s - loss: 0.1205 - accuracy: 0.96\n",
      " 775/1500 [==============>...............] - ETA: 4s - loss: 0.1204 - accuracy: 0.96\n",
      " 875/1500 [================>.............] - ETA: 3s - loss: 0.1204 - accuracy: 0.96\n",
      " 976/1500 [==================>...........] - ETA: 3s - loss: 0.1203 - accuracy: 0.96\n",
      "1081/1500 [====================>.........] - ETA: 2s - loss: 0.1201 - accuracy: 0.96\n",
      "1165/1500 [======================>.......] - ETA: 1s - loss: 0.1200 - accuracy: 0.96\n",
      "1265/1500 [========================>.....] - ETA: 1s - loss: 0.1199 - accuracy: 0.96\n",
      "1367/1500 [==========================>...] - ETA: 0s - loss: 0.1198 - accuracy: 0.96\n",
      "1472/1500 [============================>.] - ETA: 0s - loss: 0.1196 - accuracy: 0.96\n",
      "1500/1500 [==============================] - 10s 7ms/step - loss: 0.1195 - accuracy: 0.9635 - val_loss: 0.1055 - val_accuracy: 0.9683\n",
      "Test accuracy:  0.9690999984741211\n"
     ]
    },
    {
     "name": "stderr",
     "output_type": "stream",
     "text": [
      "[W 210314 19:11:25 job:173] Cleaning up job fairing-job-tf7lv...\n"
     ]
    },
    {
     "data": {
      "text/plain": [
       "(<kubeflow.fairing.preprocessors.base.BasePreProcessor at 0x7f8a74217518>,\n",
       " <kubeflow.fairing.builders.append.append.AppendBuilder at 0x7f89f01bc630>,\n",
       " <kubeflow.fairing.deployers.job.job.Job at 0x7f89f01bc5f8>)"
      ]
     },
     "execution_count": 1,
     "metadata": {},
     "output_type": "execute_result"
    }
   ],
   "source": [
    "from kubeflow import fairing\n",
    "from kubeflow.fairing.kubernetes import utils as k8s_utils\n",
    "\n",
    "PRIVATE_REGISTRY = 'myhost.local:32000'\n",
    "\n",
    "fairing.config.set_preprocessor(\n",
    "    'python', \n",
    "     # command = ['python'],  # default: python\n",
    "     input_files = ['00-python-file-to-fairing.py'], # 생성되는 image의 /app/ 디렉토리로 복사됨\n",
    ")\n",
    "\n",
    "fairing.config.set_builder(\n",
    "    'append',\n",
    "    base_image = 'tensorflow/tensorflow',\n",
    "    registry = PRIVATE_REGISTRY,\n",
    "    image_name='my-02-python-file-fairing', \n",
    "    push=True\n",
    ")\n",
    "\n",
    "fairing.config.set_deployer(\n",
    "    'job',\n",
    "    # job_name='my-python-file-fairing',\n",
    "    # namespace='myspace', # default: 현재 네임스페이스\n",
    "    pod_spec_mutators=[\n",
    "        k8s_utils.get_resource_mutator(cpu=1, memory=5)]\n",
    ")\n",
    "\n",
    "fairing.config.run()"
   ]
  },
  {
   "cell_type": "markdown",
   "metadata": {
    "tags": []
   },
   "source": [
    "# curl로 프라이빗 레지스트리 확인"
   ]
  },
  {
   "cell_type": "code",
   "execution_count": 2,
   "metadata": {
    "tags": []
   },
   "outputs": [
    {
     "name": "stdout",
     "output_type": "stream",
     "text": [
      "{\"repositories\":[\"my-02-python-file-fairing\",\"my-03-function-fairing-job\",\"mybase\",\"mymnistbase\",\"mytfjob\",\"tfjob-fairing-mnist\"]}\n"
     ]
    }
   ],
   "source": [
    "! curl http://myhost.local:32000/v2/_catalog"
   ]
  },
  {
   "cell_type": "code",
   "execution_count": 3,
   "metadata": {
    "tags": []
   },
   "outputs": [
    {
     "name": "stdout",
     "output_type": "stream",
     "text": [
      "{\"name\":\"my-02-python-file-fairing\",\"tags\":[\"729DED65\",\"20F8BE01\",\"49DC2D80\",\"2EEA161F\",\"388750DC\",\"63233498\",\"16CF3292\"]}\n"
     ]
    }
   ],
   "source": [
    "! curl http://myhost.local:32000/v2/my-02-python-file-fairing/tags/list"
   ]
  },
  {
   "cell_type": "markdown",
   "metadata": {
    "tags": []
   },
   "source": [
    "# Image 확인\n",
    "- Host에서 실행\n",
    "- fairing에서 난수로 생성한 tag를 변경해서 실행할 것 (예: E2683407)"
   ]
  },
  {
   "cell_type": "markdown",
   "metadata": {
    "tags": []
   },
   "source": [
    "### Image pull\n",
    "```sh\n",
    "docker pull myhost.local:32000/my-02-python-file-fairing:E2683407\n",
    "```"
   ]
  },
  {
   "cell_type": "markdown",
   "metadata": {
    "tags": []
   },
   "source": [
    "### Image inspect\n",
    "```sh\n",
    "docker inspect myhost.local:32000/my-02-python-file-fairing:E2683407\n",
    "```\n",
    "Cmd 항목을 확인하고 faring 코드대로 image build 되었음을 확인\n",
    "```json\n",
    "...\n",
    "            \"Cmd\": [\n",
    "                \"python\",\n",
    "                \"/app/00-python-file-to-fairing.py\"\n",
    "            ],\n",
    "...\n",
    "```"
   ]
  }
 ],
 "metadata": {
  "kernelspec": {
   "display_name": "Python 3",
   "language": "python",
   "name": "python3"
  },
  "kubeflow_notebook": {
   "autosnapshot": false,
   "docker_image": "reddiana/jupyterlab-kale:0.0.9",
   "experiment": {
    "id": "",
    "name": ""
   },
   "experiment_name": "",
   "katib_metadata": {
    "algorithm": {
     "algorithmName": "grid"
    },
    "maxFailedTrialCount": 3,
    "maxTrialCount": 12,
    "objective": {
     "objectiveMetricName": "",
     "type": "minimize"
    },
    "parallelTrialCount": 3,
    "parameters": []
   },
   "katib_run": false,
   "pipeline_description": "",
   "pipeline_name": "",
   "snapshot_volumes": false,
   "steps_defaults": [],
   "volumes": []
  },
  "language_info": {
   "codemirror_mode": {
    "name": "ipython",
    "version": 3
   },
   "file_extension": ".py",
   "mimetype": "text/x-python",
   "name": "python",
   "nbconvert_exporter": "python",
   "pygments_lexer": "ipython3",
   "version": "3.6.9"
  }
 },
 "nbformat": 4,
 "nbformat_minor": 4
}
