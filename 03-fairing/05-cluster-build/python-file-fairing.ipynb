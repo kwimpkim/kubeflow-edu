{
 "cells": [
  {
   "cell_type": "code",
   "execution_count": 1,
   "metadata": {},
   "outputs": [
    {
     "name": "stdout",
     "output_type": "stream",
     "text": [
      "configmap \"docker-config\" deleted\n",
      "configmap/docker-config created\n"
     ]
    }
   ],
   "source": [
    "! kubectl delete configmap docker-config \n",
    "! kubectl create configmap docker-config \\\n",
    "   --from-file=config.json"
   ]
  },
  {
   "cell_type": "code",
   "execution_count": 2,
   "metadata": {
    "tags": []
   },
   "outputs": [],
   "source": [
    "from kubeflow import fairing\n",
    "from kubeflow.fairing.kubernetes import utils as k8s_utils\n",
    "from kubeflow.fairing.builders.cluster.minio_context import MinioContextSource\n",
    "import glob"
   ]
  },
  {
   "cell_type": "code",
   "execution_count": 3,
   "metadata": {
    "tags": []
   },
   "outputs": [
    {
     "name": "stderr",
     "output_type": "stream",
     "text": [
      "[I 210720 18:01:47 config:134] Using preprocessor: <kubeflow.fairing.preprocessors.base.BasePreProcessor object at 0x7f771940aa20>\n",
      "[I 210720 18:01:47 config:136] Using builder: <kubeflow.fairing.builders.cluster.cluster.ClusterBuilder object at 0x7f775a80d978>\n",
      "[I 210720 18:01:47 config:138] Using deployer: <kubeflow.fairing.deployers.job.job.Job object at 0x7f771d99cd30>\n",
      "[I 210720 18:01:47 cluster:46] Building image using cluster builder.\n",
      "[I 210720 18:01:47 base:107] Creating docker context: /tmp/fairing_context_5s90b75n\n",
      "[W 210720 18:01:47 manager:298] Waiting for fairing-builder-ww7zf-m26bp to start...\n",
      "[W 210720 18:01:47 manager:298] Waiting for fairing-builder-ww7zf-m26bp to start...\n",
      "[W 210720 18:01:47 manager:298] Waiting for fairing-builder-ww7zf-m26bp to start...\n",
      "[I 210720 18:01:50 manager:304] Pod started running True\n"
     ]
    },
    {
     "name": "stdout",
     "output_type": "stream",
     "text": [
      "\u001b[36mINFO\u001b[0m[0000] GET KEYCHAIN\n",
      "\u001b[36mINFO\u001b[0m[0000] running on kubernetes ....\n",
      "E0720 18:01:49.581295       1 metadata.go:166] while reading 'google-dockercfg-url' metadata: http status code: 404 while fetching url http://metadata.google.internal./computeMetadata/v1/instance/attributes/google-dockercfg-url\n",
      "\u001b[36mINFO\u001b[0m[0000] Retrieving image manifest tensorflow/tensorflow\n",
      "\u001b[36mINFO\u001b[0m[0000] Retrieving image tensorflow/tensorflow from registry index.docker.io\n",
      "\u001b[36mINFO\u001b[0m[0000] GET KEYCHAIN\n",
      "\u001b[36mINFO\u001b[0m[0002] Built cross stage deps: map[]\n",
      "\u001b[36mINFO\u001b[0m[0002] Retrieving image manifest tensorflow/tensorflow\n",
      "\u001b[36mINFO\u001b[0m[0002] Returning cached image manifest\n",
      "\u001b[36mINFO\u001b[0m[0002] Executing 0 build triggers\n",
      "\u001b[36mINFO\u001b[0m[0002] Unpacking rootfs as cmd COPY /mnist/python-file-to-fairing.py      /train/mnist.py requires it.\n",
      "\u001b[36mINFO\u001b[0m[0032] Taking snapshot of full filesystem...\n",
      "\u001b[36mINFO\u001b[0m[0047] COPY /mnist/python-file-to-fairing.py      /train/mnist.py\n",
      "\u001b[36mINFO\u001b[0m[0047] RUN  pip install -U pip\n",
      "\u001b[36mINFO\u001b[0m[0047] cmd: /bin/sh\n",
      "\u001b[36mINFO\u001b[0m[0047] args: [-c pip install -U pip]\n",
      "\u001b[36mINFO\u001b[0m[0047] Running: [/bin/sh -c pip install -U pip]\n",
      "Collecting pip\n",
      "  Downloading pip-21.1.3-py3-none-any.whl (1.5 MB)\n",
      "Installing collected packages: pip\n",
      "  Attempting uninstall: pip\n",
      "    Found existing installation: pip 20.2.4\n",
      "    Uninstalling pip-20.2.4:\n",
      "      Successfully uninstalled pip-20.2.4\n",
      "Successfully installed pip-21.1.3\n",
      "\u001b[36mINFO\u001b[0m[0050] RUN  pip install minio pipdeptree\n",
      "\u001b[36mINFO\u001b[0m[0050] cmd: /bin/sh\n",
      "\u001b[36mINFO\u001b[0m[0050] args: [-c pip install minio pipdeptree]\n",
      "\u001b[36mINFO\u001b[0m[0050] Running: [/bin/sh -c pip install minio pipdeptree]\n",
      "Collecting minio\n",
      "  Downloading minio-7.1.0-py3-none-any.whl (75 kB)\n",
      "Collecting pipdeptree\n",
      "  Downloading pipdeptree-2.0.0-py3-none-any.whl (21 kB)\n",
      "Requirement already satisfied: certifi in /usr/local/lib/python3.6/dist-packages (from minio) (2020.12.5)\n",
      "Requirement already satisfied: urllib3 in /usr/local/lib/python3.6/dist-packages (from minio) (1.26.4)\n",
      "Requirement already satisfied: pip>=6.0.0 in /usr/local/lib/python3.6/dist-packages (from pipdeptree) (21.1.3)\n",
      "Installing collected packages: pipdeptree, minio\n",
      "Successfully installed minio-7.1.0 pipdeptree-2.0.0\n",
      "WARNING: Running pip as the 'root' user can result in broken permissions and conflicting behaviour with the system package manager. It is recommended to use a virtual environment instead: https://pip.pypa.io/warnings/venv\n",
      "\u001b[36mINFO\u001b[0m[0052] CMD  [\"python\", \"/train/mnist.py\"]\n",
      "\u001b[36mINFO\u001b[0m[0052] Taking snapshot of full filesystem...\n",
      "\u001b[36mINFO\u001b[0m[0054] GET KEYCHAIN\n",
      "\u001b[36mINFO\u001b[0m[0054] Pushing image to registry.kube-system.svc.cluster.local:30000/my-first-cluster-build:F96A6D7A\n",
      "\u001b[36mINFO\u001b[0m[0054] Pushed image to 1 destinations\n"
     ]
    },
    {
     "name": "stderr",
     "output_type": "stream",
     "text": [
      "[W 210720 18:02:44 job:101] The job fairing-job-b9d75 launched.\n",
      "[W 210720 18:02:44 manager:298] Waiting for fairing-job-b9d75-ncjxj to start...\n",
      "[W 210720 18:02:44 manager:298] Waiting for fairing-job-b9d75-ncjxj to start...\n",
      "[W 210720 18:02:44 manager:298] Waiting for fairing-job-b9d75-ncjxj to start...\n",
      "[I 210720 18:02:47 manager:304] Pod started running True\n"
     ]
    },
    {
     "name": "stdout",
     "output_type": "stream",
     "text": [
      "Downloading data from https://storage.googleapis.com/tensorflow/tf-keras-datasets/mnist.npz\n",
      "11493376/11490434 [==============================] - 0s 0us/step\n",
      "2021-07-20 18:02:56.754385: I tensorflow/core/platform/cpu_feature_guard.cc:142] This TensorFlow binary is optimized with oneAPI Deep Neural Network Library (oneDNN) to use the following CPU instructions in performance-critical operations:  AVX2 FMA\n",
      "To enable them in other operations, rebuild TensorFlow with the appropriate compiler flags.\n",
      "2021-07-20 18:02:57.990873: I tensorflow/compiler/mlir/mlir_graph_optimization_pass.cc:176] None of the MLIR Optimization Passes are enabled (registered 2)\n",
      "2021-07-20 18:02:57.997589: I tensorflow/core/platform/profile_utils/cpu_utils.cc:114] CPU Frequency: 2200155000 Hz\n",
      "Model: \"sequential\"\n",
      "_________________________________________________________________\n",
      "Layer (type)                 Output Shape              Param #\n",
      "=================================================================\n",
      "flatten (Flatten)            (None, 784)               0\n",
      "_________________________________________________________________\n",
      "dense (Dense)                (None, 128)               100480\n",
      "_________________________________________________________________\n",
      "dropout (Dropout)            (None, 128)               0\n",
      "_________________________________________________________________\n",
      "dense_1 (Dense)              (None, 10)                1290\n",
      "=================================================================\n",
      "Total params: 101,770\n",
      "Trainable params: 101,770\n",
      "Non-trainable params: 0\n",
      "_________________________________________________________________\n",
      "Training...\n",
      "Epoch 1/3\n",
      "  77/1500 [>.............................] - ETA: 4s - loss: 1.1017 - accuracy: 0.6928 2\n",
      " 150/1500 [==>...........................] - ETA: 5s - loss: 0.8194 - accuracy: 0.769\n",
      " 195/1500 [==>...........................] - ETA: 6s - loss: 0.7344 - accuracy: 0.793\n",
      " 224/1500 [===>..........................] - ETA: 7s - loss: 0.6977 - accuracy: 0.803\n",
      " 257/1500 [====>.........................] - ETA: 7s - loss: 0.6592 - accuracy: 0.812\n",
      " 294/1500 [====>.........................] - ETA: 7s - loss: 0.6243 - accuracy: 0.82\n",
      " 383/1500 [======>.......................] - ETA: 6s - loss: 0.5589 - accuracy: 0.83\n",
      " 448/1500 [=======>......................] - ETA: 5s - loss: 0.5284 - accuracy: 0.85\n",
      " 509/1500 [=========>....................] - ETA: 5s - loss: 0.5030 - accuracy: 0.85\n",
      " 557/1500 [==========>...................] - ETA: 5s - loss: 0.4850 - accuracy: 0.86\n",
      " 595/1500 [==========>...................] - ETA: 5s - loss: 0.4761 - accuracy: 0.86\n",
      " 670/1500 [============>.................] - ETA: 4s - loss: 0.4489 - accuracy: 0.87\n",
      " 775/1500 [==============>...............] - ETA: 3s - loss: 0.4226 - accuracy: 0.87\n",
      " 869/1500 [================>.............] - ETA: 3s - loss: 0.4044 - accuracy: 0.88\n",
      " 968/1500 [==================>...........] - ETA: 2s - loss: 0.3890 - accuracy: 0.88\n",
      "1075/1500 [====================>.........] - ETA: 1s - loss: 0.3740 - accuracy: 0.89\n",
      "1179/1500 [======================>.......] - ETA: 1s - loss: 0.3601 - accuracy: 0.89\n",
      "1285/1500 [========================>.....] - ETA: 0s - loss: 0.3474 - accuracy: 0.90\n",
      "1392/1500 [==========================>...] - ETA: 0s - loss: 0.3353 - accuracy: 0.90\n",
      "1486/1500 [============================>.] - ETA: 0s - loss: 0.3290 - accuracy: 0.90\n",
      "1500/1500 [==============================] - 12s 7ms/step - loss: 0.3269 - accuracy: 0.9055 - val_loss: 0.1634 - val_accuracy: 0.9529\n",
      "Epoch 2/3\n",
      "  73/1500 [>.............................] - ETA: 5s - loss: 0.1789 - accuracy: 0.94\n",
      " 173/1500 [==>...........................] - ETA: 4s - loss: 0.1760 - accuracy: 0.94\n",
      " 273/1500 [====>.........................] - ETA: 4s - loss: 0.1695 - accuracy: 0.94\n",
      " 364/1500 [======>.......................] - ETA: 3s - loss: 0.1733 - accuracy: 0.94\n",
      " 458/1500 [========>.....................] - ETA: 3s - loss: 0.1695 - accuracy: 0.94\n",
      " 564/1500 [==========>...................] - ETA: 3s - loss: 0.1675 - accuracy: 0.95\n",
      " 668/1500 [============>.................] - ETA: 2s - loss: 0.1666 - accuracy: 0.95\n",
      " 735/1500 [=============>................] - ETA: 2s - loss: 0.1667 - accuracy: 0.95\n",
      " 827/1500 [===============>..............] - ETA: 2s - loss: 0.1648 - accuracy: 0.95\n",
      " 904/1500 [=================>............] - ETA: 2s - loss: 0.1651 - accuracy: 0.95\n",
      " 999/1500 [==================>...........] - ETA: 1s - loss: 0.1623 - accuracy: 0.95\n",
      "1106/1500 [====================>.........] - ETA: 1s - loss: 0.1619 - accuracy: 0.95\n",
      "1179/1500 [======================>.......] - ETA: 1s - loss: 0.1610 - accuracy: 0.951\n",
      "1260/1500 [========================>.....] - ETA: 0s - loss: 0.1597 - accuracy: 0.952\n",
      "1356/1500 [==========================>...] - ETA: 0s - loss: 0.1583 - accuracy: 0.952\n",
      "1434/1500 [===========================>..] - ETA: 0s - loss: 0.1567 - accuracy: 0.953\n",
      "1500/1500 [==============================] - 6s 4ms/step - loss: 0.1560 - accuracy: 0.9534 - val_loss: 0.12\n",
      "00 - val_accuracy: 0.9643\n",
      "Epoch 3/3\n",
      "  80/1500 [>.............................] - ETA: 4s - loss: 0.1265 - accuracy: 0.95\n",
      " 170/1500 [==>...........................] - ETA: 4s - loss: 0.1190 - accuracy: 0.96\n",
      " 301/1500 [=====>........................] - ETA: 3s - loss: 0.1188 - accuracy: 0.96\n",
      " 420/1500 [=======>......................] - ETA: 3s - loss: 0.1214 - accuracy: 0.96\n",
      " 528/1500 [=========>....................] - ETA: 2s - loss: 0.1235 - accuracy: 0.96\n",
      " 646/1500 [===========>..................] - ETA: 2s - loss: 0.1229 - accuracy: 0.96\n",
      " 753/1500 [==============>...............] - ETA: 2s - loss: 0.1201 - accuracy: 0.96\n",
      " 870/1500 [================>.............] - ETA: 1s - loss: 0.1199 - accuracy: 0.96\n",
      " 986/1500 [==================>...........] - ETA: 1s - loss: 0.1171 - accuracy: 0.96\n",
      "1105/1500 [=====================.........] - ETA: 1s - loss: 0.1169 - accuracy: 0.96\n",
      "1215/1500 [======================>.......] - ETA: 0s - loss: 0.1174 - accuracy: 0.96\n",
      "1325/1500 [=========================>....] - ETA: 0s - loss: 0.1181 - accuracy: 0.96\n",
      "1416/1500 [===========================>..] - ETA: 0s - loss: 0.1184 - accuracy: 0.964\n",
      "1500/1500 [==============================] - 5s 3ms/step - loss: 0.1179 - accuracy: 0.9644 - val_loss: 0.0995 - val_accuracy: 0.9713\n",
      "Test accuracy:  0.9688000082969666\n"
     ]
    },
    {
     "data": {
      "text/plain": [
       "(<kubeflow.fairing.preprocessors.base.BasePreProcessor at 0x7f771940aa20>,\n",
       " <kubeflow.fairing.builders.cluster.cluster.ClusterBuilder at 0x7f775a80d978>,\n",
       " <kubeflow.fairing.deployers.job.job.Job at 0x7f771d99cd30>)"
      ]
     },
     "execution_count": 3,
     "metadata": {},
     "output_type": "execute_result"
    }
   ],
   "source": [
    "fairing.config.set_preprocessor(\n",
    "    'python', \n",
    "    path_prefix=\"/\", # 이 디렉토리로 복사해서 압축한다\n",
    "    command=[\"python\", \"/train/mnist.py\"],  # 생략하면 Job Pod 실행 안함 뭥미 Dockerfile의 CMD는 그냥 무시하남\n",
    "    input_files = glob.glob(\"mnist/**\", recursive=True),\n",
    "    output_map = {\n",
    "        \"mnist\": \"\"   # from: to\n",
    "    }\n",
    ")\n",
    "\n",
    "context_source = MinioContextSource(\n",
    "    endpoint_url='http://minio-service.kubeflow:9000',\n",
    "    minio_secret='minio',\n",
    "    minio_secret_key='minio123',\n",
    "    region_name='fairing' # f\"/kubeflow-{region_name}\"으로 버킷 생성\n",
    ")\n",
    "\n",
    "fairing.config.set_builder(\n",
    "    'cluster',\n",
    "    registry = 'registry.kube-system.svc.cluster.local:30000',\n",
    "    image_name = \"my-first-cluster-build\", \n",
    "    context_source = context_source,\n",
    "    dockerfile_path=\"mnist/Dockerfile\",\n",
    "    push=True,\n",
    "    cleanup=False, # default: False\n",
    ")\n",
    "\n",
    "fairing.constants.constants.KANIKO_IMAGE = \\\n",
    "    'gcr.io/kaniko-project/executor:latest' #\n",
    "    #'gcr.io/kaniko-project/executor:v0.22.0' # 원래 값\n",
    "\n",
    "fairing.config.set_deployer(\n",
    "    'job',\n",
    "    # job_name='my-python-file-fairing',\n",
    "    # namespace='myspace', # default: 현재 네임스페이스\n",
    "    # pod_spec_mutators=[\n",
    "    #     k8s_utils.get_resource_mutator(cpu=1, memory=5)\n",
    "    # ]\n",
    "    cleanup=False, # default: True\n",
    ")\n",
    "\n",
    "fairing.config.run()"
   ]
  },
  {
   "cell_type": "markdown",
   "metadata": {
    "tags": []
   },
   "source": [
    "# curl로 프라이빗 레지스트리 확인"
   ]
  },
  {
   "cell_type": "code",
   "execution_count": 4,
   "metadata": {
    "tags": []
   },
   "outputs": [
    {
     "name": "stdout",
     "output_type": "stream",
     "text": [
      "{\"repositories\":[\"my-first-cluster-build\"]}\n"
     ]
    }
   ],
   "source": [
    "! curl http://registry.kube-system.svc.cluster.local:30000/v2/_catalog"
   ]
  },
  {
   "cell_type": "code",
   "execution_count": 5,
   "metadata": {
    "tags": []
   },
   "outputs": [
    {
     "name": "stdout",
     "output_type": "stream",
     "text": [
      "{\"name\":\"my-first-cluster-build\",\"tags\":[\"7ACF7483\",\"1E1105C7\",\"7B983025\",\"F96A6D7A\",\"8989BCB4\",\"8E32619B\",\"F2D98686\",\"65B5E3B8\",\"A4F51210\",\"D5D54D3A\",\"A8F8E4B1\",\"31BD1854\",\"F8872967\",\"54A9E817\",\"A7FF4276\"]}\n"
     ]
    }
   ],
   "source": [
    "! curl http://registry.kube-system.svc.cluster.local:30000/v2/my-first-cluster-build/tags/list"
   ]
  },
  {
   "cell_type": "markdown",
   "metadata": {
    "tags": []
   },
   "source": [
    "# Image 확인\n",
    "- Host에서 실행\n",
    "- fairing에서 난수로 생성한 tag를 변경해서 실행할 것 (예: E2683407)"
   ]
  },
  {
   "cell_type": "markdown",
   "metadata": {
    "tags": []
   },
   "source": [
    "### Image pull\n",
    "```sh\n",
    "docker pull registry.kube-system.svc.cluster.local:30000/my-02-python-file-fairing:E2683407\n",
    "```"
   ]
  },
  {
   "cell_type": "markdown",
   "metadata": {
    "tags": []
   },
   "source": [
    "### Image inspect\n",
    "```sh\n",
    "docker inspect registry.kube-system.svc.cluster.local:30000/my-02-python-file-fairing:E2683407\n",
    "```\n",
    "Cmd 항목을 확인하고 faring 코드대로 image build 되었음을 확인\n",
    "```json\n",
    "...\n",
    "            \"Cmd\": [\n",
    "                \"python\",\n",
    "                \"/train/mnist.py\"\n",
    "            ],\n",
    "...\n",
    "```"
   ]
  }
 ],
 "metadata": {
  "kernelspec": {
   "display_name": "Python 3",
   "language": "python",
   "name": "python3"
  },
  "kubeflow_notebook": {
   "autosnapshot": false,
   "docker_image": "reddiana/jupyterlab-kale:0.0.9",
   "experiment": {
    "id": "",
    "name": ""
   },
   "experiment_name": "",
   "katib_metadata": {
    "algorithm": {
     "algorithmName": "grid"
    },
    "maxFailedTrialCount": 3,
    "maxTrialCount": 12,
    "objective": {
     "objectiveMetricName": "",
     "type": "minimize"
    },
    "parallelTrialCount": 3,
    "parameters": []
   },
   "katib_run": false,
   "pipeline_description": "",
   "pipeline_name": "",
   "snapshot_volumes": false,
   "steps_defaults": [],
   "volumes": []
  },
  "language_info": {
   "codemirror_mode": {
    "name": "ipython",
    "version": 3
   },
   "file_extension": ".py",
   "mimetype": "text/x-python",
   "name": "python",
   "nbconvert_exporter": "python",
   "pygments_lexer": "ipython3",
   "version": "3.6.9"
  }
 },
 "nbformat": 4,
 "nbformat_minor": 4
}
