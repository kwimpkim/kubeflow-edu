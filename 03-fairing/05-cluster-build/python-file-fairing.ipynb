{
 "cells": [
  {
   "cell_type": "markdown",
   "metadata": {},
   "source": [
    "Kaniko pod에서 docker-config라는 이름의 configmap을 사용하므로 미리 생성해야한다"
   ]
  },
  {
   "cell_type": "code",
   "execution_count": 1,
   "metadata": {},
   "outputs": [
    {
     "name": "stdout",
     "output_type": "stream",
     "text": [
      "configmap \"docker-config\" deleted\n",
      "configmap/docker-config created\n"
     ]
    }
   ],
   "source": [
    "! kubectl delete configmap docker-config \n",
    "! kubectl create configmap docker-config \\\n",
    "   --from-file=config.json"
   ]
  },
  {
   "cell_type": "code",
   "execution_count": 2,
   "metadata": {
    "tags": []
   },
   "outputs": [],
   "source": [
    "from kubeflow import fairing\n",
    "from kubeflow.fairing.kubernetes import utils as k8s_utils\n",
    "from kubeflow.fairing.builders.cluster.minio_context import MinioContextSource\n",
    "import glob"
   ]
  },
  {
   "cell_type": "code",
   "execution_count": 3,
   "metadata": {
    "tags": []
   },
   "outputs": [
    {
     "name": "stderr",
     "output_type": "stream",
     "text": [
      "[I 210720 06:41:51 config:134] Using preprocessor: <kubeflow.fairing.preprocessors.base.BasePreProcessor object at 0x7f9192e4d860>\n",
      "[I 210720 06:41:51 config:136] Using builder: <kubeflow.fairing.builders.cluster.cluster.ClusterBuilder object at 0x7f91d424f978>\n",
      "[I 210720 06:41:51 config:138] Using deployer: <kubeflow.fairing.deployers.job.job.Job object at 0x7f9197416d30>\n",
      "[I 210720 06:41:51 cluster:46] Building image using cluster builder.\n",
      "[I 210720 06:41:51 base:107] Creating docker context: /tmp/fairing_context_0bez3ug8\n",
      "[W 210720 06:41:51 manager:298] Waiting for fairing-builder-r9qqb-5c9fz to start...\n",
      "[W 210720 06:41:51 manager:298] Waiting for fairing-builder-r9qqb-5c9fz to start...\n",
      "[W 210720 06:41:51 manager:298] Waiting for fairing-builder-r9qqb-5c9fz to start...\n",
      "[I 210720 06:41:53 manager:304] Pod started running True\n"
     ]
    },
    {
     "name": "stdout",
     "output_type": "stream",
     "text": [
      "\u001b[36mINFO\u001b[0m[0000] GET KEYCHAIN\n",
      "\u001b[36mINFO\u001b[0m[0000] running on kubernetes ....\n",
      "E0720 06:41:53.575020       1 metadata.go:166] while reading 'google-dockercfg-url' metadata: http status code: 404 while fetching url http://metadata.google.internal./computeMetadata/v1/instance/attributes/google-dockercfg-url\n",
      "\u001b[36mINFO\u001b[0m[0000] Retrieving image manifest tensorflow/tensorflow\n",
      "\u001b[36mINFO\u001b[0m[0000] Retrieving image tensorflow/tensorflow from registry index.docker.io\n",
      "\u001b[36mINFO\u001b[0m[0000] GET KEYCHAIN\n",
      "\u001b[36mINFO\u001b[0m[0002] Built cross stage deps: map[]\n",
      "\u001b[36mINFO\u001b[0m[0002] Retrieving image manifest tensorflow/tensorflow\n",
      "\u001b[36mINFO\u001b[0m[0002] Returning cached image manifest\n",
      "\u001b[36mINFO\u001b[0m[0002] Executing 0 build triggers\n",
      "\u001b[36mINFO\u001b[0m[0002] Unpacking rootfs as cmd COPY /mnist/python-file-to-fairing.py      /train/mnist.py requires it.\n",
      "\u001b[36mINFO\u001b[0m[0034] Taking snapshot of full filesystem...\n",
      "\u001b[36mINFO\u001b[0m[0049] COPY /mnist/python-file-to-fairing.py      /train/mnist.py\n",
      "\u001b[36mINFO\u001b[0m[0049] RUN  pip install -U pip\n",
      "\u001b[36mINFO\u001b[0m[0049] cmd: /bin/sh\n",
      "\u001b[36mINFO\u001b[0m[0049] args: [-c pip install -U pip]\n",
      "\u001b[36mINFO\u001b[0m[0049] Running: [/bin/sh -c pip install -U pip]\n",
      "Collecting pip\n",
      "  Downloading pip-21.1.3-py3-none-any.whl (1.5 MB)\n",
      "Installing collected packages: pip\n",
      "  Attempting uninstall: pip\n",
      "    Found existing installation: pip 20.2.4\n",
      "    Uninstalling pip-20.2.4:\n",
      "      Successfully uninstalled pip-20.2.4\n",
      "Successfully installed pip-21.1.3\n",
      "\u001b[36mINFO\u001b[0m[0052] RUN  pip install minio pipdeptree\n",
      "\u001b[36mINFO\u001b[0m[0052] cmd: /bin/sh\n",
      "\u001b[36mINFO\u001b[0m[0052] args: [-c pip install minio pipdeptree]\n",
      "\u001b[36mINFO\u001b[0m[0052] Running: [/bin/sh -c pip install minio pipdeptree]\n",
      "Collecting minio\n",
      "  Downloading minio-7.1.0-py3-none-any.whl (75 kB)\n",
      "Collecting pipdeptree\n",
      "  Downloading pipdeptree-2.0.0-py3-none-any.whl (21 kB)\n",
      "Requirement already satisfied: urllib3 in /usr/local/lib/python3.6/dist-packages (from minio) (1.26.4)\n",
      "Requirement already satisfied: certifi in /usr/local/lib/python3.6/dist-packages (from minio) (2020.12.5)\n",
      "Requirement already satisfied: pip>=6.0.0 in /usr/local/lib/python3.6/dist-packages (from pipdeptree) (21.1.3)\n",
      "Installing collected packages: pipdeptree, minio\n",
      "Successfully installed minio-7.1.0 pipdeptree-2.0.0\n",
      "WARNING: Running pip as the 'root' user can result in broken permissions and conflicting behaviour with the system package manager. It is recommended to use a virtual environment instead: https://pip.pypa.io/warnings/venv\n",
      "\u001b[36mINFO\u001b[0m[0054] CMD  [\"python\", \"/train/mnist.py\"]\n",
      "\u001b[36mINFO\u001b[0m[0054] Taking snapshot of full filesystem...\n",
      "\u001b[36mINFO\u001b[0m[0056] GET KEYCHAIN\n",
      "\u001b[36mINFO\u001b[0m[0056] Pushing image to registry.kube-system.svc.cluster.local:30000/my-first-cluster-build:1E1105C7\n",
      "\u001b[36mINFO\u001b[0m[0056] Pushed image to 1 destinations\n"
     ]
    },
    {
     "name": "stderr",
     "output_type": "stream",
     "text": [
      "[W 210720 06:42:51 job:101] The job fairing-job-4scfp launched.\n",
      "[W 210720 06:42:51 manager:298] Waiting for fairing-job-4scfp-rb44w to start...\n",
      "[W 210720 06:42:51 manager:298] Waiting for fairing-job-4scfp-rb44w to start...\n",
      "[W 210720 06:42:51 manager:298] Waiting for fairing-job-4scfp-rb44w to start...\n",
      "[I 210720 06:42:53 manager:304] Pod started running True\n"
     ]
    },
    {
     "name": "stdout",
     "output_type": "stream",
     "text": [
      "Downloading data from https://storage.googleapis.com/tensorflow/tf-keras-datasets/mnist.npz\n",
      "11493376/11490434 [==============================] - 0s 0us/step\n",
      "2021-07-20 06:43:00.092998: I tensorflow/core/platform/cpu_feature_guard.cc:142] This TensorFlow binary is optimized with oneAPI Deep Neural Network Library (oneDNN) to use the following CPU instructions in performance-critical operations:  AVX2 FMA\n",
      "To enable them in other operations, rebuild TensorFlow with the appropriate compiler flags.\n",
      "2021-07-20 06:43:00.766540: I tensorflow/compiler/mlir/mlir_graph_optimization_pass.cc:176] None of the MLIR Optimization Passes are enabled (registered 2)\n",
      "2021-07-20 06:43:00.768733: I tensorflow/core/platform/profile_utils/cpu_utils.cc:114] CPU Frequency: 2200155000 Hz\n",
      "Model: \"sequential\"\n",
      "_________________________________________________________________\n",
      "Layer (type)                 Output Shape              Param #\n",
      "=================================================================\n",
      "flatten (Flatten)            (None, 784)               0\n",
      "_________________________________________________________________\n",
      "dense (Dense)                (None, 128)               100480\n",
      "_________________________________________________________________\n",
      "dropout (Dropout)            (None, 128)               0\n",
      "_________________________________________________________________\n",
      "dense_1 (Dense)              (None, 10)                1290\n",
      "=================================================================\n",
      "Total params: 101,770\n",
      "Trainable params: 101,770\n",
      "Non-trainable params: 0\n",
      "_________________________________________________________________\n",
      "Training...\n",
      "Epoch 1/3\n",
      "  80/1500 [>.............................] - ETA: 4s - loss: 1.1165 - accuracy: 0.6680 1\n",
      " 175/1500 [==>...........................] - ETA: 4s - loss: 0.8022 - accuracy: 0.762\n",
      " 260/1500 [====>.........................] - ETA: 4s - loss: 0.6792 - accuracy: 0.799\n",
      " 353/1500 [======>.......................] - ETA: 3s - loss: 0.5954 - accuracy: 0.825\n",
      " 455/1500 [========>.....................] - ETA: 3s - loss: 0.5331 - accuracy: 0.843\n",
      " 551/1500 [==========>...................] - ETA: 3s - loss: 0.4938 - accuracy: 0.85\n",
      " 640/1500 [===========>..................] - ETA: 2s - loss: 0.4614 - accuracy: 0.86\n",
      " 732/1500 [=============>................] - ETA: 2s - loss: 0.4475 - accuracy: 0.86\n",
      " 828/1500 [===============>..............] - ETA: 2s - loss: 0.4233 - accuracy: 0.87\n",
      " 915/1500 [=================>............] - ETA: 2s - loss: 0.4074 - accuracy: 0.88\n",
      "1010/1500 [==================>...........] - ETA: 1s - loss: 0.3921 - accuracy: 0.88\n",
      "1080/1500 [====================>.........] - ETA: 1s - loss: 0.3809 - accuracy: 0.88\n",
      "1169/1500 [======================>.......] - ETA: 1s - loss: 0.3676 - accuracy: 0.89\n",
      "1265/1500 [========================>.....] - ETA: 0s - loss: 0.3552 - accuracy: 0.89\n",
      "1359/1500 [==========================>...] - ETA: 0s - loss: 0.3448 - accuracy: 0.89\n",
      "1439/1500 [===========================>..] - ETA: 0s - loss: 0.3365 - accuracy: 0.90\n",
      "1500/1500 [==============================] - 7s 4ms/step - loss: 0.3309 - accuracy: 0.9037 - val_loss: 0.1615 - val_accuracy: 0.9532\n",
      "Epoch 2/3\n",
      "  77/1500 [>.............................] - ETA: 4s - loss: 0.1864 - accuracy: 0.94\n",
      " 172/1500 [==>...........................] - ETA: 4s - loss: 0.1660 - accuracy: 0.95\n",
      " 260/1500 [====>.........................] - ETA: 4s - loss: 0.1590 - accuracy: 0.95\n",
      " 353/1500 [======>.......................] - ETA: 3s - loss: 0.1632 - accuracy: 0.95\n",
      " 453/1500 [========>.....................] - ETA: 3s - loss: 0.1666 - accuracy: 0.95\n",
      " 545/1500 [=========>....................] - ETA: 3s - loss: 0.1657 - accuracy: 0.95\n",
      " 641/1500 [===========>..................] - ETA: 2s - loss: 0.1645 - accuracy: 0.95\n",
      " 729/1500 [=============>................] - ETA: 2s - loss: 0.1621 - accuracy: 0.95\n",
      " 817/1500 [===============>..............] - ETA: 2s - loss: 0.1606 - accuracy: 0.95\n",
      " 910/1500 [=================>............] - ETA: 2s - loss: 0.1598 - accuracy: 0.95\n",
      " 994/1500 [==================>...........] - ETA: 1s - loss: 0.1598 - accuracy: 0.95\n",
      "1081/1500 [====================>.........] - ETA: 1s - loss: 0.1576 - accuracy: 0.95\n",
      "1147/1500 [=====================>........] - ETA: 1s - loss: 0.1578 - accuracy: 0.953\n",
      "1229/1500 [=======================>......] - ETA: 0s - loss: 0.1580 - accuracy: 0.953\n",
      "1307/1500 [=========================>....] - ETA: 0s - loss: 0.1573 - accuracy: 0.953\n",
      "1381/1500 [==========================>...] - ETA: 0s - loss: 0.1564 - accuracy: 0.953\n",
      "1467/1500 [============================>.] - ETA: 0s - loss: 0.1556 - accuracy: 0.954\n",
      "1500/1500 [==============================] - 7s 4ms/step - loss: 0.1545 - accuracy: 0.9543 - val_loss: 0.1181 - val_accuracy: 0.9647\n",
      "Epoch 3/3\n",
      "  83/1500 [>.............................] - ETA: 4s - loss: 0.1268 - accuracy: 0.95\n",
      " 167/1500 [==>...........................] - ETA: 4s - loss: 0.1171 - accuracy: 0.96\n",
      " 239/1500 [===>..........................] - ETA: 4s - loss: 0.1128 - accuracy: 0.96\n",
      " 325/1500 [=====>........................] - ETA: 4s - loss: 0.1136 - accuracy: 0.96\n",
      " 419/1500 [=======>......................] - ETA: 3s - loss: 0.1129 - accuracy: 0.96\n",
      " 519/1500 [=========>....................] - ETA: 3s - loss: 0.1148 - accuracy: 0.96\n",
      " 612/1500 [===========>..................] - ETA: 3s - loss: 0.1175 - accuracy: 0.96\n",
      " 707/1500 [=============>................] - ETA: 2s - loss: 0.1150 - accuracy: 0.96\n",
      " 811/1500 [===============>..............] - ETA: 2s - loss: 0.1158 - accuracy: 0.96\n",
      " 901/1500 [=================>............] - ETA: 2s - loss: 0.1159 - accuracy: 0.96\n",
      " 989/1500 [==================>...........] - ETA: 1s - loss: 0.1157 - accuracy: 0.96\n",
      "1073/1500 [====================>.........] - ETA: 1s - loss: 0.1170 - accuracy: 0.96\n",
      "1153/1500 [======================>.......] - ETA: 1s - loss: 0.1171 - accuracy: 0.964\n",
      "1242/1500 [=======================>......] - ETA: 0s - loss: 0.1182 - accuracy: 0.964\n",
      "1327/1500 [=========================>....] - ETA: 0s - loss: 0.1173 - accuracy: 0.964\n",
      "1415/1500 [===========================>..] - ETA: 0s - loss: 0.1173 - accuracy: 0.964\n",
      "1500/1500 [==============================] - 6s 4ms/step - loss: 0.1167 - accuracy: 0.9649 - val_loss: 0.09\n",
      "98 - val_accuracy: 0.9710\n",
      "Test accuracy:  0.9708999991416931\n"
     ]
    },
    {
     "name": "stderr",
     "output_type": "stream",
     "text": [
      "[W 210720 06:43:22 job:173] Cleaning up job fairing-job-4scfp...\n"
     ]
    },
    {
     "data": {
      "text/plain": [
       "(<kubeflow.fairing.preprocessors.base.BasePreProcessor at 0x7f9192e4d860>,\n",
       " <kubeflow.fairing.builders.cluster.cluster.ClusterBuilder at 0x7f91d424f978>,\n",
       " <kubeflow.fairing.deployers.job.job.Job at 0x7f9197416d30>)"
      ]
     },
     "execution_count": 3,
     "metadata": {},
     "output_type": "execute_result"
    }
   ],
   "source": [
    "fairing.config.set_preprocessor(\n",
    "    'python', \n",
    "    path_prefix=\"/\", # 이 디렉토리로 복사해서 압축한다\n",
    "    command=[\"python\", \"/train/mnist.py\"],  # 생략하면 Job Pod 실행 안함 뭥미 Dockerfile의 CMD는 그냥 무시하남\n",
    "    input_files = glob.glob(\"mnist/**\", recursive=True),\n",
    ")\n",
    "\n",
    "context_source = MinioContextSource(\n",
    "    endpoint_url='http://minio-service.kubeflow:9000',\n",
    "    minio_secret='minio',\n",
    "    minio_secret_key='minio123',\n",
    "    region_name='fairing' # f\"/kubeflow-{region_name}\"으로 버킷 생성\n",
    ")\n",
    "\n",
    "fairing.config.set_builder(\n",
    "    'cluster',\n",
    "    registry = 'registry.kube-system.svc.cluster.local:30000',\n",
    "    image_name = \"my-first-cluster-build\", \n",
    "    context_source = context_source,\n",
    "    dockerfile_path=\"mnist/Dockerfile\",\n",
    "    push=True,\n",
    "    # cleanup=True\n",
    ")\n",
    "\n",
    "fairing.constants.constants.KANIKO_IMAGE = \\\n",
    "    'gcr.io/kaniko-project/executor:latest' #\n",
    "    #'gcr.io/kaniko-project/executor:v0.22.0' # 원래 값\n",
    "\n",
    "fairing.config.set_deployer(\n",
    "    'job',\n",
    "    # job_name='my-python-file-fairing',\n",
    "    # namespace='myspace', # default: 현재 네임스페이스\n",
    "    # pod_spec_mutators=[\n",
    "    #     k8s_utils.get_resource_mutator(cpu=1, memory=5)\n",
    "    # ]\n",
    ")\n",
    "\n",
    "fairing.config.run()"
   ]
  },
  {
   "cell_type": "markdown",
   "metadata": {
    "tags": []
   },
   "source": [
    "# curl로 프라이빗 레지스트리 확인"
   ]
  },
  {
   "cell_type": "code",
   "execution_count": 4,
   "metadata": {
    "tags": []
   },
   "outputs": [
    {
     "name": "stdout",
     "output_type": "stream",
     "text": [
      "{\"repositories\":[\"my-first-cluster-build\"]}\n"
     ]
    }
   ],
   "source": [
    "! curl http://registry.kube-system.svc.cluster.local:30000/v2/_catalog"
   ]
  },
  {
   "cell_type": "code",
   "execution_count": 5,
   "metadata": {
    "tags": []
   },
   "outputs": [
    {
     "name": "stdout",
     "output_type": "stream",
     "text": [
      "{\"name\":\"my-first-cluster-build\",\"tags\":[\"1E1105C7\",\"8989BCB4\",\"65B5E3B8\",\"D5D54D3A\",\"54A9E817\"]}\n"
     ]
    }
   ],
   "source": [
    "! curl http://registry.kube-system.svc.cluster.local:30000/v2/my-first-cluster-build/tags/list"
   ]
  },
  {
   "cell_type": "markdown",
   "metadata": {
    "tags": []
   },
   "source": [
    "# Image 확인\n",
    "- Host에서 실행\n",
    "- fairing에서 난수로 생성한 tag를 변경해서 실행할 것 (예: E2683407)"
   ]
  },
  {
   "cell_type": "markdown",
   "metadata": {
    "tags": []
   },
   "source": [
    "### Image pull\n",
    "```sh\n",
    "docker pull registry.kube-system.svc.cluster.local:30000/my-02-python-file-fairing:E2683407\n",
    "```"
   ]
  },
  {
   "cell_type": "markdown",
   "metadata": {
    "tags": []
   },
   "source": [
    "### Image inspect\n",
    "```sh\n",
    "docker inspect registry.kube-system.svc.cluster.local:30000/my-02-python-file-fairing:E2683407\n",
    "```\n",
    "Cmd 항목을 확인하고 faring 코드대로 image build 되었음을 확인\n",
    "```json\n",
    "...\n",
    "            \"Cmd\": [\n",
    "                \"python\",\n",
    "                \"/app/-python-file-to-fairing.py\"\n",
    "            ],\n",
    "...\n",
    "```"
   ]
  }
 ],
 "metadata": {
  "kernelspec": {
   "display_name": "Python 3",
   "language": "python",
   "name": "python3"
  },
  "kubeflow_notebook": {
   "autosnapshot": false,
   "docker_image": "reddiana/jupyterlab-kale:0.0.9",
   "experiment": {
    "id": "",
    "name": ""
   },
   "experiment_name": "",
   "katib_metadata": {
    "algorithm": {
     "algorithmName": "grid"
    },
    "maxFailedTrialCount": 3,
    "maxTrialCount": 12,
    "objective": {
     "objectiveMetricName": "",
     "type": "minimize"
    },
    "parallelTrialCount": 3,
    "parameters": []
   },
   "katib_run": false,
   "pipeline_description": "",
   "pipeline_name": "",
   "snapshot_volumes": false,
   "steps_defaults": [],
   "volumes": []
  },
  "language_info": {
   "codemirror_mode": {
    "name": "ipython",
    "version": 3
   },
   "file_extension": ".py",
   "mimetype": "text/x-python",
   "name": "python",
   "nbconvert_exporter": "python",
   "pygments_lexer": "ipython3",
   "version": "3.6.9"
  }
 },
 "nbformat": 4,
 "nbformat_minor": 4
}
