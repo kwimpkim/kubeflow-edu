{
 "cells": [
  {
   "cell_type": "code",
   "execution_count": 1,
   "metadata": {},
   "outputs": [
    {
     "name": "stdout",
     "output_type": "stream",
     "text": [
      "\u001b[33mWARNING: You are using pip version 20.3.3; however, version 21.0.1 is available.\n",
      "You should consider upgrading via the '/usr/bin/python3 -m pip install --upgrade pip' command.\u001b[0m\n"
     ]
    }
   ],
   "source": [
    "!pip install -q tensorflow_datasets"
   ]
  },
  {
   "cell_type": "code",
   "execution_count": 2,
   "metadata": {},
   "outputs": [],
   "source": [
    "import os\n",
    "import json\n",
    "import tensorflow as tf\n",
    "import tensorflow_datasets as tfds\n",
    "# import warnings\n",
    "# warnings.simplefilter(\"ignore\")\n",
    "# os.environ[\"PYTHONWARNINGS\"] = \"ignore\""
   ]
  },
  {
   "cell_type": "code",
   "execution_count": 3,
   "metadata": {},
   "outputs": [],
   "source": [
    "def build_and_compile_model():\n",
    "    model = tf.keras.models.Sequential([\n",
    "        tf.keras.layers.Flatten(input_shape=(28, 28, 1)),\n",
    "        tf.keras.layers.Dense(128, activation='relu'),\n",
    "        tf.keras.layers.Dropout(0.2),\n",
    "        tf.keras.layers.Dense(10)\n",
    "    ])\n",
    "    model.compile(loss=tf.keras.losses.SparseCategoricalCrossentropy(from_logits=True),\n",
    "                  optimizer=tf.keras.optimizers.Adam(),\n",
    "                  metrics=['accuracy'])\n",
    "    return model\n",
    "\n",
    "@tfds.decode.make_decoder(output_dtype=tf.float32)\n",
    "def decode_image(example, feature):\n",
    "    return tf.cast(feature.decode_example(example), dtype=tf.float32) / 255"
   ]
  },
  {
   "cell_type": "code",
   "execution_count": 4,
   "metadata": {},
   "outputs": [
    {
     "name": "stdout",
     "output_type": "stream",
     "text": [
      "TensorFlow version:  2.1.0\n",
      "TF_CONFIG [{}]\n",
      "cluster=[None] job_name=[None] task_index=[None]\n"
     ]
    }
   ],
   "source": [
    "print(\"TensorFlow version: \", tf.__version__)\n",
    "\n",
    "tf_config = os.environ.get('TF_CONFIG', '{}')\n",
    "print(f\"TF_CONFIG [{tf_config}]\")\n",
    "tf_config_json = json.loads(tf_config)\n",
    "cluster = tf_config_json.get('cluster')\n",
    "job_name = tf_config_json.get('task', {}).get('type')\n",
    "task_index = tf_config_json.get('task', {}).get('index')\n",
    "print(f\"cluster=[{cluster}] job_name=[{job_name}] task_index=[{task_index}]\")"
   ]
  },
  {
   "cell_type": "code",
   "execution_count": 5,
   "metadata": {},
   "outputs": [],
   "source": [
    "BATCH_SIZE = 64\n",
    "\n",
    "tb_dir = '/data/logs'\n",
    "# model_dir = '/app/data/export'\n",
    "# version = 1\n",
    "# export_dir = os.path.join(model_dir, str(version))"
   ]
  },
  {
   "cell_type": "code",
   "execution_count": 6,
   "metadata": {},
   "outputs": [],
   "source": [
    "mnist = tfds.builder('mnist', data_dir='/data/dataset')\n",
    "mnist.download_and_prepare()"
   ]
  },
  {
   "cell_type": "code",
   "execution_count": 7,
   "metadata": {
    "tags": []
   },
   "outputs": [
    {
     "name": "stdout",
     "output_type": "stream",
     "text": [
      "INFO:tensorflow:Using MirroredStrategy with devices ('/device:CPU:0',)\n"
     ]
    },
    {
     "name": "stderr",
     "output_type": "stream",
     "text": [
      "INFO:tensorflow:Using MirroredStrategy with devices ('/device:CPU:0',)\n"
     ]
    },
    {
     "name": "stdout",
     "output_type": "stream",
     "text": [
      "INFO:tensorflow:Single-worker MultiWorkerMirroredStrategy with local_devices = ('/device:CPU:0',), communication = CollectiveCommunication.AUTO\n"
     ]
    },
    {
     "name": "stderr",
     "output_type": "stream",
     "text": [
      "INFO:tensorflow:Single-worker MultiWorkerMirroredStrategy with local_devices = ('/device:CPU:0',), communication = CollectiveCommunication.AUTO\n"
     ]
    }
   ],
   "source": [
    "strategy = tf.distribute.experimental.MultiWorkerMirroredStrategy()\n",
    "options = tf.data.Options()\n",
    "options.experimental_distribute.auto_shard_policy = tf.data.experimental.AutoShardPolicy.OFF"
   ]
  },
  {
   "cell_type": "code",
   "execution_count": 8,
   "metadata": {
    "tags": []
   },
   "outputs": [],
   "source": [
    "mnist_train, mnist_test = mnist.as_dataset(\n",
    "    split=['train', 'test'],\n",
    "    decoders={'image': decode_image()},\n",
    "    as_supervised=True\n",
    ")\n",
    "train_input_dataset = mnist_train.cache().repeat().shuffle(buffer_size=50000).batch(BATCH_SIZE)\n",
    "# eval_input_dataset = mnist_test.cache().repeat().batch(BATCH_SIZE)\n",
    "\n",
    "train_input_dataset = train_input_dataset.with_options(options)"
   ]
  },
  {
   "cell_type": "code",
   "execution_count": 9,
   "metadata": {},
   "outputs": [],
   "source": [
    "# https://www.tensorflow.org/guide/keras/custom_callback\n",
    "class MyCallback(tf.keras.callbacks.Callback):\n",
    "    def on_epoch_end(self, epoch, logs=None):\n",
    "        keys = list(logs.keys())\n",
    "        print(\"End epoch {} of training; got log keys: {}\".format(epoch, keys))\n",
    "        \n",
    "callbacks = [\n",
    "    tf.keras.callbacks.TensorBoard(log_dir=tb_dir),\n",
    "    # MyCallback()\n",
    "]"
   ]
  },
  {
   "cell_type": "code",
   "execution_count": 10,
   "metadata": {},
   "outputs": [
    {
     "name": "stdout",
     "output_type": "stream",
     "text": [
      "Training...\n",
      "Train for 937 steps\n",
      "Epoch 1/3\n",
      "  1/937 [..............................] - ETA: 5:35:17 - loss: 2.3250 - accuracy: 0.1250WARNING:tensorflow:Method (on_train_batch_end) is slow compared to the batch update (0.115758). Check your callbacks.\n"
     ]
    },
    {
     "name": "stderr",
     "output_type": "stream",
     "text": [
      "WARNING:tensorflow:Method (on_train_batch_end) is slow compared to the batch update (0.115758). Check your callbacks.\n"
     ]
    },
    {
     "name": "stdout",
     "output_type": "stream",
     "text": [
      "  2/937 [..............................] - ETA: 2:49:09 - loss: 2.2915 - accuracy: 0.1328WARNING:tensorflow:Method (on_train_batch_end) is slow compared to the batch update (0.105637). Check your callbacks.\n"
     ]
    },
    {
     "name": "stderr",
     "output_type": "stream",
     "text": [
      "WARNING:tensorflow:Method (on_train_batch_end) is slow compared to the batch update (0.105637). Check your callbacks.\n"
     ]
    },
    {
     "name": "stdout",
     "output_type": "stream",
     "text": [
      "937/937 [==============================] - 36s 39ms/step - loss: 0.3356 - accuracy: 0.9031\n",
      "Epoch 2/3\n",
      "937/937 [==============================] - 11s 12ms/step - loss: 0.1643 - accuracy: 0.9525\n",
      "Epoch 3/3\n",
      "937/937 [==============================] - 10s 11ms/step - loss: 0.1240 - accuracy: 0.9639\n",
      "\\ntraining_history: {'loss': [0.3356270534935603, 0.16428699276013461, 0.12403139374203973], 'accuracy': [0.90306497, 0.95254135, 0.9638807]}\n"
     ]
    }
   ],
   "source": [
    "print(\"Training...\")\n",
    "\n",
    "with strategy.scope():\n",
    "    multi_worker_model = build_and_compile_model()\n",
    "\n",
    "num_train_examples = mnist.info.splits['train'].num_examples\n",
    "train_steps = num_train_examples // BATCH_SIZE\n",
    "train_epochs = 3\n",
    "\n",
    "history = multi_worker_model.fit(\n",
    "    train_input_dataset, \n",
    "    epochs = train_epochs, \n",
    "    steps_per_epoch = train_steps, \n",
    "    callbacks = callbacks\n",
    ")\n",
    "\n",
    "print(\"\\\\ntraining_history:\", history.history)"
   ]
  },
  {
   "cell_type": "code",
   "execution_count": 11,
   "metadata": {},
   "outputs": [
    {
     "name": "stdout",
     "output_type": "stream",
     "text": [
      "WARNING:tensorflow:From /usr/local/lib/python3.6/dist-packages/tensorflow_core/python/ops/resource_variable_ops.py:1786: calling BaseResourceVariable.__init__ (from tensorflow.python.ops.resource_variable_ops) with constraint is deprecated and will be removed in a future version.\n",
      "Instructions for updating:\n",
      "If using Keras pass *_constraint arguments to layers.\n"
     ]
    },
    {
     "name": "stderr",
     "output_type": "stream",
     "text": [
      "WARNING:tensorflow:From /usr/local/lib/python3.6/dist-packages/tensorflow_core/python/ops/resource_variable_ops.py:1786: calling BaseResourceVariable.__init__ (from tensorflow.python.ops.resource_variable_ops) with constraint is deprecated and will be removed in a future version.\n",
      "Instructions for updating:\n",
      "If using Keras pass *_constraint arguments to layers.\n"
     ]
    },
    {
     "name": "stdout",
     "output_type": "stream",
     "text": [
      "INFO:tensorflow:Assets written to: s3://saved-model/mnist/1/assets\n"
     ]
    },
    {
     "name": "stderr",
     "output_type": "stream",
     "text": [
      "INFO:tensorflow:Assets written to: s3://saved-model/mnist/1/assets\n"
     ]
    }
   ],
   "source": [
    "os.environ.update({\n",
    "    'S3_ENDPOINT'          : 'minio-service.kubeflow:9000',\n",
    "    'AWS_ACCESS_KEY_ID'    : 'minio',\n",
    "    'AWS_SECRET_ACCESS_KEY': 'minio123',\n",
    "    'S3_USE_HTTPS'         : '0',                     \n",
    "    'S3_VERIFY_SSL'        : '0'\n",
    "})  \n",
    "\n",
    "MODEL_URI=\"s3://saved-model/mnist/1\"\n",
    "multi_worker_model.save(MODEL_URI)"
   ]
  }
 ],
 "metadata": {
  "kernelspec": {
   "display_name": "Python 3",
   "language": "python",
   "name": "python3"
  },
  "kubeflow_notebook": {
   "autosnapshot": false,
   "docker_image": "sds.redii.net/mlopsdev/jupyterlab:0.1.5-kale.0.5.0",
   "experiment": {
    "id": "",
    "name": ""
   },
   "experiment_name": "",
   "katib_metadata": {
    "algorithm": {
     "algorithmName": "grid"
    },
    "maxFailedTrialCount": 3,
    "maxTrialCount": 12,
    "objective": {
     "objectiveMetricName": "",
     "type": "minimize"
    },
    "parallelTrialCount": 3,
    "parameters": []
   },
   "katib_run": false,
   "pipeline_description": "",
   "pipeline_name": "",
   "snapshot_volumes": false,
   "steps_defaults": [],
   "volume_access_mode": "rwm",
   "volumes": []
  },
  "language_info": {
   "codemirror_mode": {
    "name": "ipython",
    "version": 3
   },
   "file_extension": ".py",
   "mimetype": "text/x-python",
   "name": "python",
   "nbconvert_exporter": "python",
   "pygments_lexer": "ipython3",
   "version": "3.6.9"
  }
 },
 "nbformat": 4,
 "nbformat_minor": 5
}
