{
 "cells": [
  {
   "cell_type": "code",
   "execution_count": 1,
   "id": "informal-board",
   "metadata": {},
   "outputs": [],
   "source": [
    "!pip install -q tensorflow_datasets"
   ]
  },
  {
   "cell_type": "code",
   "execution_count": 2,
   "id": "exclusive-interpretation",
   "metadata": {},
   "outputs": [],
   "source": [
    "import os\n",
    "import json\n",
    "import tensorflow as tf\n",
    "import tensorflow_datasets as tfds\n",
    "# import warnings\n",
    "# warnings.simplefilter(\"ignore\")\n",
    "# os.environ[\"PYTHONWARNINGS\"] = \"ignore\""
   ]
  },
  {
   "cell_type": "code",
   "execution_count": 3,
   "id": "tight-chemical",
   "metadata": {},
   "outputs": [],
   "source": [
    "def build_and_compile_model():\n",
    "    model = tf.keras.models.Sequential([\n",
    "        tf.keras.layers.Flatten(input_shape=(28, 28, 1)),\n",
    "        tf.keras.layers.Dense(128, activation='relu'),\n",
    "        tf.keras.layers.Dropout(0.2),\n",
    "        tf.keras.layers.Dense(10)\n",
    "    ])\n",
    "    model.compile(loss=tf.keras.losses.SparseCategoricalCrossentropy(from_logits=True),\n",
    "                  optimizer=tf.keras.optimizers.Adam(),\n",
    "                  metrics=['accuracy'])\n",
    "    return model\n",
    "\n",
    "@tfds.decode.make_decoder(output_dtype=tf.float32)\n",
    "def decode_image(example, feature):\n",
    "    return tf.cast(feature.decode_example(example), dtype=tf.float32) / 255"
   ]
  },
  {
   "cell_type": "code",
   "execution_count": 4,
   "id": "tough-sodium",
   "metadata": {},
   "outputs": [
    {
     "name": "stdout",
     "output_type": "stream",
     "text": [
      "TensorFlow version:  2.4.1\n",
      "TF_CONFIG [{}]\n",
      "cluster=[None] job_name=[None] task_index=[None]\n"
     ]
    }
   ],
   "source": [
    "print(\"TensorFlow version: \", tf.__version__)\n",
    "\n",
    "tf_config = os.environ.get('TF_CONFIG', '{}')\n",
    "print(f\"TF_CONFIG [{tf_config}]\")\n",
    "tf_config_json = json.loads(tf_config)\n",
    "cluster = tf_config_json.get('cluster')\n",
    "job_name = tf_config_json.get('task', {}).get('type')\n",
    "task_index = tf_config_json.get('task', {}).get('index')\n",
    "print(f\"cluster=[{cluster}] job_name=[{job_name}] task_index=[{task_index}]\")"
   ]
  },
  {
   "cell_type": "code",
   "execution_count": 5,
   "id": "overhead-withdrawal",
   "metadata": {},
   "outputs": [],
   "source": [
    "BATCH_SIZE = 64\n",
    "\n",
    "tb_dir = '/data/logs'\n",
    "# model_dir = '/app/data/export'\n",
    "# version = 1\n",
    "# export_dir = os.path.join(model_dir, str(version))"
   ]
  },
  {
   "cell_type": "code",
   "execution_count": 6,
   "id": "sharing-marks",
   "metadata": {},
   "outputs": [],
   "source": [
    "mnist = tfds.builder('mnist', data_dir='/data/dataset')\n",
    "mnist.download_and_prepare()"
   ]
  },
  {
   "cell_type": "code",
   "execution_count": 7,
   "id": "exempt-moral",
   "metadata": {
    "tags": []
   },
   "outputs": [
    {
     "name": "stdout",
     "output_type": "stream",
     "text": [
      "WARNING:tensorflow:From <ipython-input-7-dca19b8d9aa6>:1: _CollectiveAllReduceStrategyExperimental.__init__ (from tensorflow.python.distribute.collective_all_reduce_strategy) is deprecated and will be removed in a future version.\n",
      "Instructions for updating:\n",
      "use distribute.MultiWorkerMirroredStrategy instead\n"
     ]
    },
    {
     "name": "stderr",
     "output_type": "stream",
     "text": [
      "WARNING:tensorflow:From <ipython-input-7-dca19b8d9aa6>:1: _CollectiveAllReduceStrategyExperimental.__init__ (from tensorflow.python.distribute.collective_all_reduce_strategy) is deprecated and will be removed in a future version.\n",
      "Instructions for updating:\n",
      "use distribute.MultiWorkerMirroredStrategy instead\n"
     ]
    },
    {
     "name": "stdout",
     "output_type": "stream",
     "text": [
      "INFO:tensorflow:Using MirroredStrategy with devices ('/device:CPU:0',)\n"
     ]
    },
    {
     "name": "stderr",
     "output_type": "stream",
     "text": [
      "INFO:tensorflow:Using MirroredStrategy with devices ('/device:CPU:0',)\n"
     ]
    },
    {
     "name": "stdout",
     "output_type": "stream",
     "text": [
      "INFO:tensorflow:Single-worker MultiWorkerMirroredStrategy with local_devices = ('/device:CPU:0',), communication = CommunicationImplementation.AUTO\n"
     ]
    },
    {
     "name": "stderr",
     "output_type": "stream",
     "text": [
      "INFO:tensorflow:Single-worker MultiWorkerMirroredStrategy with local_devices = ('/device:CPU:0',), communication = CommunicationImplementation.AUTO\n"
     ]
    }
   ],
   "source": [
    "strategy = tf.distribute.experimental.MultiWorkerMirroredStrategy()\n",
    "options = tf.data.Options()\n",
    "options.experimental_distribute.auto_shard_policy = tf.data.experimental.AutoShardPolicy.OFF"
   ]
  },
  {
   "cell_type": "code",
   "execution_count": 8,
   "id": "loaded-buffalo",
   "metadata": {
    "tags": []
   },
   "outputs": [],
   "source": [
    "mnist_train, mnist_test = mnist.as_dataset(\n",
    "    split=['train', 'test'],\n",
    "    decoders={'image': decode_image()},\n",
    "    as_supervised=True\n",
    ")\n",
    "train_input_dataset = mnist_train.cache().repeat().shuffle(buffer_size=50000).batch(BATCH_SIZE)\n",
    "# eval_input_dataset = mnist_test.cache().repeat().batch(BATCH_SIZE)\n",
    "\n",
    "train_input_dataset = train_input_dataset.with_options(options)"
   ]
  },
  {
   "cell_type": "code",
   "execution_count": 9,
   "id": "alive-defeat",
   "metadata": {},
   "outputs": [],
   "source": [
    "# https://www.tensorflow.org/guide/keras/custom_callback\n",
    "class MyCallback(tf.keras.callbacks.Callback):\n",
    "    def on_epoch_end(self, epoch, logs=None):\n",
    "        keys = list(logs.keys())\n",
    "        print(\"End epoch {} of training; got log keys: {}\".format(epoch, keys))\n",
    "        \n",
    "callbacks = [\n",
    "    tf.keras.callbacks.TensorBoard(log_dir=tb_dir),\n",
    "    # MyCallback()\n",
    "]"
   ]
  },
  {
   "cell_type": "code",
   "execution_count": 10,
   "id": "outer-elements",
   "metadata": {},
   "outputs": [
    {
     "name": "stdout",
     "output_type": "stream",
     "text": [
      "Training...\n",
      "Epoch 1/10\n",
      "937/937 [==============================] - 5s 2ms/step - loss: 0.5680 - accuracy: 0.8354\n",
      "Epoch 2/10\n",
      "937/937 [==============================] - 1s 2ms/step - loss: 0.1834 - accuracy: 0.9474\n",
      "Epoch 3/10\n",
      "937/937 [==============================] - 1s 1ms/step - loss: 0.1276 - accuracy: 0.9620\n",
      "Epoch 4/10\n",
      "937/937 [==============================] - 1s 1ms/step - loss: 0.1082 - accuracy: 0.9673\n",
      "Epoch 5/10\n",
      "937/937 [==============================] - 1s 1ms/step - loss: 0.0861 - accuracy: 0.9741\n",
      "Epoch 6/10\n",
      "937/937 [==============================] - 1s 1ms/step - loss: 0.0698 - accuracy: 0.9780\n",
      "Epoch 7/10\n",
      "937/937 [==============================] - 1s 2ms/step - loss: 0.0655 - accuracy: 0.9793\n",
      "Epoch 8/10\n",
      "937/937 [==============================] - 1s 1ms/step - loss: 0.0595 - accuracy: 0.9812\n",
      "Epoch 9/10\n",
      "937/937 [==============================] - 1s 1ms/step - loss: 0.0541 - accuracy: 0.9830\n",
      "Epoch 10/10\n",
      "937/937 [==============================] - 1s 1ms/step - loss: 0.0505 - accuracy: 0.9839\n",
      "\\ntraining_history: {'loss': [0.3383876085281372, 0.16476000845432281, 0.11984053254127502, 0.10162575542926788, 0.0837550014257431, 0.07131215929985046, 0.06316737085580826, 0.058996181935071945, 0.052086569368839264, 0.04844282567501068], 'accuracy': [0.9027481079101562, 0.9525246620178223, 0.9644643664360046, 0.9689667820930481, 0.9748198986053467, 0.9778715372085571, 0.9799059629440308, 0.9811399579048157, 0.9833577871322632, 0.9842749238014221]}\n"
     ]
    }
   ],
   "source": [
    "print(\"Training...\")\n",
    "\n",
    "with strategy.scope():\n",
    "    multi_worker_model = build_and_compile_model()\n",
    "\n",
    "num_train_examples = mnist.info.splits['train'].num_examples\n",
    "train_steps = num_train_examples // BATCH_SIZE\n",
    "train_epochs = 10\n",
    "\n",
    "history = multi_worker_model.fit(\n",
    "    train_input_dataset, \n",
    "    epochs = train_epochs, \n",
    "    steps_per_epoch = train_steps, \n",
    "    callbacks = callbacks\n",
    ")\n",
    "\n",
    "print(\"\\\\ntraining_history:\", history.history)"
   ]
  },
  {
   "cell_type": "code",
   "execution_count": 11,
   "id": "boolean-sherman",
   "metadata": {},
   "outputs": [
    {
     "name": "stdout",
     "output_type": "stream",
     "text": [
      "INFO:tensorflow:Assets written to: s3://model/mnist/1/assets\n"
     ]
    },
    {
     "name": "stderr",
     "output_type": "stream",
     "text": [
      "INFO:tensorflow:Assets written to: s3://model/mnist/1/assets\n"
     ]
    }
   ],
   "source": [
    "os.environ.update({\n",
    "    'S3_ENDPOINT'          : 'minio-service.kubeflow:9000',\n",
    "    'AWS_ACCESS_KEY_ID'    : 'minio',\n",
    "    'AWS_SECRET_ACCESS_KEY': 'minio123',\n",
    "    'S3_USE_HTTPS'         : '0',                     \n",
    "    'S3_VERIFY_SSL'        : '0'\n",
    "})  \n",
    "\n",
    "import uuid\n",
    "uid = uuid.uuid4().hex[:8]\n",
    "MODEL_URI=f\"s3://model/mnist-{uid}/1\"\n",
    "# MODEL_URI=\"s3://model/mnist/1\"\n",
    "multi_worker_model.save(MODEL_URI)\n",
    "print(f\"Job [{uid}] Completed ^_____^\")"
   ]
  }
 ],
 "metadata": {
  "kernelspec": {
   "display_name": "Python 3",
   "language": "python",
   "name": "python3"
  },
  "kubeflow_notebook": {
   "autosnapshot": false,
   "docker_image": "sds.redii.net/mlopsdev/jupyterlab:0.1.5-kale.0.5.0",
   "experiment": {
    "id": "",
    "name": ""
   },
   "experiment_name": "",
   "katib_metadata": {
    "algorithm": {
     "algorithmName": "grid"
    },
    "maxFailedTrialCount": 3,
    "maxTrialCount": 12,
    "objective": {
     "objectiveMetricName": "",
     "type": "minimize"
    },
    "parallelTrialCount": 3,
    "parameters": []
   },
   "katib_run": false,
   "pipeline_description": "",
   "pipeline_name": "",
   "snapshot_volumes": false,
   "steps_defaults": [],
   "volume_access_mode": "rwm",
   "volumes": []
  },
  "language_info": {
   "codemirror_mode": {
    "name": "ipython",
    "version": 3
   },
   "file_extension": ".py",
   "mimetype": "text/x-python",
   "name": "python",
   "nbconvert_exporter": "python",
   "pygments_lexer": "ipython3",
   "version": "3.6.9"
  }
 },
 "nbformat": 4,
 "nbformat_minor": 5
}
