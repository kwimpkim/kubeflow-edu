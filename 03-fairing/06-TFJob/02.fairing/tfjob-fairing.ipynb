{
 "cells": [
  {
   "cell_type": "code",
   "execution_count": null,
   "metadata": {},
   "outputs": [],
   "source": [
    "from kubeflow import fairing\n",
    "from kubeflow.fairing.kubernetes import utils as k8s_utils\n",
    "import uuid\n",
    "\n",
    "fairing.config.set_preprocessor(\n",
    "    'notebook', \n",
    "    notebook_file = 'mnist-dist.ipynb',\n",
    ")\n",
    "\n",
    "PRIVATE_REGISTRY = 'kubeflow-registry.default.svc.cluster.local:30000'\n",
    "# base_image=f'{PRIVATE_REGISTRY}/mymnistbase'\n",
    "base_image='reddiana/mybase'\n",
    "fairing.config.set_builder(\n",
    "    'append',\n",
    "    base_image=base_image,\n",
    "    image_name='tfjob-fairing-mnist', \n",
    "    registry = PRIVATE_REGISTRY,\n",
    "    push=True,\n",
    ")\n",
    "\n",
    "fairing.config.set_deployer(\n",
    "    'tfjob',\n",
    "    # namespace='mysapce', # 생략 시 현재 노트북의 네임스페이스 사용\n",
    "    job_name=f'my-mnist-{uuid.uuid4().hex[:8]}',\n",
    "    chief_count=1, \n",
    "    worker_count=2,\n",
    "    pod_spec_mutators=[\n",
    "        # k8s_utils.mounting_pvc(pvc_name='mnist-tfjob-data-volume', pvc_mount_path='/data'),\n",
    "        k8s_utils.get_resource_mutator(cpu=1, memory=5),\n",
    "    ]\n",
    ")\n",
    "\n",
    "fairing.config.run()"
   ]
  },
  {
   "cell_type": "code",
   "execution_count": null,
   "metadata": {},
   "outputs": [],
   "source": []
  }
 ],
 "metadata": {
  "kernelspec": {
   "display_name": "Python 3",
   "language": "python",
   "name": "python3"
  },
  "kubeflow_notebook": {
   "autosnapshot": false,
   "docker_image": "reddiana/jupyterlab-kale:0.0.9",
   "experiment": {
    "id": "",
    "name": ""
   },
   "experiment_name": "",
   "katib_metadata": {
    "algorithm": {
     "algorithmName": "grid"
    },
    "maxFailedTrialCount": 3,
    "maxTrialCount": 12,
    "objective": {
     "objectiveMetricName": "",
     "type": "minimize"
    },
    "parallelTrialCount": 3,
    "parameters": []
   },
   "katib_run": false,
   "pipeline_description": "",
   "pipeline_name": "",
   "snapshot_volumes": false,
   "steps_defaults": [],
   "volumes": []
  },
  "language_info": {
   "codemirror_mode": {
    "name": "ipython",
    "version": 3
   },
   "file_extension": ".py",
   "mimetype": "text/x-python",
   "name": "python",
   "nbconvert_exporter": "python",
   "pygments_lexer": "ipython3",
   "version": "3.6.9"
  }
 },
 "nbformat": 4,
 "nbformat_minor": 4
}
