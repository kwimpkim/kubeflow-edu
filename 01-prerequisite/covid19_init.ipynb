{
 "cells": [
  {
   "cell_type": "markdown",
   "metadata": {
    "tags": []
   },
   "source": [
    "## 사전 준비 (이미 수행했다면 Skip)\n",
    "아래 스크립트를 실행\n",
    "\n",
    "- Covid19-Pneumonia-3-categories-classification DataSet 다운로드\n",
    "- DataSet을 Minio에 업로드\n",
    "- Minio에 model 저장용 Butket 생성"
   ]
  },
  {
   "cell_type": "code",
   "execution_count": 1,
   "metadata": {
    "tags": []
   },
   "outputs": [
    {
     "name": "stdout",
     "output_type": "stream",
     "text": [
      "\n",
      "========================================\n",
      "Minio Cli 설치\n",
      "----------------------------------------\n",
      "\n",
      "/usr/bin/mc\n",
      "\u001b[m\u001b[36;1mmyminio\n",
      "\u001b[0m\u001b[33m  URL       : http://minio-service.kubeflow:9000\n",
      "\u001b[0m\u001b[36m  AccessKey : minio\n",
      "\u001b[0m\u001b[36m  SecretKey : minio123\n",
      "\u001b[0m\u001b[34m  API       : s3v4\n",
      "\u001b[0m\u001b[36m  Path      : auto\n",
      "\u001b[0m\n",
      "\u001b[0m\n",
      "========================================\n",
      "Covid19 데이터셋 다운로드\n",
      "----------------------------------------\n",
      "\n",
      "Cloning into 'Covid19-X-Rays'...\n",
      "remote: Enumerating objects: 239, done.\u001b[K\n",
      "remote: Total 239 (delta 0), reused 0 (delta 0), pack-reused 239\u001b[K\n",
      "Receiving objects: 100% (239/239), 74.15 MiB | 39.88 MiB/s, done.\n",
      "\n",
      "========================================\n",
      "Covid19 데이터셋을 Minio에 업로드\n",
      "----------------------------------------\n",
      "\n",
      "\u001b[m\u001b[32;1mRemoving `myminio/dataset/covid19/test/covid/nejmoa2001191_f3-PA.jpeg`\u001b[0m.\n",
      "\u001b[0m\u001b[m\u001b[32;1mRemoving `myminio/dataset/covid19/test/covid/nejmoa2001191_f4.jpeg`\u001b[0m.\n",
      "\u001b[0m\u001b[m\u001b[32;1mRemoving `myminio/dataset/covid19/test/covid/nejmoa2001191_f5-PA.jpeg`\u001b[0m.\n",
      "\u001b[0m\u001b[m\u001b[32;1mRemoving `myminio/dataset/covid19/test/covid/radiol.2020200490.fig3.jpeg`\u001b[0m.\n",
      "\u001b[0m\u001b[m\u001b[32;1mRemoving `myminio/dataset/covid19/test/covid/ryct.2020200028.fig1a.jpeg`\u001b[0m.\n",
      "\u001b[0m\u001b[m\u001b[32;1mRemoving `myminio/dataset/covid19/test/covid/ryct.2020200034.fig2.jpeg`\u001b[0m.\n",
      "\u001b[0m\u001b[m\u001b[32;1mRemoving `myminio/dataset/covid19/test/covid/ryct.2020200034.fig5-day0.jpeg`\u001b[0m.\n",
      "\u001b[0m\u001b[m\u001b[32;1mRemoving `myminio/dataset/covid19/test/covid/ryct.2020200034.fig5-day4.jpeg`\u001b[0m.\n",
      "\u001b[0m\u001b[m\u001b[32;1mRemoving `myminio/dataset/covid19/test/covid/ryct.2020200034.fig5-day7.jpeg`\u001b[0m.\n",
      "\u001b[0m\u001b[m\u001b[32;1mRemoving `myminio/dataset/covid19/test/normal/NORMAL2-IM-1385-0001.jpeg`\u001b[0m.\n",
      "\u001b[0m\u001b[m\u001b[32;1mRemoving `myminio/dataset/covid19/test/normal/NORMAL2-IM-1396-0001.jpeg`\u001b[0m.\n",
      "\u001b[0m\u001b[m\u001b[32;1mRemoving `myminio/dataset/covid19/test/normal/NORMAL2-IM-1400-0001.jpeg`\u001b[0m.\n",
      "\u001b[0m\u001b[m\u001b[32;1mRemoving `myminio/dataset/covid19/test/normal/NORMAL2-IM-1401-0001.jpeg`\u001b[0m.\n",
      "\u001b[0m\u001b[m\u001b[32;1mRemoving `myminio/dataset/covid19/test/normal/NORMAL2-IM-1406-0001.jpeg`\u001b[0m.\n",
      "\u001b[0m\u001b[m\u001b[32;1mRemoving `myminio/dataset/covid19/test/normal/NORMAL2-IM-1412-0001.jpeg`\u001b[0m.\n",
      "\u001b[0m\u001b[m\u001b[32;1mRemoving `myminio/dataset/covid19/test/normal/NORMAL2-IM-1419-0001.jpeg`\u001b[0m.\n",
      "\u001b[0m\u001b[m\u001b[32;1mRemoving `myminio/dataset/covid19/test/normal/NORMAL2-IM-1422-0001.jpeg`\u001b[0m.\n",
      "\u001b[0m\u001b[m\u001b[32;1mRemoving `myminio/dataset/covid19/test/normal/NORMAL2-IM-1423-0001.jpeg`\u001b[0m.\n",
      "\u001b[0m\u001b[m\u001b[32;1mRemoving `myminio/dataset/covid19/test/pneumonia_bac/person1753_bacteria_4594.jpeg`\u001b[0m.\n",
      "\u001b[0m\u001b[m\u001b[32;1mRemoving `myminio/dataset/covid19/test/pneumonia_bac/person1940_bacteria_4859.jpeg`\u001b[0m.\n",
      "\u001b[0m\u001b[m\u001b[32;1mRemoving `myminio/dataset/covid19/test/pneumonia_bac/person1940_bacteria_4861.jpeg`\u001b[0m.\n",
      "\u001b[0m\u001b[m\u001b[32;1mRemoving `myminio/dataset/covid19/test/pneumonia_bac/person1940_bacteria_4862.jpeg`\u001b[0m.\n",
      "\u001b[0m\u001b[m\u001b[32;1mRemoving `myminio/dataset/covid19/test/pneumonia_bac/person1941_bacteria_4863.jpeg`\u001b[0m.\n",
      "\u001b[0m\u001b[m\u001b[32;1mRemoving `myminio/dataset/covid19/test/pneumonia_bac/person1942_bacteria_4865.jpeg`\u001b[0m.\n",
      "\u001b[0m\u001b[m\u001b[32;1mRemoving `myminio/dataset/covid19/test/pneumonia_bac/person1943_bacteria_4868.jpeg`\u001b[0m.\n",
      "\u001b[0m\u001b[m\u001b[32;1mRemoving `myminio/dataset/covid19/test/pneumonia_bac/person1944_bacteria_4869.jpeg`\u001b[0m.\n",
      "\u001b[0m\u001b[m\u001b[32;1mRemoving `myminio/dataset/covid19/test/pneumonia_bac/person1945_bacteria_4872.jpeg`\u001b[0m.\n",
      "\u001b[0m\u001b[m\u001b[32;1mRemoving `myminio/dataset/covid19/train/covid/01E392EE-69F9-4E33-BFCE-E5C968654078.jpeg`\u001b[0m.\n",
      "\u001b[0m\u001b[m\u001b[32;1mRemoving `myminio/dataset/covid19/train/covid/1-s2.0-S0140673620303706-fx1_lrg.jpg`\u001b[0m.\n",
      "\u001b[0m\u001b[m\u001b[32;1mRemoving `myminio/dataset/covid19/train/covid/1-s2.0-S0929664620300449-gr2_lrg-a.jpg`\u001b[0m.\n",
      "\u001b[0m\u001b[m\u001b[32;1mRemoving `myminio/dataset/covid19/train/covid/1-s2.0-S0929664620300449-gr2_lrg-b.jpg`\u001b[0m.\n",
      "\u001b[0m\u001b[m\u001b[32;1mRemoving `myminio/dataset/covid19/train/covid/1-s2.0-S0929664620300449-gr2_lrg-c.jpg`\u001b[0m.\n",
      "\u001b[0m\u001b[m\u001b[32;1mRemoving `myminio/dataset/covid19/train/covid/1-s2.0-S0929664620300449-gr2_lrg-d.jpg`\u001b[0m.\n",
      "\u001b[0m\u001b[m\u001b[32;1mRemoving `myminio/dataset/covid19/train/covid/1-s2.0-S1684118220300608-main.pdf-001.jpg`\u001b[0m.\n",
      "\u001b[0m\u001b[m\u001b[32;1mRemoving `myminio/dataset/covid19/train/covid/1-s2.0-S1684118220300608-main.pdf-002.jpg`\u001b[0m.\n",
      "\u001b[0m\u001b[m\u001b[32;1mRemoving `myminio/dataset/covid19/train/covid/1-s2.0-S1684118220300682-main.pdf-002-a1.png`\u001b[0m.\n",
      "\u001b[0m\u001b[m\u001b[32;1mRemoving `myminio/dataset/covid19/train/covid/1-s2.0-S1684118220300682-main.pdf-002-a2.png`\u001b[0m.\n",
      "\u001b[0m\u001b[m\u001b[32;1mRemoving `myminio/dataset/covid19/train/covid/1-s2.0-S1684118220300682-main.pdf-003-b1.png`\u001b[0m.\n",
      "\u001b[0m\u001b[m\u001b[32;1mRemoving `myminio/dataset/covid19/train/covid/1-s2.0-S1684118220300682-main.pdf-003-b2.png`\u001b[0m.\n",
      "\u001b[0m\u001b[m\u001b[32;1mRemoving `myminio/dataset/covid19/train/covid/1312A392-67A3-4EBF-9319-810CF6DA5EF6.jpeg`\u001b[0m.\n",
      "\u001b[0m\u001b[m\u001b[32;1mRemoving `myminio/dataset/covid19/train/covid/1B734A89-A1BF-49A8-A1D3-66FAFA4FAC5D.jpeg`\u001b[0m.\n",
      "\u001b[0m\u001b[m\u001b[32;1mRemoving `myminio/dataset/covid19/train/covid/23E99E2E-447C-46E5-8EB2-D35D12473C39.png`\u001b[0m.\n",
      "\u001b[0m\u001b[m\u001b[32;1mRemoving `myminio/dataset/covid19/train/covid/2C26F453-AF3B-4517-BB9E-802CF2179543.jpeg`\u001b[0m.\n",
      "\u001b[0m\u001b[m\u001b[32;1mRemoving `myminio/dataset/covid19/train/covid/31BA3780-2323-493F-8AED-62081B9C383B.jpeg`\u001b[0m.\n",
      "\u001b[0m\u001b[m\u001b[32;1mRemoving `myminio/dataset/covid19/train/covid/41591_2020_819_Fig1_HTML.webp-day10.png`\u001b[0m.\n",
      "\u001b[0m\u001b[m\u001b[32;1mRemoving `myminio/dataset/covid19/train/covid/41591_2020_819_Fig1_HTML.webp-day5.png`\u001b[0m.\n",
      "\u001b[0m\u001b[m\u001b[32;1mRemoving `myminio/dataset/covid19/train/covid/6CB4EFC6-68FA-4CD5-940C-BEFA8DAFE9A7.jpeg`\u001b[0m.\n",
      "\u001b[0m\u001b[m\u001b[32;1mRemoving `myminio/dataset/covid19/train/covid/7AF6C1AF-D249-4BD2-8C26-449304105D03.jpeg`\u001b[0m.\n",
      "\u001b[0m\u001b[m\u001b[32;1mRemoving `myminio/dataset/covid19/train/covid/7C69C012-7479-493F-8722-ABC29C60A2DD.jpeg`\u001b[0m.\n",
      "\u001b[0m\u001b[m\u001b[32;1mRemoving `myminio/dataset/covid19/train/covid/80446565-E090-4187-A031-9D3CEAA586C8.jpeg`\u001b[0m.\n",
      "\u001b[0m\u001b[m\u001b[32;1mRemoving `myminio/dataset/covid19/train/covid/85E52EB3-56E9-4D67-82DA-DEA247C82886.jpeg`\u001b[0m.\n",
      "\u001b[0m\u001b[m\u001b[32;1mRemoving `myminio/dataset/covid19/train/covid/8FDE8DBA-CFBD-4B4C-B1A4-6F36A93B7E87.jpeg`\u001b[0m.\n",
      "\u001b[0m\u001b[m\u001b[32;1mRemoving `myminio/dataset/covid19/train/covid/93FE0BB1-022D-4F24-9727-987A07975FFB.jpeg`\u001b[0m.\n",
      "\u001b[0m\u001b[m\u001b[32;1mRemoving `myminio/dataset/covid19/train/covid/9C34AF49-E589-44D5-92D3-168B3B04E4A6.jpeg`\u001b[0m.\n",
      "\u001b[0m\u001b[m\u001b[32;1mRemoving `myminio/dataset/covid19/train/covid/CD50BA96-6982-4C80-AE7B-5F67ACDBFA56.jpeg`\u001b[0m.\n",
      "\u001b[0m\u001b[m\u001b[32;1mRemoving `myminio/dataset/covid19/train/covid/E63574A7-4188-4C8D-8D17-9D67A18A1AFA.jpeg`\u001b[0m.\n",
      "\u001b[0m\u001b[m\u001b[32;1mRemoving `myminio/dataset/covid19/train/covid/F2DE909F-E19C-4900-92F5-8F435B031AC6.jpeg`\u001b[0m.\n",
      "\u001b[0m\u001b[m\u001b[32;1mRemoving `myminio/dataset/covid19/train/covid/F4341CE7-73C9-45C6-99C8-8567A5484B63.jpeg`\u001b[0m.\n",
      "\u001b[0m\u001b[m\u001b[32;1mRemoving `myminio/dataset/covid19/train/covid/F63AB6CE-1968-4154-A70F-913AF154F53D.jpeg`\u001b[0m.\n",
      "\u001b[0m\u001b[m\u001b[32;1mRemoving `myminio/dataset/covid19/train/covid/FE9F9A5D-2830-46F9-851B-1FF4534959BE.jpeg`\u001b[0m.\n",
      "\u001b[0m\u001b[m\u001b[32;1mRemoving `myminio/dataset/covid19/train/covid/all14238-fig-0001-m-b.jpg`\u001b[0m.\n",
      "\u001b[0m\u001b[m\u001b[32;1mRemoving `myminio/dataset/covid19/train/covid/all14238-fig-0001-m-c.jpg`\u001b[0m.\n",
      "\u001b[0m\u001b[m\u001b[32;1mRemoving `myminio/dataset/covid19/train/covid/auntminnie-a-2020_01_28_23_51_6665_2020_01_28_Vietnam_coronavirus.jpeg`\u001b[0m.\n",
      "\u001b[0m\u001b[m\u001b[32;1mRemoving `myminio/dataset/covid19/train/covid/auntminnie-b-2020_01_28_23_51_6665_2020_01_28_Vietnam_coronavirus.jpeg`\u001b[0m.\n",
      "\u001b[0m\u001b[m\u001b[32;1mRemoving `myminio/dataset/covid19/train/covid/auntminnie-c-2020_01_28_23_51_6665_2020_01_28_Vietnam_coronavirus.jpeg`\u001b[0m.\n",
      "\u001b[0m\u001b[m\u001b[32;1mRemoving `myminio/dataset/covid19/train/covid/auntminnie-d-2020_01_28_23_51_6665_2020_01_28_Vietnam_coronavirus.jpeg`\u001b[0m.\n",
      "\u001b[0m\u001b[m\u001b[32;1mRemoving `myminio/dataset/covid19/train/covid/ciaa199.pdf-001-a.png`\u001b[0m.\n",
      "\u001b[0m\u001b[m\u001b[32;1mRemoving `myminio/dataset/covid19/train/covid/ciaa199.pdf-001-b.png`\u001b[0m.\n",
      "\u001b[0m\u001b[m\u001b[32;1mRemoving `myminio/dataset/covid19/train/covid/ciaa199.pdf-001-c.png`\u001b[0m.\n",
      "\u001b[0m\u001b[m\u001b[32;1mRemoving `myminio/dataset/covid19/train/covid/covid-19-pneumonia-12.jpg`\u001b[0m.\n",
      "\u001b[0m\u001b[m\u001b[32;1mRemoving `myminio/dataset/covid19/train/covid/covid-19-pneumonia-14-PA.png`\u001b[0m.\n",
      "\u001b[0m\u001b[m\u001b[32;1mRemoving `myminio/dataset/covid19/train/covid/covid-19-pneumonia-15-PA.jpg`\u001b[0m.\n",
      "\u001b[0m\u001b[m\u001b[32;1mRemoving `myminio/dataset/covid19/train/covid/covid-19-pneumonia-19.jpg`\u001b[0m.\n",
      "\u001b[0m\u001b[m\u001b[32;1mRemoving `myminio/dataset/covid19/train/covid/covid-19-pneumonia-2.jpg`\u001b[0m.\n",
      "\u001b[0m\u001b[m\u001b[32;1mRemoving `myminio/dataset/covid19/train/covid/covid-19-pneumonia-7-PA.jpg`\u001b[0m.\n",
      "\u001b[0m\u001b[m\u001b[32;1mRemoving `myminio/dataset/covid19/train/covid/gr1_lrg-a.jpg`\u001b[0m.\n",
      "\u001b[0m\u001b[m\u001b[32;1mRemoving `myminio/dataset/covid19/train/covid/gr1_lrg-b.jpg`\u001b[0m.\n",
      "\u001b[0m\u001b[m\u001b[32;1mRemoving `myminio/dataset/covid19/train/covid/kjr-21-e24-g001-l-a.jpg`\u001b[0m.\n",
      "\u001b[0m\u001b[m\u001b[32;1mRemoving `myminio/dataset/covid19/train/covid/kjr-21-e24-g002-l-a.jpg`\u001b[0m.\n",
      "\u001b[0m\u001b[m\u001b[32;1mRemoving `myminio/dataset/covid19/train/covid/kjr-21-e24-g003-l-a.jpg`\u001b[0m.\n",
      "\u001b[0m\u001b[m\u001b[32;1mRemoving `myminio/dataset/covid19/train/covid/kjr-21-e25-g001-l-a.jpg`\u001b[0m.\n",
      "\u001b[0m\u001b[m\u001b[32;1mRemoving `myminio/dataset/covid19/train/covid/lancet-case2a.jpg`\u001b[0m.\n",
      "\u001b[0m\u001b[m\u001b[32;1mRemoving `myminio/dataset/covid19/train/covid/lancet-case2b.jpg`\u001b[0m.\n",
      "\u001b[0m\u001b[m\u001b[32;1mRemoving `myminio/dataset/covid19/train/covid/nCoV-radiol.2020200269.fig1-day7.jpeg`\u001b[0m.\n",
      "\u001b[0m\u001b[m\u001b[32;1mRemoving `myminio/dataset/covid19/train/covid/nejmc2001573_f1a.jpeg`\u001b[0m.\n",
      "\u001b[0m\u001b[m\u001b[32;1mRemoving `myminio/dataset/covid19/train/covid/nejmc2001573_f1b.jpeg`\u001b[0m.\n",
      "\u001b[0m\u001b[m\u001b[32;1mRemoving `myminio/dataset/covid19/train/covid/nejmoa2001191_f1-PA.jpeg`\u001b[0m.\n",
      "\u001b[0m\u001b[m\u001b[32;1mRemoving `myminio/dataset/covid19/train/normal/NORMAL2-IM-1281-0001.jpeg`\u001b[0m.\n",
      "\u001b[0m\u001b[m\u001b[32;1mRemoving `myminio/dataset/covid19/train/normal/NORMAL2-IM-1282-0001.jpeg`\u001b[0m.\n",
      "\u001b[0m\u001b[m\u001b[32;1mRemoving `myminio/dataset/covid19/train/normal/NORMAL2-IM-1285-0001.jpeg`\u001b[0m.\n",
      "\u001b[0m\u001b[m\u001b[32;1mRemoving `myminio/dataset/covid19/train/normal/NORMAL2-IM-1286-0001.jpeg`\u001b[0m.\n",
      "\u001b[0m\u001b[m\u001b[32;1mRemoving `myminio/dataset/covid19/train/normal/NORMAL2-IM-1287-0001.jpeg`\u001b[0m.\n",
      "\u001b[0m\u001b[m\u001b[32;1mRemoving `myminio/dataset/covid19/train/normal/NORMAL2-IM-1288-0001.jpeg`\u001b[0m.\n",
      "\u001b[0m\u001b[m\u001b[32;1mRemoving `myminio/dataset/covid19/train/normal/NORMAL2-IM-1289-0001.jpeg`\u001b[0m.\n",
      "\u001b[0m\u001b[m\u001b[32;1mRemoving `myminio/dataset/covid19/train/normal/NORMAL2-IM-1290-0001.jpeg`\u001b[0m.\n",
      "\u001b[0m\u001b[m\u001b[32;1mRemoving `myminio/dataset/covid19/train/normal/NORMAL2-IM-1291-0001.jpeg`\u001b[0m.\n",
      "\u001b[0m\u001b[m\u001b[32;1mRemoving `myminio/dataset/covid19/train/normal/NORMAL2-IM-1292-0001.jpeg`\u001b[0m.\n",
      "\u001b[0m\u001b[m\u001b[32;1mRemoving `myminio/dataset/covid19/train/normal/NORMAL2-IM-1293-0001.jpeg`\u001b[0m.\n",
      "\u001b[0m\u001b[m\u001b[32;1mRemoving `myminio/dataset/covid19/train/normal/NORMAL2-IM-1294-0001-0001.jpeg`\u001b[0m.\n",
      "\u001b[0m\u001b[m\u001b[32;1mRemoving `myminio/dataset/covid19/train/normal/NORMAL2-IM-1294-0001-0002.jpeg`\u001b[0m.\n",
      "\u001b[0m\u001b[m\u001b[32;1mRemoving `myminio/dataset/covid19/train/normal/NORMAL2-IM-1294-0001.jpeg`\u001b[0m.\n",
      "\u001b[0m\u001b[m\u001b[32;1mRemoving `myminio/dataset/covid19/train/normal/NORMAL2-IM-1295-0001.jpeg`\u001b[0m.\n",
      "\u001b[0m\u001b[m\u001b[32;1mRemoving `myminio/dataset/covid19/train/normal/NORMAL2-IM-1296-0001.jpeg`\u001b[0m.\n",
      "\u001b[0m\u001b[m\u001b[32;1mRemoving `myminio/dataset/covid19/train/normal/NORMAL2-IM-1300-0001.jpeg`\u001b[0m.\n",
      "\u001b[0m\u001b[m\u001b[32;1mRemoving `myminio/dataset/covid19/train/normal/NORMAL2-IM-1301-0001.jpeg`\u001b[0m.\n",
      "\u001b[0m\u001b[m\u001b[32;1mRemoving `myminio/dataset/covid19/train/normal/NORMAL2-IM-1302-0001.jpeg`\u001b[0m.\n",
      "\u001b[0m\u001b[m\u001b[32;1mRemoving `myminio/dataset/covid19/train/normal/NORMAL2-IM-1303-0001.jpeg`\u001b[0m.\n",
      "\u001b[0m\u001b[m\u001b[32;1mRemoving `myminio/dataset/covid19/train/normal/NORMAL2-IM-1304-0001.jpeg`\u001b[0m.\n",
      "\u001b[0m\u001b[m\u001b[32;1mRemoving `myminio/dataset/covid19/train/normal/NORMAL2-IM-1305-0001.jpeg`\u001b[0m.\n",
      "\u001b[0m\u001b[m\u001b[32;1mRemoving `myminio/dataset/covid19/train/normal/NORMAL2-IM-1306-0001.jpeg`\u001b[0m.\n",
      "\u001b[0m\u001b[m\u001b[32;1mRemoving `myminio/dataset/covid19/train/normal/NORMAL2-IM-1307-0001.jpeg`\u001b[0m.\n",
      "\u001b[0m\u001b[m\u001b[32;1mRemoving `myminio/dataset/covid19/train/normal/NORMAL2-IM-1308-0001.jpeg`\u001b[0m.\n",
      "\u001b[0m\u001b[m\u001b[32;1mRemoving `myminio/dataset/covid19/train/normal/NORMAL2-IM-1310-0001.jpeg`\u001b[0m.\n",
      "\u001b[0m\u001b[m\u001b[32;1mRemoving `myminio/dataset/covid19/train/normal/NORMAL2-IM-1311-0001.jpeg`\u001b[0m.\n",
      "\u001b[0m\u001b[m\u001b[32;1mRemoving `myminio/dataset/covid19/train/normal/NORMAL2-IM-1314-0001.jpeg`\u001b[0m.\n",
      "\u001b[0m\u001b[m\u001b[32;1mRemoving `myminio/dataset/covid19/train/normal/NORMAL2-IM-1315-0001.jpeg`\u001b[0m.\n",
      "\u001b[0m\u001b[m\u001b[32;1mRemoving `myminio/dataset/covid19/train/normal/NORMAL2-IM-1316-0001.jpeg`\u001b[0m.\n",
      "\u001b[0m\u001b[m\u001b[32;1mRemoving `myminio/dataset/covid19/train/normal/NORMAL2-IM-1317-0001.jpeg`\u001b[0m.\n",
      "\u001b[0m\u001b[m\u001b[32;1mRemoving `myminio/dataset/covid19/train/normal/NORMAL2-IM-1318-0001.jpeg`\u001b[0m.\n",
      "\u001b[0m\u001b[m\u001b[32;1mRemoving `myminio/dataset/covid19/train/normal/NORMAL2-IM-1319-0001.jpeg`\u001b[0m.\n",
      "\u001b[0m\u001b[m\u001b[32;1mRemoving `myminio/dataset/covid19/train/normal/NORMAL2-IM-1320-0001.jpeg`\u001b[0m.\n",
      "\u001b[0m\u001b[m\u001b[32;1mRemoving `myminio/dataset/covid19/train/normal/NORMAL2-IM-1321-0001.jpeg`\u001b[0m.\n",
      "\u001b[0m\u001b[m\u001b[32;1mRemoving `myminio/dataset/covid19/train/normal/NORMAL2-IM-1322-0001.jpeg`\u001b[0m.\n",
      "\u001b[0m\u001b[m\u001b[32;1mRemoving `myminio/dataset/covid19/train/normal/NORMAL2-IM-1323-0001.jpeg`\u001b[0m.\n",
      "\u001b[0m\u001b[m\u001b[32;1mRemoving `myminio/dataset/covid19/train/normal/NORMAL2-IM-1326-0001.jpeg`\u001b[0m.\n",
      "\u001b[0m\u001b[m\u001b[32;1mRemoving `myminio/dataset/covid19/train/normal/NORMAL2-IM-1327-0001.jpeg`\u001b[0m.\n",
      "\u001b[0m\u001b[m\u001b[32;1mRemoving `myminio/dataset/covid19/train/normal/NORMAL2-IM-1328-0001.jpeg`\u001b[0m.\n",
      "\u001b[0m\u001b[m\u001b[32;1mRemoving `myminio/dataset/covid19/train/normal/NORMAL2-IM-1329-0001.jpeg`\u001b[0m.\n",
      "\u001b[0m\u001b[m\u001b[32;1mRemoving `myminio/dataset/covid19/train/normal/NORMAL2-IM-1330-0001.jpeg`\u001b[0m.\n",
      "\u001b[0m\u001b[m\u001b[32;1mRemoving `myminio/dataset/covid19/train/normal/NORMAL2-IM-1332-0001.jpeg`\u001b[0m.\n",
      "\u001b[0m\u001b[m\u001b[32;1mRemoving `myminio/dataset/covid19/train/normal/NORMAL2-IM-1333-0001.jpeg`\u001b[0m.\n",
      "\u001b[0m\u001b[m\u001b[32;1mRemoving `myminio/dataset/covid19/train/normal/NORMAL2-IM-1334-0001.jpeg`\u001b[0m.\n",
      "\u001b[0m\u001b[m\u001b[32;1mRemoving `myminio/dataset/covid19/train/normal/NORMAL2-IM-1335-0001.jpeg`\u001b[0m.\n",
      "\u001b[0m\u001b[m\u001b[32;1mRemoving `myminio/dataset/covid19/train/normal/NORMAL2-IM-1336-0001.jpeg`\u001b[0m.\n",
      "\u001b[0m\u001b[m\u001b[32;1mRemoving `myminio/dataset/covid19/train/normal/NORMAL2-IM-1337-0001.jpeg`\u001b[0m.\n",
      "\u001b[0m\u001b[m\u001b[32;1mRemoving `myminio/dataset/covid19/train/normal/NORMAL2-IM-1338-0001.jpeg`\u001b[0m.\n",
      "\u001b[0m\u001b[m\u001b[32;1mRemoving `myminio/dataset/covid19/train/normal/NORMAL2-IM-1341-0001.jpeg`\u001b[0m.\n",
      "\u001b[0m\u001b[m\u001b[32;1mRemoving `myminio/dataset/covid19/train/normal/NORMAL2-IM-1342-0001.jpeg`\u001b[0m.\n",
      "\u001b[0m\u001b[m\u001b[32;1mRemoving `myminio/dataset/covid19/train/normal/NORMAL2-IM-1343-0001.jpeg`\u001b[0m.\n",
      "\u001b[0m\u001b[m\u001b[32;1mRemoving `myminio/dataset/covid19/train/normal/NORMAL2-IM-1344-0001.jpeg`\u001b[0m.\n",
      "\u001b[0m\u001b[m\u001b[32;1mRemoving `myminio/dataset/covid19/train/normal/NORMAL2-IM-1345-0001-0001.jpeg`\u001b[0m.\n",
      "\u001b[0m\u001b[m\u001b[32;1mRemoving `myminio/dataset/covid19/train/normal/NORMAL2-IM-1345-0001-0002.jpeg`\u001b[0m.\n",
      "\u001b[0m\u001b[m\u001b[32;1mRemoving `myminio/dataset/covid19/train/normal/NORMAL2-IM-1345-0001.jpeg`\u001b[0m.\n",
      "\u001b[0m\u001b[m\u001b[32;1mRemoving `myminio/dataset/covid19/train/normal/NORMAL2-IM-1346-0001.jpeg`\u001b[0m.\n",
      "\u001b[0m\u001b[m\u001b[32;1mRemoving `myminio/dataset/covid19/train/normal/NORMAL2-IM-1347-0001.jpeg`\u001b[0m.\n",
      "\u001b[0m\u001b[m\u001b[32;1mRemoving `myminio/dataset/covid19/train/normal/NORMAL2-IM-1348-0001.jpeg`\u001b[0m.\n",
      "\u001b[0m\u001b[m\u001b[32;1mRemoving `myminio/dataset/covid19/train/normal/NORMAL2-IM-1349-0001.jpeg`\u001b[0m.\n",
      "\u001b[0m\u001b[m\u001b[32;1mRemoving `myminio/dataset/covid19/train/normal/NORMAL2-IM-1350-0001.jpeg`\u001b[0m.\n",
      "\u001b[0m\u001b[m\u001b[32;1mRemoving `myminio/dataset/covid19/train/normal/NORMAL2-IM-1351-0001.jpeg`\u001b[0m.\n",
      "\u001b[0m\u001b[m\u001b[32;1mRemoving `myminio/dataset/covid19/train/normal/NORMAL2-IM-1356-0001.jpeg`\u001b[0m.\n",
      "\u001b[0m\u001b[m\u001b[32;1mRemoving `myminio/dataset/covid19/train/normal/NORMAL2-IM-1357-0001.jpeg`\u001b[0m.\n",
      "\u001b[0m\u001b[m\u001b[32;1mRemoving `myminio/dataset/covid19/train/normal/NORMAL2-IM-1360-0001.jpeg`\u001b[0m.\n",
      "\u001b[0m\u001b[m\u001b[32;1mRemoving `myminio/dataset/covid19/train/normal/NORMAL2-IM-1362-0001.jpeg`\u001b[0m.\n",
      "\u001b[0m\u001b[m\u001b[32;1mRemoving `myminio/dataset/covid19/train/normal/NORMAL2-IM-1365-0001.jpeg`\u001b[0m.\n",
      "\u001b[0m\u001b[m\u001b[32;1mRemoving `myminio/dataset/covid19/train/normal/NORMAL2-IM-1371-0001.jpeg`\u001b[0m.\n",
      "\u001b[0m\u001b[m\u001b[32;1mRemoving `myminio/dataset/covid19/train/normal/NORMAL2-IM-1376-0001.jpeg`\u001b[0m.\n",
      "\u001b[0m\u001b[m\u001b[32;1mRemoving `myminio/dataset/covid19/train/normal/NORMAL2-IM-1379-0001.jpeg`\u001b[0m.\n",
      "\u001b[0m\u001b[m\u001b[32;1mRemoving `myminio/dataset/covid19/train/pneumonia_bac/person1843_bacteria_4710.jpeg`\u001b[0m.\n",
      "\u001b[0m\u001b[m\u001b[32;1mRemoving `myminio/dataset/covid19/train/pneumonia_bac/person1847_bacteria_4716.jpeg`\u001b[0m.\n",
      "\u001b[0m\u001b[m\u001b[32;1mRemoving `myminio/dataset/covid19/train/pneumonia_bac/person1848_bacteria_4719.jpeg`\u001b[0m.\n",
      "\u001b[0m\u001b[m\u001b[32;1mRemoving `myminio/dataset/covid19/train/pneumonia_bac/person1850_bacteria_4721.jpeg`\u001b[0m.\n",
      "\u001b[0m\u001b[m\u001b[32;1mRemoving `myminio/dataset/covid19/train/pneumonia_bac/person1851_bacteria_4722.jpeg`\u001b[0m.\n",
      "\u001b[0m\u001b[m\u001b[32;1mRemoving `myminio/dataset/covid19/train/pneumonia_bac/person1852_bacteria_4724.jpeg`\u001b[0m.\n",
      "\u001b[0m\u001b[m\u001b[32;1mRemoving `myminio/dataset/covid19/train/pneumonia_bac/person1855_bacteria_4727.jpeg`\u001b[0m.\n",
      "\u001b[0m\u001b[m\u001b[32;1mRemoving `myminio/dataset/covid19/train/pneumonia_bac/person1857_bacteria_4729.jpeg`\u001b[0m.\n",
      "\u001b[0m\u001b[m\u001b[32;1mRemoving `myminio/dataset/covid19/train/pneumonia_bac/person1858_bacteria_4730.jpeg`\u001b[0m.\n",
      "\u001b[0m\u001b[m\u001b[32;1mRemoving `myminio/dataset/covid19/train/pneumonia_bac/person1859_bacteria_4731.jpeg`\u001b[0m.\n",
      "\u001b[0m\u001b[m\u001b[32;1mRemoving `myminio/dataset/covid19/train/pneumonia_bac/person1860_bacteria_4732.jpeg`\u001b[0m.\n",
      "\u001b[0m\u001b[m\u001b[32;1mRemoving `myminio/dataset/covid19/train/pneumonia_bac/person1863_bacteria_4735.jpeg`\u001b[0m.\n",
      "\u001b[0m\u001b[m\u001b[32;1mRemoving `myminio/dataset/covid19/train/pneumonia_bac/person1864_bacteria_4736.jpeg`\u001b[0m.\n",
      "\u001b[0m\u001b[m\u001b[32;1mRemoving `myminio/dataset/covid19/train/pneumonia_bac/person1865_bacteria_4737.jpeg`\u001b[0m.\n",
      "\u001b[0m\u001b[m\u001b[32;1mRemoving `myminio/dataset/covid19/train/pneumonia_bac/person1865_bacteria_4739.jpeg`\u001b[0m.\n",
      "\u001b[0m\u001b[m\u001b[32;1mRemoving `myminio/dataset/covid19/train/pneumonia_bac/person1866_bacteria_4740.jpeg`\u001b[0m.\n",
      "\u001b[0m\u001b[m\u001b[32;1mRemoving `myminio/dataset/covid19/train/pneumonia_bac/person1867_bacteria_4741.jpeg`\u001b[0m.\n",
      "\u001b[0m\u001b[m\u001b[32;1mRemoving `myminio/dataset/covid19/train/pneumonia_bac/person1868_bacteria_4743.jpeg`\u001b[0m.\n",
      "\u001b[0m\u001b[m\u001b[32;1mRemoving `myminio/dataset/covid19/train/pneumonia_bac/person1869_bacteria_4745.jpeg`\u001b[0m.\n",
      "\u001b[0m\u001b[m\u001b[32;1mRemoving `myminio/dataset/covid19/train/pneumonia_bac/person1872_bacteria_4750.jpeg`\u001b[0m.\n",
      "\u001b[0m\u001b[m\u001b[32;1mRemoving `myminio/dataset/covid19/train/pneumonia_bac/person1872_bacteria_4751.jpeg`\u001b[0m.\n",
      "\u001b[0m\u001b[m\u001b[32;1mRemoving `myminio/dataset/covid19/train/pneumonia_bac/person1875_bacteria_4756.jpeg`\u001b[0m.\n",
      "\u001b[0m\u001b[m\u001b[32;1mRemoving `myminio/dataset/covid19/train/pneumonia_bac/person1876_bacteria_4760.jpeg`\u001b[0m.\n",
      "\u001b[0m\u001b[m\u001b[32;1mRemoving `myminio/dataset/covid19/train/pneumonia_bac/person1877_bacteria_4761.jpeg`\u001b[0m.\n",
      "\u001b[0m\u001b[m\u001b[32;1mRemoving `myminio/dataset/covid19/train/pneumonia_bac/person1879_bacteria_4764.jpeg`\u001b[0m.\n",
      "\u001b[0m\u001b[m\u001b[32;1mRemoving `myminio/dataset/covid19/train/pneumonia_bac/person1880_bacteria_4765.jpeg`\u001b[0m.\n",
      "\u001b[0m\u001b[m\u001b[32;1mRemoving `myminio/dataset/covid19/train/pneumonia_bac/person1881_bacteria_4767.jpeg`\u001b[0m.\n",
      "\u001b[0m\u001b[m\u001b[32;1mRemoving `myminio/dataset/covid19/train/pneumonia_bac/person1883_bacteria_4769.jpeg`\u001b[0m.\n",
      "\u001b[0m\u001b[m\u001b[32;1mRemoving `myminio/dataset/covid19/train/pneumonia_bac/person1884_bacteria_4771.jpeg`\u001b[0m.\n",
      "\u001b[0m\u001b[m\u001b[32;1mRemoving `myminio/dataset/covid19/train/pneumonia_bac/person1885_bacteria_4772.jpeg`\u001b[0m.\n",
      "\u001b[0m\u001b[m\u001b[32;1mRemoving `myminio/dataset/covid19/train/pneumonia_bac/person1886_bacteria_4773.jpeg`\u001b[0m.\n",
      "\u001b[0m\u001b[m\u001b[32;1mRemoving `myminio/dataset/covid19/train/pneumonia_bac/person1888_bacteria_4775.jpeg`\u001b[0m.\n",
      "\u001b[0m\u001b[m\u001b[32;1mRemoving `myminio/dataset/covid19/train/pneumonia_bac/person1893_bacteria_4781.jpeg`\u001b[0m.\n",
      "\u001b[0m\u001b[m\u001b[32;1mRemoving `myminio/dataset/covid19/train/pneumonia_bac/person1896_bacteria_4788.jpeg`\u001b[0m.\n",
      "\u001b[0m\u001b[m\u001b[32;1mRemoving `myminio/dataset/covid19/train/pneumonia_bac/person1897_bacteria_4789.jpeg`\u001b[0m.\n",
      "\u001b[0m\u001b[m\u001b[32;1mRemoving `myminio/dataset/covid19/train/pneumonia_bac/person1901_bacteria_4795.jpeg`\u001b[0m.\n",
      "\u001b[0m\u001b[m\u001b[32;1mRemoving `myminio/dataset/covid19/train/pneumonia_bac/person1903_bacteria_4797.jpeg`\u001b[0m.\n",
      "\u001b[0m\u001b[m\u001b[32;1mRemoving `myminio/dataset/covid19/train/pneumonia_bac/person1904_bacteria_4798.jpeg`\u001b[0m.\n",
      "\u001b[0m\u001b[m\u001b[32;1mRemoving `myminio/dataset/covid19/train/pneumonia_bac/person1905_bacteria_4801.jpeg`\u001b[0m.\n",
      "\u001b[0m\u001b[m\u001b[32;1mRemoving `myminio/dataset/covid19/train/pneumonia_bac/person1906_bacteria_4803.jpeg`\u001b[0m.\n",
      "\u001b[0m\u001b[m\u001b[32;1mRemoving `myminio/dataset/covid19/train/pneumonia_bac/person1907_bacteria_4806.jpeg`\u001b[0m.\n",
      "\u001b[0m\u001b[m\u001b[32;1mRemoving `myminio/dataset/covid19/train/pneumonia_bac/person1908_bacteria_4811.jpeg`\u001b[0m.\n",
      "\u001b[0m\u001b[m\u001b[32;1mRemoving `myminio/dataset/covid19/train/pneumonia_bac/person1910_bacteria_4814.jpeg`\u001b[0m.\n",
      "\u001b[0m\u001b[m\u001b[32;1mRemoving `myminio/dataset/covid19/train/pneumonia_bac/person1911_bacteria_4815.jpeg`\u001b[0m.\n",
      "\u001b[0m\u001b[m\u001b[32;1mRemoving `myminio/dataset/covid19/train/pneumonia_bac/person1912_bacteria_4816.jpeg`\u001b[0m.\n",
      "\u001b[0m\u001b[m\u001b[32;1mRemoving `myminio/dataset/covid19/train/pneumonia_bac/person1912_bacteria_4817.jpeg`\u001b[0m.\n",
      "\u001b[0m\u001b[m\u001b[32;1mRemoving `myminio/dataset/covid19/train/pneumonia_bac/person1916_bacteria_4821.jpeg`\u001b[0m.\n",
      "\u001b[0m\u001b[m\u001b[32;1mRemoving `myminio/dataset/covid19/train/pneumonia_bac/person1917_bacteria_4823.jpeg`\u001b[0m.\n",
      "\u001b[0m\u001b[m\u001b[32;1mRemoving `myminio/dataset/covid19/train/pneumonia_bac/person1918_bacteria_4825.jpeg`\u001b[0m.\n",
      "\u001b[0m\u001b[m\u001b[32;1mRemoving `myminio/dataset/covid19/train/pneumonia_bac/person1921_bacteria_4828.jpeg`\u001b[0m.\n",
      "\u001b[0m\u001b[m\u001b[32;1mRemoving `myminio/dataset/covid19/train/pneumonia_bac/person1922_bacteria_4830.jpeg`\u001b[0m.\n",
      "\u001b[0m\u001b[m\u001b[32;1mRemoving `myminio/dataset/covid19/train/pneumonia_bac/person1923_bacteria_4831.jpeg`\u001b[0m.\n",
      "\u001b[0m\u001b[m\u001b[32;1mRemoving `myminio/dataset/covid19/train/pneumonia_bac/person1924_bacteria_4832.jpeg`\u001b[0m.\n",
      "\u001b[0m\u001b[m\u001b[32;1mRemoving `myminio/dataset/covid19/train/pneumonia_bac/person1924_bacteria_4833.jpeg`\u001b[0m.\n",
      "\u001b[0m\u001b[m\u001b[32;1mRemoving `myminio/dataset/covid19/train/pneumonia_bac/person1926_bacteria_4835.jpeg`\u001b[0m.\n",
      "\u001b[0m\u001b[m\u001b[32;1mRemoving `myminio/dataset/covid19/train/pneumonia_bac/person1927_bacteria_4836.jpeg`\u001b[0m.\n",
      "\u001b[0m\u001b[m\u001b[32;1mRemoving `myminio/dataset/covid19/train/pneumonia_bac/person1927_bacteria_4837.jpeg`\u001b[0m.\n",
      "\u001b[0m\u001b[m\u001b[32;1mRemoving `myminio/dataset/covid19/train/pneumonia_bac/person1929_bacteria_4839.jpeg`\u001b[0m.\n",
      "\u001b[0m\u001b[m\u001b[32;1mRemoving `myminio/dataset/covid19/train/pneumonia_bac/person1930_bacteria_4841.jpeg`\u001b[0m.\n",
      "\u001b[0m\u001b[m\u001b[32;1mRemoving `myminio/dataset/covid19/train/pneumonia_bac/person1931_bacteria_4842.jpeg`\u001b[0m.\n",
      "\u001b[0m\u001b[m\u001b[32;1mRemoving `myminio/dataset/covid19/train/pneumonia_bac/person1932_bacteria_4843.jpeg`\u001b[0m.\n",
      "\u001b[0m\u001b[m\u001b[32;1mRemoving `myminio/dataset/covid19/train/pneumonia_bac/person1933_bacteria_4844.jpeg`\u001b[0m.\n",
      "\u001b[0m\u001b[m\u001b[32;1mRemoving `myminio/dataset/covid19/train/pneumonia_bac/person1934_bacteria_4846.jpeg`\u001b[0m.\n",
      "\u001b[0m\u001b[m\u001b[32;1mRemoving `myminio/dataset/covid19/train/pneumonia_bac/person1935_bacteria_4847.jpeg`\u001b[0m.\n",
      "\u001b[0m\u001b[m\u001b[32;1mRemoving `myminio/dataset/covid19/train/pneumonia_bac/person1935_bacteria_4848.jpeg`\u001b[0m.\n",
      "\u001b[0m\u001b[m\u001b[32;1mRemoving `myminio/dataset/covid19/train/pneumonia_bac/person1935_bacteria_4849.jpeg`\u001b[0m.\n",
      "\u001b[0m\u001b[m\u001b[32;1mRemoving `myminio/dataset/covid19/train/pneumonia_bac/person1935_bacteria_4850.jpeg`\u001b[0m.\n",
      "\u001b[0m\u001b[m\u001b[32;1mRemoving `myminio/dataset/covid19/train/pneumonia_bac/person1936_bacteria_4852.jpeg`\u001b[0m.\n",
      "\u001b[0m\u001b[m\u001b[32;1mRemoving `myminio/dataset/covid19/train/pneumonia_bac/person1937_bacteria_4853.jpeg`\u001b[0m.\n",
      "\u001b[0m\u001b[m\u001b[32;1mRemoving `myminio/dataset/covid19/train/pneumonia_bac/person1938_bacteria_4854.jpeg`\u001b[0m.\n",
      "...4854.jpeg:  75.02 MiB / 75.02 MiB ┃▓▓▓▓▓▓▓▓▓▓▓▓▓▓▓▓▓▓▓▓▓▓▓▓▓┃ 128.73 MiB/s 0s\u001b[0m\u001b[0m\u001b[m\u001b[32;1m\u001b[m\u001b[32;1m\u001b[m\u001b[32;1m\u001b[m\u001b[32;1m\u001b[m\u001b[32;1m\n",
      "\n",
      "========================================\n",
      "Minio 레파지토리에 model bucet 생성\n",
      "----------------------------------------\n",
      "\n",
      "\u001b[m\u001b[32;1mRemoving `myminio/model/covid19/1/saved_model.pb`\u001b[0m.\n",
      "\u001b[0m\u001b[m\u001b[32;1mRemoving `myminio/model/covid19/1/variables/variables.data-00000-of-00001`\u001b[0m.\n",
      "\u001b[0m\u001b[m\u001b[32;1mRemoving `myminio/model/covid19/1/variables/variables.index`\u001b[0m.\n",
      "\u001b[0m\u001b[m\u001b[32m[2020-12-07 17:55:53 UTC]\u001b[0m\u001b[33m     0B\u001b[0m\u001b[36;1m covid19/\u001b[0m\n",
      "\u001b[0m\n",
      "========================================\n",
      "완료\n",
      "----------------------------------------\n",
      "\n"
     ]
    }
   ],
   "source": [
    "! ../01-prerequisite/00-uploadDataset-covid19.sh"
   ]
  },
  {
   "cell_type": "markdown",
   "metadata": {
    "tags": []
   },
   "source": [
    "# Covid19-Pneumonia-3-categories-classification"
   ]
  },
  {
   "cell_type": "code",
   "execution_count": 1,
   "metadata": {
    "tags": []
   },
   "outputs": [],
   "source": [
    "from tensorflow.keras.layers import AveragePooling2D, Dropout, Flatten, Dense, Input, BatchNormalization\n",
    "from tensorflow.keras.models import Model, Sequential\n",
    "from tensorflow.keras.optimizers import Adam\n",
    "from tensorflow.keras.utils import to_categorical\n",
    "from tensorflow.keras import optimizers, models, layers\n",
    "from tensorflow.keras.models import save_model, load_model\n",
    "from tensorflow.keras.applications.inception_v3 import InceptionV3\n",
    "from tensorflow.keras.applications import ResNet50V2\n",
    "\n",
    "from tensorflow.keras.preprocessing.image import ImageDataGenerator\n",
    "from sklearn.preprocessing import LabelEncoder, OneHotEncoder\n",
    "from sklearn.model_selection import train_test_split\n",
    "from sklearn.metrics import classification_report, confusion_matrix\n",
    "from imutils import paths\n",
    "import matplotlib.pyplot as plt\n",
    "import numpy as np\n",
    "import cv2\n",
    "import os\n",
    "import io\n",
    "from PIL import Image\n",
    "\n",
    "from minio import Minio\n",
    "from minio.error import ResponseError"
   ]
  },
  {
   "cell_type": "markdown",
   "metadata": {
    "tags": []
   },
   "source": [
    "# Data Preparation"
   ]
  },
  {
   "cell_type": "code",
   "execution_count": 2,
   "metadata": {
    "tags": []
   },
   "outputs": [
    {
     "name": "stdout",
     "output_type": "stream",
     "text": [
      "Loading images...\n"
     ]
    }
   ],
   "source": [
    "print(\"Loading images...\")\n",
    "\n",
    "minioClient = Minio(\n",
    "                'minio-service.kubeflow:9000',\n",
    "                access_key='minio', \n",
    "                secret_key='minio123', \n",
    "                secure=False\n",
    "            )\n",
    "\n",
    "data = []\n",
    "labels = []\n",
    "Testdata = []\n",
    "Testlabels = []\n",
    "\n",
    "# read all X-Rays in the specified path, and resize them all to 256x256\n",
    "\n",
    "for i in minioClient.list_objects('dataset', prefix='covid19', recursive=True):\n",
    "    label = i.object_name.split(os.path.sep)[-2]\n",
    "    usage = i.object_name.split(os.path.sep)[-3]\n",
    "    minioObj = minioClient.get_object('dataset', i.object_name)\n",
    "    byteArray = minioObj.read()\n",
    "    pil_image = Image.open(io.BytesIO(byteArray)).convert('RGB')\n",
    "    image = cv2.cvtColor(np.array(pil_image), cv2.COLOR_RGB2BGR)\n",
    "    image = cv2.resize(image, (256, 256))\n",
    "    if usage == 'train':\n",
    "        data.append(image)\n",
    "        labels.append(label)\n",
    "    else :\n",
    "        Testdata.append(image)\n",
    "        Testlabels.append(label)\n",
    "        "
   ]
  },
  {
   "cell_type": "code",
   "execution_count": 3,
   "metadata": {
    "tags": []
   },
   "outputs": [],
   "source": [
    "#normalise pixel values to real numbers between 0.0 - 1.0 \n",
    "data = np.array(data) / 255.0\n",
    "labels = np.array(labels)"
   ]
  },
  {
   "cell_type": "code",
   "execution_count": 4,
   "metadata": {
    "tags": []
   },
   "outputs": [
    {
     "name": "stdout",
     "output_type": "stream",
     "text": [
      "... ...  200 images loaded in 3x classes:\n",
      "['covid' 'normal' 'pneumonia_bac']\n"
     ]
    }
   ],
   "source": [
    "# perform one-hot encoding for a 3-class labeling \n",
    "label_encoder = LabelEncoder()\n",
    "integer_encoded = label_encoder.fit_transform(labels)\n",
    "labels = to_categorical(integer_encoded)\n",
    "\n",
    "print(\"... ... \", len(data), \"images loaded in 3x classes:\")\n",
    "print(label_encoder.classes_)"
   ]
  },
  {
   "cell_type": "code",
   "execution_count": 5,
   "metadata": {},
   "outputs": [
    {
     "data": {
      "text/plain": [
       "((160, 256, 256, 3), (40, 256, 256, 3), (160, 3))"
      ]
     },
     "execution_count": 5,
     "metadata": {},
     "output_type": "execute_result"
    }
   ],
   "source": [
    "(x_train, x_val, y_train, y_val) = train_test_split(data, labels, test_size=0.20, stratify=labels)\n",
    "x_train.shape, x_val.shape, y_train.shape"
   ]
  },
  {
   "cell_type": "markdown",
   "metadata": {
    "tags": []
   },
   "source": [
    "# Model 구성"
   ]
  },
  {
   "cell_type": "code",
   "execution_count": 7,
   "metadata": {},
   "outputs": [],
   "source": [
    "# Hyperparameters \n",
    "LEARNING_RATE = 0.00001 # List: 0.001, 0.0001, 0.0003, 0.00001, 0.00003\n",
    "DENSE = 128             # Range: 50-200"
   ]
  },
  {
   "cell_type": "code",
   "execution_count": 8,
   "metadata": {},
   "outputs": [
    {
     "name": "stdout",
     "output_type": "stream",
     "text": [
      "Model: \"sequential\"\n",
      "_________________________________________________________________\n",
      "Layer (type)                 Output Shape              Param #   \n",
      "=================================================================\n",
      "resnet50v2 (Model)           (None, 8, 8, 2048)        23564800  \n",
      "_________________________________________________________________\n",
      "batch_normalization (BatchNo (None, 8, 8, 2048)        8192      \n",
      "_________________________________________________________________\n",
      "flatten (Flatten)            (None, 131072)            0         \n",
      "_________________________________________________________________\n",
      "dense (Dense)                (None, 128)               16777344  \n",
      "_________________________________________________________________\n",
      "dense_1 (Dense)              (None, 128)               16512     \n",
      "_________________________________________________________________\n",
      "dense_2 (Dense)              (None, 3)                 387       \n",
      "=================================================================\n",
      "Total params: 40,367,235\n",
      "Trainable params: 16,798,339\n",
      "Non-trainable params: 23,568,896\n",
      "_________________________________________________________________\n"
     ]
    }
   ],
   "source": [
    "model = Sequential()\n",
    "adam_s = Adam(learning_rate = LEARNING_RATE)\n",
    "\n",
    "#model.add(VGG16(input_shape=(224, 224, 3), include_top=False, weights='imagenet', pooling='average'))\n",
    "model.add(ResNet50V2(input_shape=(256, 256, 3),include_top=False, weights='imagenet',pooling='average'))\n",
    "\n",
    "for layer in model.layers:\n",
    "    layer.trainable = False\n",
    "\n",
    "model.add(BatchNormalization())\n",
    "model.add(Flatten())\n",
    "model.add(Dense(DENSE, activation='relu'))\n",
    "model.add(Dense(DENSE, activation='relu'))\n",
    "model.add(Dense(3, activation='softmax'))\n",
    "model.compile(loss='categorical_crossentropy', optimizer=adam_s, metrics=['accuracy'])\n",
    "\n",
    "model.summary()"
   ]
  },
  {
   "cell_type": "markdown",
   "metadata": {
    "tags": []
   },
   "source": [
    "# Model 학습"
   ]
  },
  {
   "cell_type": "code",
   "execution_count": 9,
   "metadata": {
    "tags": []
   },
   "outputs": [
    {
     "name": "stdout",
     "output_type": "stream",
     "text": [
      "Training the full stack model...\n",
      "Train on 160 samples, validate on 40 samples\n",
      "Epoch 1/3\n",
      "160/160 [==============================] - 19s 116ms/sample - loss: 1.0694 - accuracy: 0.5125 - val_loss: 3.5895 - val_accuracy: 0.3750\n",
      "Epoch 2/3\n",
      "160/160 [==============================] - 15s 95ms/sample - loss: 0.4072 - accuracy: 0.8938 - val_loss: 3.0032 - val_accuracy: 0.4000\n",
      "Epoch 3/3\n",
      "160/160 [==============================] - 15s 96ms/sample - loss: 0.1958 - accuracy: 0.9750 - val_loss: 2.5573 - val_accuracy: 0.4000\n"
     ]
    }
   ],
   "source": [
    "# train the head of the network\n",
    "print(\"Training the full stack model...\")\n",
    "# hist = model.fit(x_train, y_train, epochs=40, validation_data=(x_val, y_val), batch_size=8)\n",
    "hist = model.fit(x_train, y_train, epochs=3, validation_data=(x_val, y_val), batch_size=8)"
   ]
  },
  {
   "cell_type": "code",
   "execution_count": 10,
   "metadata": {},
   "outputs": [
    {
     "data": {
      "image/png": "[encoded data removed]",
      "text/plain": [
       "<Figure size 432x288 with 1 Axes>"
      ]
     },
     "metadata": {
      "needs_background": "light"
     },
     "output_type": "display_data"
    },
    {
     "data": {
      "image/png": "[encoded data removed]",
      "text/plain": [
       "<Figure size 432x288 with 1 Axes>"
      ]
     },
     "metadata": {
      "needs_background": "light"
     },
     "output_type": "display_data"
    }
   ],
   "source": [
    "## summarize history for accuracy\n",
    "plt.plot(hist.history['accuracy'])\n",
    "plt.plot(hist.history['val_accuracy'])\n",
    "plt.title('model accuracy')\n",
    "plt.ylabel('accuracy')\n",
    "plt.xlabel('epoch')\n",
    "plt.legend(['train', 'test'], loc='upper left')\n",
    "plt.show()\n",
    "\n",
    "## summarize history for loss\n",
    "plt.plot(hist.history['loss'])\n",
    "plt.plot(hist.history['val_loss'])\n",
    "plt.title('model loss')\n",
    "plt.ylabel('loss')\n",
    "plt.xlabel('epoch')\n",
    "plt.legend(['train', 'test'], loc='upper left')\n",
    "plt.show()"
   ]
  },
  {
   "cell_type": "code",
   "execution_count": 11,
   "metadata": {
    "tags": []
   },
   "outputs": [
    {
     "name": "stdout",
     "output_type": "stream",
     "text": [
      "0.975\n",
      "0.4\n"
     ]
    }
   ],
   "source": [
    "loss         = hist.history['loss']\n",
    "accuracy     = hist.history['accuracy']\n",
    "val_loss     = hist.history['val_loss']\n",
    "val_accuracy = hist.history['val_accuracy']\n",
    "\n",
    "##print(loss        )\n",
    "print(accuracy[-1]    )\n",
    "##print(val_loss    )\n",
    "print(val_accuracy[-1])"
   ]
  },
  {
   "cell_type": "markdown",
   "metadata": {
    "tags": []
   },
   "source": [
    "# Model 평가"
   ]
  },
  {
   "cell_type": "code",
   "execution_count": 10,
   "metadata": {
    "tags": []
   },
   "outputs": [
    {
     "data": {
      "text/plain": [
       "((27, 256, 256, 3), (27, 3))"
      ]
     },
     "execution_count": 10,
     "metadata": {},
     "output_type": "execute_result"
    }
   ],
   "source": [
    "#normalise pixel values to real numbers between 0.0 - 1.0 \n",
    "Testdata_n = np.array(Testdata) / 255.0\n",
    "Testlabels_n = np.array(Testlabels)\n",
    "\n",
    "# perform one-hot encoding for a 3-class labeling \n",
    "label_encoder = LabelEncoder()\n",
    "Testinteger_encoded = label_encoder.fit_transform(Testlabels_n)\n",
    "Testlabels_c = to_categorical(Testinteger_encoded)\n",
    "\n",
    "x_test = Testdata_n\n",
    "y_test = Testlabels_c\n",
    "x_test.shape, y_test.shape"
   ]
  },
  {
   "cell_type": "code",
   "execution_count": 7,
   "metadata": {},
   "outputs": [
    {
     "ename": "NameError",
     "evalue": "name 'model' is not defined",
     "output_type": "error",
     "traceback": [
      "\u001b[0;31m---------------------------------------------------------------------------\u001b[0m",
      "\u001b[0;31mNameError\u001b[0m                                 Traceback (most recent call last)",
      "\u001b[0;32m<ipython-input-7-5cac48e5c4c2>\u001b[0m in \u001b[0;36m<module>\u001b[0;34m\u001b[0m\n\u001b[1;32m      1\u001b[0m \u001b[0;31m#model = models.load_model(\"s3://model/new-covid/1/saved_model.pb\")\u001b[0m\u001b[0;34m\u001b[0m\u001b[0;34m\u001b[0m\u001b[0;34m\u001b[0m\u001b[0m\n\u001b[0;32m----> 2\u001b[0;31m \u001b[0meval\u001b[0m \u001b[0;34m=\u001b[0m \u001b[0mmodel\u001b[0m\u001b[0;34m.\u001b[0m\u001b[0mevaluate\u001b[0m\u001b[0;34m(\u001b[0m\u001b[0mx_test\u001b[0m\u001b[0;34m,\u001b[0m \u001b[0my_test\u001b[0m\u001b[0;34m)\u001b[0m\u001b[0;34m\u001b[0m\u001b[0;34m\u001b[0m\u001b[0m\n\u001b[0m",
      "\u001b[0;31mNameError\u001b[0m: name 'model' is not defined"
     ]
    }
   ],
   "source": [
    "#model = models.load_model(\"s3://model/new-covid/1/saved_model.pb\")\n",
    "eval = model.evaluate(x_test, y_test)"
   ]
  },
  {
   "cell_type": "code",
   "execution_count": 14,
   "metadata": {
    "tags": []
   },
   "outputs": [
    {
     "name": "stdout",
     "output_type": "stream",
     "text": [
      "test loss, test acc: [2.030705213546753, 0.44444445]\n"
     ]
    }
   ],
   "source": [
    "print(\"test loss, test acc:\", eval)"
   ]
  },
  {
   "cell_type": "markdown",
   "metadata": {
    "tags": []
   },
   "source": [
    "# Serving Test용 input json 생성"
   ]
  },
  {
   "cell_type": "code",
   "execution_count": 16,
   "metadata": {},
   "outputs": [
    {
     "name": "stdout",
     "output_type": "stream",
     "text": [
      "(1, 256, 256, 3)\n"
     ]
    }
   ],
   "source": [
    "import json\n",
    "\n",
    "#get some sample data\n",
    "sample_test_data = x_test[2]  #[0:2]\n",
    "sample_test_labels = y_test[2] #[0:2]\n",
    "\n",
    "class_names = ['covid', 'normal', 'pneumonia_bac']\n",
    "\n",
    "# pre-process data \n",
    "#sample_test_data_processed = np.expand_dims(sample_test_data / 255., axis=3)\n",
    "\n",
    "sample_test_data = np.expand_dims(sample_test_data, axis=0)\n",
    "print(sample_test_data.shape)\n",
    "\n",
    "sample_test_data_processed = sample_test_data\n",
    "\n",
    "# create payload\n",
    "data = json.dumps({\"signature_name\": \"serving_default\", \n",
    "                   \"instances\": sample_test_data_processed.tolist()})\n",
    "\n",
    "#with open(\"image_data.json\", \"w\") as json_file:\n",
    "#    json.dump(data, json_file)\n",
    "with open(\"image_data2.json\", \"w\") as text_file:\n",
    "    text_file.write(\"%s\" % data)"
   ]
  },
  {
   "cell_type": "code",
   "execution_count": 16,
   "metadata": {
    "tags": []
   },
   "outputs": [
    {
     "name": "stdout",
     "output_type": "stream",
     "text": [
      "[[3 6 0]\n",
      " [0 9 0]\n",
      " [0 9 0]]\n",
      " \n",
      "accuracy: 0.4444\n",
      "sensitivity: 0.3333\n",
      "specificity: 1.0000\n"
     ]
    }
   ],
   "source": [
    "pred = model.predict(x_test)\n",
    "pred = np.argmax(pred, axis=1)\n",
    "\n",
    "cm = confusion_matrix(y_test.argmax(axis=1), pred)\n",
    "total = sum(sum(cm))\n",
    "acc = (cm[0, 0] + cm[1, 1] + cm[2, 2]) / total\n",
    "sensitivity = cm[0, 0] / (cm[0, 0] + cm[0, 1] + cm[0, 2])\n",
    "specificity = (cm[1, 1] + cm[1, 2] + cm[2, 1] + cm[2, 2]) / (cm[1, 0] + cm[1, 1] + cm[1, 2] + cm[2, 0] + cm[2, 1] + cm[2, 2])\n",
    "\n",
    "print(cm)\n",
    "print(\" \")\n",
    "print(\"accuracy: {:.4f}\".format(acc))\n",
    "print(\"sensitivity: {:.4f}\".format(sensitivity))\n",
    "print(\"specificity: {:.4f}\".format(specificity))"
   ]
  },
  {
   "cell_type": "markdown",
   "metadata": {
    "tags": []
   },
   "source": [
    "# Model 저장"
   ]
  },
  {
   "cell_type": "code",
   "execution_count": 17,
   "metadata": {
    "tags": []
   },
   "outputs": [
    {
     "name": "stdout",
     "output_type": "stream",
     "text": [
      "WARNING:tensorflow:From /usr/local/lib/python3.6/dist-packages/tensorflow_core/python/ops/resource_variable_ops.py:1786: calling BaseResourceVariable.__init__ (from tensorflow.python.ops.resource_variable_ops) with constraint is deprecated and will be removed in a future version.\n",
      "Instructions for updating:\n",
      "If using Keras pass *_constraint arguments to layers.\n",
      "INFO:tensorflow:Assets written to: s3://model/covid19/1/assets\n"
     ]
    }
   ],
   "source": [
    "os.environ.update({\n",
    "    'S3_ENDPOINT'          : 'minio-service.kubeflow:9000',\n",
    "    'AWS_ACCESS_KEY_ID'    : 'minio',\n",
    "    'AWS_SECRET_ACCESS_KEY': 'minio123',\n",
    "    'S3_USE_HTTPS'         : '0',   # Whether or not to use HTTPS. Disable with 0.                        \n",
    "    'S3_VERIFY_SSL'        : '0'    # If HTTPS is used, controls if SSL should be enabled. Disable with 0.\n",
    "})  \n",
    "\n",
    "model.save(\"s3://model/covid19/1\")"
   ]
  }
 ],
 "metadata": {
  "kernelspec": {
   "display_name": "Python 3",
   "language": "python",
   "name": "python3"
  },
  "kubeflow_notebook": {
   "autosnapshot": false,
   "docker_image": "reddiana/jupyterlab-kale:latest",
   "experiment": {
    "id": "",
    "name": ""
   },
   "experiment_name": "",
   "katib_metadata": {
    "algorithm": {
     "algorithmName": "grid"
    },
    "maxFailedTrialCount": 3,
    "maxTrialCount": 12,
    "objective": {
     "objectiveMetricName": "",
     "type": "minimize"
    },
    "parallelTrialCount": 3,
    "parameters": []
   },
   "katib_run": false,
   "pipeline_description": "",
   "pipeline_name": "",
   "snapshot_volumes": false,
   "steps_defaults": [],
   "volumes": []
  },
  "language_info": {
   "codemirror_mode": {
    "name": "ipython",
    "version": 3
   },
   "file_extension": ".py",
   "mimetype": "text/x-python",
   "name": "python",
   "nbconvert_exporter": "python",
   "pygments_lexer": "ipython3",
   "version": "3.6.9"
  }
 },
 "nbformat": 4,
 "nbformat_minor": 4
}
